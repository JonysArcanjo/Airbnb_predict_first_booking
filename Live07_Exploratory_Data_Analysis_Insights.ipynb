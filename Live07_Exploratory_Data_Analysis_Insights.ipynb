{
 "cells": [
  {
   "cell_type": "markdown",
   "id": "2d6068e4-90d3-4066-bbc5-fa99ed8201cb",
   "metadata": {},
   "source": [
    "## 0.0 Entender o problema"
   ]
  },
  {
   "cell_type": "markdown",
   "id": "b945ca69-38dc-41db-ae26-83b2c69e1290",
   "metadata": {},
   "source": [
    "-- Objetivo do problema:\n",
    "    -- 1.0 Previsão do primeiro destino que um novo usuário irá escolher.\n",
    "    \n",
    "    --Porque?\n",
    "      --Qual tipo de modelo de negócio do Airbnb?\n",
    "        --Marketplace (Conectar pessoas que oferecem acomodação, com as pessoas que estão procurando acomodação).\n",
    "        \n",
    "        --Oferta (pessoas oferecendo acomodação)\n",
    "            --Tamanho do Portfólio.\n",
    "            -- diversidade/Densidade de Portfólio.\n",
    "            --Preço médio\n",
    "        \n",
    "        --Demanda (pessoa procurando acomodação)\n",
    "             --Número de Usuários \n",
    "             --LTV (LifeTime Value)\n",
    "             --CAC (Client Aquisition Cost)\n",
    "        \n",
    "        Gross Revenue = (Fee * Numero de clientes) - CAC\n",
    "        \n",
    "        --Demanda (pessoas procurando acomodação)\n",
    "        \n",
    "        \n",
    "--Proposta da solução:\n",
    "\n",
    "    --- Modelo de previsão do primeiro destino de um novo usuário.\n",
    "    \n",
    "    --- 1.0 Predições e salvar em uma tabela de bando de dados.\n",
    "    \n",
    "    ---2.0 Criar uma API\n",
    "        --- Input: usuario  e suas caracteristicas\n",
    "        --- Output: usuario e suas caracteristicas com a ** predição do destino**.\n",
    "\n",
    "        \n",
    "        "
   ]
  },
  {
   "cell_type": "markdown",
   "id": "a21ab163-5971-40c7-b880-bc72fafd5980",
   "metadata": {},
   "source": [
    "# 0.0 <font color ='red'>Ciclo01: End to End </font>"
   ]
  },
  {
   "cell_type": "markdown",
   "id": "c3d496e5-f96b-47d7-973e-e4d068dea7ec",
   "metadata": {
    "tags": []
   },
   "source": [
    "# 0.0 Imports"
   ]
  },
  {
   "cell_type": "code",
   "execution_count": 1,
   "id": "20c6b9f3-52b8-408e-b449-54472bc41a0b",
   "metadata": {},
   "outputs": [
    {
     "name": "stdout",
     "output_type": "stream",
     "text": [
      "Requirement already satisfied: scikit-plot in c:\\users\\jonys.arcanjo\\anaconda3\\lib\\site-packages (0.3.7)\n",
      "Requirement already satisfied: joblib>=0.10 in c:\\users\\jonys.arcanjo\\anaconda3\\lib\\site-packages (from scikit-plot) (1.1.0)\n",
      "Requirement already satisfied: scikit-learn>=0.18 in c:\\users\\jonys.arcanjo\\anaconda3\\lib\\site-packages (from scikit-plot) (1.0.2)\n",
      "Requirement already satisfied: scipy>=0.9 in c:\\users\\jonys.arcanjo\\anaconda3\\lib\\site-packages (from scikit-plot) (1.7.3)\n",
      "Requirement already satisfied: matplotlib>=1.4.0 in c:\\users\\jonys.arcanjo\\anaconda3\\lib\\site-packages (from scikit-plot) (3.5.0)\n",
      "Requirement already satisfied: pillow>=6.2.0 in c:\\users\\jonys.arcanjo\\anaconda3\\lib\\site-packages (from matplotlib>=1.4.0->scikit-plot) (8.4.0)\n",
      "Requirement already satisfied: fonttools>=4.22.0 in c:\\users\\jonys.arcanjo\\anaconda3\\lib\\site-packages (from matplotlib>=1.4.0->scikit-plot) (4.25.0)\n",
      "Requirement already satisfied: packaging>=20.0 in c:\\users\\jonys.arcanjo\\anaconda3\\lib\\site-packages (from matplotlib>=1.4.0->scikit-plot) (21.3)\n",
      "Requirement already satisfied: cycler>=0.10 in c:\\users\\jonys.arcanjo\\anaconda3\\lib\\site-packages (from matplotlib>=1.4.0->scikit-plot) (0.11.0)\n",
      "Requirement already satisfied: kiwisolver>=1.0.1 in c:\\users\\jonys.arcanjo\\anaconda3\\lib\\site-packages (from matplotlib>=1.4.0->scikit-plot) (1.3.1)\n",
      "Requirement already satisfied: pyparsing>=2.2.1 in c:\\users\\jonys.arcanjo\\anaconda3\\lib\\site-packages (from matplotlib>=1.4.0->scikit-plot) (3.0.4)\n",
      "Requirement already satisfied: numpy>=1.17 in c:\\users\\jonys.arcanjo\\anaconda3\\lib\\site-packages (from matplotlib>=1.4.0->scikit-plot) (1.21.2)\n",
      "Requirement already satisfied: python-dateutil>=2.7 in c:\\users\\jonys.arcanjo\\anaconda3\\lib\\site-packages (from matplotlib>=1.4.0->scikit-plot) (2.8.2)\n",
      "Requirement already satisfied: six>=1.5 in c:\\users\\jonys.arcanjo\\anaconda3\\lib\\site-packages (from python-dateutil>=2.7->matplotlib>=1.4.0->scikit-plot) (1.16.0)\n",
      "Requirement already satisfied: threadpoolctl>=2.0.0 in c:\\users\\jonys.arcanjo\\anaconda3\\lib\\site-packages (from scikit-learn>=0.18->scikit-plot) (2.2.0)\n"
     ]
    }
   ],
   "source": [
    "!pip install scikit-plot"
   ]
  },
  {
   "cell_type": "code",
   "execution_count": 64,
   "id": "73518930-3fc8-4d5b-a85d-ae0d168679ff",
   "metadata": {},
   "outputs": [],
   "source": [
    "import math\n",
    "from scipy.stats import chi2_contingency\n",
    "import scipy.stats as ss\n",
    "import pandas as pd\n",
    "import numpy as np\n",
    "import seaborn as sns\n",
    "import matplotlib.pyplot as plt\n",
    "import random\n",
    "import pickle\n",
    "\n",
    "import warnings\n",
    "\n",
    "warnings.filterwarnings( 'ignore' )\n",
    "\n",
    "import sklearn.model_selection\n",
    "from sklearn import model_selection as ms\n",
    "from sklearn import preprocessing   as pp\n",
    "from sklearn import metrics         as m\n",
    "from scikitplot import metrics      as mt\n",
    "from IPython.core.display  import HTML\n",
    "from IPython.core.display  import Image\n",
    "from tabulate              import tabulate\n",
    "\n",
    "from imblearn import under_sampling as us\n",
    "from imblearn import over_sampling  as oversamp\n",
    "from imblearn import combine        as c\n",
    "\n",
    "from category_encoders import TargetEncoder\n",
    "from pandas_profiling import ProfileReport\n",
    "\n",
    "from keras import models as ml\n",
    "from keras import layers as l\n"
   ]
  },
  {
   "cell_type": "markdown",
   "id": "0239c94b-3223-45fb-8486-7ccb4224f3a3",
   "metadata": {
    "tags": []
   },
   "source": [
    "# 0.1 Helper functions"
   ]
  },
  {
   "cell_type": "code",
   "execution_count": 3,
   "id": "8a1fd6aa-89d7-4abb-a534-dfe8db8f1572",
   "metadata": {},
   "outputs": [
    {
     "name": "stdout",
     "output_type": "stream",
     "text": [
      "Populating the interactive namespace from numpy and matplotlib\n"
     ]
    },
    {
     "data": {
      "text/html": [
       "<style>.container { width:100% !important; }</style>"
      ],
      "text/plain": [
       "<IPython.core.display.HTML object>"
      ]
     },
     "metadata": {},
     "output_type": "display_data"
    }
   ],
   "source": [
    "def cramer_v(x, y):\n",
    "    \"\"\" calculate Cramers V statistic for categorial-categorial association.\n",
    "        uses correction from Bergsma and Wicher. \n",
    "        \"\"\"     \n",
    "    \n",
    "    cm = pd.crosstab(x, y).values  #.as_matrix()\n",
    "    n = cm.sum()\n",
    "    r, k = cm.shape\n",
    "    \n",
    "    chi2 = ss.chi2_contingency( cm )[0]\n",
    "    chi2corr = max( 0, chi2 - (k-1)*(r-1)/(n-1) )\n",
    "    \n",
    "    kcorr = k - (k-1)**2/(n-1)\n",
    "    rcoor = r - (r-1)**2/(n-1)\n",
    "    return np.sqrt( (chi2corr/n)/ (min(kcorr-1,  rcoor-1)))\n",
    "\n",
    "def jupyter_settings():\n",
    "    %matplotlib inline\n",
    "    %pylab inline\n",
    "    plt.style.use( 'bmh' )\n",
    "    plt.rcParams['figure.figsize'] = [25, 12]\n",
    "    plt.rcParams['font.size'] = 24\n",
    "    display( HTML( '<style>.container { width:100% !important; }</style>') )\n",
    "    pd.options.display.max_columns = None\n",
    "    pd.options.display.max_rows = None\n",
    "    pd.set_option( 'display.expand_frame_repr', False )\n",
    "    sns.set()\n",
    "\n",
    "    \n",
    "jupyter_settings()\n"
   ]
  },
  {
   "cell_type": "markdown",
   "id": "ab881f1a-8645-4055-af54-f824e0b3b81a",
   "metadata": {
    "tags": []
   },
   "source": [
    "# 0.2 Loading Data"
   ]
  },
  {
   "cell_type": "code",
   "execution_count": 4,
   "id": "7e34805f-2927-4d64-9ab3-55ed628be787",
   "metadata": {},
   "outputs": [
    {
     "data": {
      "text/plain": [
       "(10567737, 6)"
      ]
     },
     "execution_count": 4,
     "metadata": {},
     "output_type": "execute_result"
    }
   ],
   "source": [
    "# datasets source: https://www.kaggle.com/c/airbnb-recruiting-new-user-bookings/data?select=sessions.csv.zip\n",
    "\n",
    "\n",
    "df_raw = pd.read_csv('dataset/training_users_2.csv', low_memory=True)\n",
    "df_raw.shape\n",
    "\n",
    "df_sessions = pd.read_csv('dataset/sessions.csv', low_memory=True)\n",
    "df_sessions.shape"
   ]
  },
  {
   "cell_type": "markdown",
   "id": "1b120d77-fb2f-41c5-9899-722b178d8155",
   "metadata": {
    "tags": []
   },
   "source": [
    "# 1.0 Data Description"
   ]
  },
  {
   "cell_type": "code",
   "execution_count": 5,
   "id": "2b77143f-34c7-4659-a981-ce8cb3e5d468",
   "metadata": {},
   "outputs": [],
   "source": [
    "df1 = df_raw.copy()"
   ]
  },
  {
   "cell_type": "markdown",
   "id": "15b9fc25-16f9-43c1-894c-acf43fa4d013",
   "metadata": {},
   "source": [
    "## 1.1 Data Dimensions"
   ]
  },
  {
   "cell_type": "code",
   "execution_count": 6,
   "id": "cebb34b7-ccb3-4d40-a990-807deb4153ef",
   "metadata": {},
   "outputs": [
    {
     "name": "stdout",
     "output_type": "stream",
     "text": [
      "Number of rows: 213451\n",
      "Number of columns: 16\n"
     ]
    }
   ],
   "source": [
    "print( 'Number of rows: {}'.format(df1.shape[0] ) )\n",
    "print( 'Number of columns: {}'.format(df1.shape[1] ) )"
   ]
  },
  {
   "cell_type": "code",
   "execution_count": 7,
   "id": "f180047c-44fa-4cc2-888e-cbe9ea5781a7",
   "metadata": {},
   "outputs": [
    {
     "name": "stdout",
     "output_type": "stream",
     "text": [
      "Number of rows: 10567737\n",
      "Number of columns: 6\n"
     ]
    }
   ],
   "source": [
    "print( 'Number of rows: {}'.format(df_sessions.shape[0] ) )\n",
    "print( 'Number of columns: {}'.format(df_sessions.shape[1] ) )"
   ]
  },
  {
   "cell_type": "markdown",
   "id": "552788d8-46cc-4595-8a6a-6626333fe265",
   "metadata": {
    "tags": []
   },
   "source": [
    "## 1.2 Data type"
   ]
  },
  {
   "cell_type": "code",
   "execution_count": 8,
   "id": "0efcd25a-8693-436b-b4b8-179d4c056a0f",
   "metadata": {},
   "outputs": [
    {
     "data": {
      "text/plain": [
       "id                          object\n",
       "date_account_created        object\n",
       "timestamp_first_active       int64\n",
       "date_first_booking          object\n",
       "gender                      object\n",
       "age                        float64\n",
       "signup_method               object\n",
       "signup_flow                  int64\n",
       "language                    object\n",
       "affiliate_channel           object\n",
       "affiliate_provider          object\n",
       "first_affiliate_tracked     object\n",
       "signup_app                  object\n",
       "first_device_type           object\n",
       "first_browser               object\n",
       "country_destination         object\n",
       "dtype: object"
      ]
     },
     "execution_count": 8,
     "metadata": {},
     "output_type": "execute_result"
    }
   ],
   "source": [
    "df1.dtypes"
   ]
  },
  {
   "cell_type": "code",
   "execution_count": 9,
   "id": "f91f7c91-69a9-4a4b-90e7-73a5a54801ce",
   "metadata": {},
   "outputs": [
    {
     "data": {
      "text/plain": [
       "user_id           object\n",
       "action            object\n",
       "action_type       object\n",
       "action_detail     object\n",
       "device_type       object\n",
       "secs_elapsed     float64\n",
       "dtype: object"
      ]
     },
     "execution_count": 9,
     "metadata": {},
     "output_type": "execute_result"
    }
   ],
   "source": [
    "df_sessions.dtypes"
   ]
  },
  {
   "cell_type": "markdown",
   "id": "7227339f-b668-4414-92d4-1f4bf2454007",
   "metadata": {
    "tags": []
   },
   "source": [
    "## 1.3 NA Check"
   ]
  },
  {
   "cell_type": "code",
   "execution_count": 10,
   "id": "0d3f9a79-ca6c-4251-a2b7-e0de60939724",
   "metadata": {},
   "outputs": [
    {
     "data": {
      "text/plain": [
       "id                         0.000000\n",
       "date_account_created       0.000000\n",
       "timestamp_first_active     0.000000\n",
       "date_first_booking         0.583473\n",
       "gender                     0.000000\n",
       "age                        0.412226\n",
       "signup_method              0.000000\n",
       "signup_flow                0.000000\n",
       "language                   0.000000\n",
       "affiliate_channel          0.000000\n",
       "affiliate_provider         0.000000\n",
       "first_affiliate_tracked    0.028414\n",
       "signup_app                 0.000000\n",
       "first_device_type          0.000000\n",
       "first_browser              0.000000\n",
       "country_destination        0.000000\n",
       "dtype: float64"
      ]
     },
     "execution_count": 10,
     "metadata": {},
     "output_type": "execute_result"
    }
   ],
   "source": [
    " df1.isna().sum() / len( df1 )"
   ]
  },
  {
   "cell_type": "code",
   "execution_count": 11,
   "id": "6d4ef62b-5b66-46a6-a1ac-066520b3dee6",
   "metadata": {},
   "outputs": [
    {
     "data": {
      "text/plain": [
       "user_id          0.003264\n",
       "action           0.007535\n",
       "action_type      0.106570\n",
       "action_detail    0.106570\n",
       "device_type      0.000000\n",
       "secs_elapsed     0.012872\n",
       "dtype: float64"
      ]
     },
     "execution_count": 11,
     "metadata": {},
     "output_type": "execute_result"
    }
   ],
   "source": [
    "df_sessions.isna().sum() / len(df_sessions)"
   ]
  },
  {
   "cell_type": "code",
   "execution_count": 12,
   "id": "2480942d-48bf-4c36-ad9e-c1c064564529",
   "metadata": {
    "tags": []
   },
   "outputs": [],
   "source": [
    "#remove missing value complety\n",
    "#df1 = df1.dropna()\n",
    "\n",
    "#========================USER===========================================\n",
    "\n",
    "# date_first_booking\n",
    "date_first_booking_max = pd.to_datetime( df1['date_first_booking'] ).max().strftime( '%Y-%m-%d' )\n",
    "df1['date_first_booking'] = df1['date_first_booking'].fillna( date_first_booking_max )\n",
    "\n",
    "\n",
    "# age\n",
    "df1 = df1[( df1['age'] > 15 ) & ( df1['age'] < 120 )]\n",
    "avg_age =  round(df1['age'].mean(),2)\n",
    "df1['age'] = df1['age'].fillna( avg_age )\n",
    "\n",
    "# first_affiliate_tracked\n",
    "df1 = df1[~df1['first_affiliate_tracked'].isna()]\n",
    "\n",
    "df1['first_affiliate_tracked'].value_counts()\n",
    "\n",
    "#========================Sessions=========================================\n",
    "#user_id  - 3%\n",
    "df_sessions= df_sessions[~df_sessions['user_id'].isna()]\n",
    "\n",
    "#action - 7%\n",
    "df_sessions= df_sessions[~df_sessions['action'].isna()]\n",
    "\n",
    "#action_type - 10$\n",
    "df_sessions= df_sessions[~df_sessions['action_type'].isna()]\n",
    "\n",
    "#action_detail- 10%\n",
    "df_sessions= df_sessions[~df_sessions['action_detail'].isna()]\n",
    "\n",
    "#device_type - 0%\n",
    "df_sessions= df_sessions[~df_sessions['device_type'].isna()]\n",
    "\n",
    "#secs_elapsed - 0%\n",
    "df_sessions= df_sessions[~df_sessions['secs_elapsed'].isna()]\n",
    "\n"
   ]
  },
  {
   "cell_type": "code",
   "execution_count": 13,
   "id": "b5d97f04-868f-43d9-b2bc-57c46452214c",
   "metadata": {},
   "outputs": [
    {
     "data": {
      "text/plain": [
       "user_id          0.0\n",
       "action           0.0\n",
       "action_type      0.0\n",
       "action_detail    0.0\n",
       "device_type      0.0\n",
       "secs_elapsed     0.0\n",
       "dtype: float64"
      ]
     },
     "execution_count": 13,
     "metadata": {},
     "output_type": "execute_result"
    }
   ],
   "source": [
    "df_sessions.isna().sum() / len(df_sessions)"
   ]
  },
  {
   "cell_type": "code",
   "execution_count": 14,
   "id": "b9c9043d-26b8-4ac1-b2ba-55a4f5e9e62a",
   "metadata": {},
   "outputs": [
    {
     "data": {
      "text/plain": [
       "id                         0.0\n",
       "date_account_created       0.0\n",
       "timestamp_first_active     0.0\n",
       "date_first_booking         0.0\n",
       "gender                     0.0\n",
       "age                        0.0\n",
       "signup_method              0.0\n",
       "signup_flow                0.0\n",
       "language                   0.0\n",
       "affiliate_channel          0.0\n",
       "affiliate_provider         0.0\n",
       "first_affiliate_tracked    0.0\n",
       "signup_app                 0.0\n",
       "first_device_type          0.0\n",
       "first_browser              0.0\n",
       "country_destination        0.0\n",
       "dtype: float64"
      ]
     },
     "execution_count": 14,
     "metadata": {},
     "output_type": "execute_result"
    }
   ],
   "source": [
    "df1.isna().sum() / len(df1)"
   ]
  },
  {
   "cell_type": "markdown",
   "id": "bf83107e-b046-49ee-9ee8-cce0c80e8f29",
   "metadata": {
    "tags": []
   },
   "source": [
    "## 1.4 Change Data Type"
   ]
  },
  {
   "cell_type": "code",
   "execution_count": 15,
   "id": "7a919e62-5603-4e05-8a69-a2503d23a8e5",
   "metadata": {},
   "outputs": [],
   "source": [
    "# date_account_created    \n",
    "df1[\"date_account_created\"] = pd.to_datetime( df1[\"date_account_created\"] )\n",
    "\n",
    "# timestamp_first_active   \n",
    "df1[\"timestamp_first_active\"] = pd.to_datetime( df1[\"timestamp_first_active\"], format='%Y%m%d%H%M%S' )\n",
    "\n",
    "# date_first_booking       \n",
    "df1[\"date_first_booking\"] = pd.to_datetime( df1[\"date_first_booking\"] )\n",
    "\n",
    "# age       \n",
    "df1[\"age\"] = df1[\"age\"].astype( int )"
   ]
  },
  {
   "cell_type": "code",
   "execution_count": 16,
   "id": "c0846dea-bd7a-4ebf-8e9a-a6e9a7ac6d06",
   "metadata": {},
   "outputs": [
    {
     "data": {
      "text/plain": [
       "id                                 object\n",
       "date_account_created       datetime64[ns]\n",
       "timestamp_first_active     datetime64[ns]\n",
       "date_first_booking         datetime64[ns]\n",
       "gender                             object\n",
       "age                                 int32\n",
       "signup_method                      object\n",
       "signup_flow                         int64\n",
       "language                           object\n",
       "affiliate_channel                  object\n",
       "affiliate_provider                 object\n",
       "first_affiliate_tracked            object\n",
       "signup_app                         object\n",
       "first_device_type                  object\n",
       "first_browser                      object\n",
       "country_destination                object\n",
       "dtype: object"
      ]
     },
     "execution_count": 16,
     "metadata": {},
     "output_type": "execute_result"
    }
   ],
   "source": [
    "df1.dtypes"
   ]
  },
  {
   "cell_type": "markdown",
   "id": "2a2dd5de-d7e9-4c3a-a268-5d68200a15ce",
   "metadata": {
    "tags": []
   },
   "source": [
    "## 1.5 Check Balanced Data"
   ]
  },
  {
   "cell_type": "code",
   "execution_count": 17,
   "id": "ea891b5f-0082-4f84-a859-f67423c361f6",
   "metadata": {},
   "outputs": [
    {
     "data": {
      "text/plain": [
       "NDF      0.447275\n",
       "US       0.391867\n",
       "other    0.061246\n",
       "FR       0.029918\n",
       "IT       0.016423\n",
       "GB       0.014335\n",
       "ES       0.013740\n",
       "CA       0.008676\n",
       "DE       0.006858\n",
       "NL       0.004852\n",
       "AU       0.003531\n",
       "PT       0.001280\n",
       "Name: country_destination, dtype: float64"
      ]
     },
     "execution_count": 17,
     "metadata": {},
     "output_type": "execute_result"
    }
   ],
   "source": [
    "df1[\"country_destination\"].value_counts(normalize=True)"
   ]
  },
  {
   "cell_type": "markdown",
   "id": "ee5fa5ff-dc46-40fd-8bd4-3970d3c54a16",
   "metadata": {
    "tags": []
   },
   "source": [
    "## 1.6 Descriptive Analysis"
   ]
  },
  {
   "cell_type": "markdown",
   "id": "79961fed-8262-450d-a932-fdc5782a3a8e",
   "metadata": {},
   "source": [
    "## 1.6 General"
   ]
  },
  {
   "cell_type": "code",
   "execution_count": 18,
   "id": "8c2c4afd-271a-4b75-8cc0-bb80dbfe672e",
   "metadata": {},
   "outputs": [],
   "source": [
    "# Users\n",
    "num_attributes = df1.select_dtypes( include=['int32','int64', 'float64'])\n",
    "cat_attributes = df1.select_dtypes( exclude=['int32', 'int64', 'float64','datetime64[ns]'])\n",
    "time_attributes = df1.select_dtypes( include=['datetime64[ns]'])\n",
    "\n",
    "#Sessions\n",
    "num_attributes_sessions = df_sessions.select_dtypes( include=['int32','int64', 'float64'])\n",
    "cat_attributes_sessions = df_sessions.select_dtypes( exclude=['int64', 'float64','datetime64[ns]'])\n",
    "time_attributes_sessions = df_sessions.select_dtypes( include=['datetime64[ns]'])"
   ]
  },
  {
   "cell_type": "markdown",
   "id": "53c1392a-8ca0-409d-85b2-6de88f382efc",
   "metadata": {},
   "source": [
    "## 1.6.1 Numeral - Users"
   ]
  },
  {
   "cell_type": "code",
   "execution_count": 19,
   "id": "b97c996a-0f6c-494f-9045-296b557f5f0c",
   "metadata": {},
   "outputs": [
    {
     "data": {
      "text/html": [
       "<div>\n",
       "<style scoped>\n",
       "    .dataframe tbody tr th:only-of-type {\n",
       "        vertical-align: middle;\n",
       "    }\n",
       "\n",
       "    .dataframe tbody tr th {\n",
       "        vertical-align: top;\n",
       "    }\n",
       "\n",
       "    .dataframe thead th {\n",
       "        text-align: right;\n",
       "    }\n",
       "</style>\n",
       "<table border=\"1\" class=\"dataframe\">\n",
       "  <thead>\n",
       "    <tr style=\"text-align: right;\">\n",
       "      <th></th>\n",
       "      <th>attributes</th>\n",
       "      <th>min</th>\n",
       "      <th>max</th>\n",
       "      <th>range</th>\n",
       "      <th>mean</th>\n",
       "      <th>median</th>\n",
       "      <th>std</th>\n",
       "      <th>skew</th>\n",
       "      <th>kurtosis</th>\n",
       "    </tr>\n",
       "  </thead>\n",
       "  <tbody>\n",
       "    <tr>\n",
       "      <th>0</th>\n",
       "      <td>age</td>\n",
       "      <td>16.0</td>\n",
       "      <td>115.0</td>\n",
       "      <td>99.0</td>\n",
       "      <td>37.405591</td>\n",
       "      <td>34.0</td>\n",
       "      <td>13.939844</td>\n",
       "      <td>2.089718</td>\n",
       "      <td>6.516468</td>\n",
       "    </tr>\n",
       "    <tr>\n",
       "      <th>1</th>\n",
       "      <td>signup_flow</td>\n",
       "      <td>0.0</td>\n",
       "      <td>25.0</td>\n",
       "      <td>25.0</td>\n",
       "      <td>2.519513</td>\n",
       "      <td>0.0</td>\n",
       "      <td>6.604696</td>\n",
       "      <td>2.705871</td>\n",
       "      <td>5.928298</td>\n",
       "    </tr>\n",
       "  </tbody>\n",
       "</table>\n",
       "</div>"
      ],
      "text/plain": [
       "    attributes   min    max  range       mean  median        std      skew  kurtosis\n",
       "0          age  16.0  115.0   99.0  37.405591    34.0  13.939844  2.089718  6.516468\n",
       "1  signup_flow   0.0   25.0   25.0   2.519513     0.0   6.604696  2.705871  5.928298"
      ]
     },
     "execution_count": 19,
     "metadata": {},
     "output_type": "execute_result"
    }
   ],
   "source": [
    "# Central Tendency - Mean, Median\n",
    "ct1 = pd.DataFrame(num_attributes.apply(np.mean)).T\n",
    "ct2 = pd.DataFrame(num_attributes.apply(np.median)).T\n",
    "\n",
    "# Dispersions - Std, Min, Max, Range, Skew, Kurtosis\n",
    "d1 = pd.DataFrame(num_attributes.apply(np.std)).T\n",
    "d2 = pd.DataFrame(num_attributes.apply(min)).T\n",
    "d3 = pd.DataFrame(num_attributes.apply(max)).T\n",
    "d4 = pd.DataFrame(num_attributes.apply( lambda x: x.max() - x.min())).T\n",
    "d5 = pd.DataFrame(num_attributes.apply(lambda x: x.skew())).T\n",
    "d6 = pd.DataFrame(num_attributes.apply(lambda x: x.kurtosis())).T\n",
    "\n",
    "# concatenar \n",
    "ct = pd.concat([d2, d3, d4,ct1, ct2, d1, d5, d6]).T.reset_index()\n",
    "ct.columns = ['attributes','min','max', 'range','mean','median','std','skew','kurtosis']\n",
    "ct"
   ]
  },
  {
   "cell_type": "markdown",
   "id": "4cd3f731-0a8f-4e5e-973b-3d4a60638378",
   "metadata": {},
   "source": [
    "## 1.6.2 Numeral - Sessions"
   ]
  },
  {
   "cell_type": "code",
   "execution_count": 20,
   "id": "b8ac1d44-160c-4eef-ae90-8acc6c6e400a",
   "metadata": {},
   "outputs": [
    {
     "data": {
      "text/html": [
       "<div>\n",
       "<style scoped>\n",
       "    .dataframe tbody tr th:only-of-type {\n",
       "        vertical-align: middle;\n",
       "    }\n",
       "\n",
       "    .dataframe tbody tr th {\n",
       "        vertical-align: top;\n",
       "    }\n",
       "\n",
       "    .dataframe thead th {\n",
       "        text-align: right;\n",
       "    }\n",
       "</style>\n",
       "<table border=\"1\" class=\"dataframe\">\n",
       "  <thead>\n",
       "    <tr style=\"text-align: right;\">\n",
       "      <th></th>\n",
       "      <th>attributes</th>\n",
       "      <th>min</th>\n",
       "      <th>max</th>\n",
       "      <th>range</th>\n",
       "      <th>mean</th>\n",
       "      <th>median</th>\n",
       "      <th>std</th>\n",
       "      <th>skew</th>\n",
       "      <th>kurtosis</th>\n",
       "    </tr>\n",
       "  </thead>\n",
       "  <tbody>\n",
       "    <tr>\n",
       "      <th>0</th>\n",
       "      <td>secs_elapsed</td>\n",
       "      <td>0.0</td>\n",
       "      <td>1799977.0</td>\n",
       "      <td>1799977.0</td>\n",
       "      <td>19961.8251</td>\n",
       "      <td>1369.0</td>\n",
       "      <td>88849.388449</td>\n",
       "      <td>11.137761</td>\n",
       "      <td>154.84312</td>\n",
       "    </tr>\n",
       "  </tbody>\n",
       "</table>\n",
       "</div>"
      ],
      "text/plain": [
       "     attributes  min        max      range        mean  median           std       skew   kurtosis\n",
       "0  secs_elapsed  0.0  1799977.0  1799977.0  19961.8251  1369.0  88849.388449  11.137761  154.84312"
      ]
     },
     "execution_count": 20,
     "metadata": {},
     "output_type": "execute_result"
    }
   ],
   "source": [
    "# Central Tendency - Mean, Median\n",
    "ct1 = pd.DataFrame(num_attributes_sessions.apply(np.mean)).T\n",
    "ct2 = pd.DataFrame(num_attributes_sessions.apply(np.median)).T\n",
    "\n",
    "# Dispersions - Std, Min, Max, Range, Skew, Kurtosis\n",
    "d1 = pd.DataFrame(num_attributes_sessions.apply(np.std)).T\n",
    "d2 = pd.DataFrame(num_attributes_sessions.apply(min)).T\n",
    "d3 = pd.DataFrame(num_attributes_sessions.apply(max)).T\n",
    "d4 = pd.DataFrame(num_attributes_sessions.apply( lambda x: x.max() - x.min())).T\n",
    "d5 = pd.DataFrame(num_attributes_sessions.apply(lambda x: x.skew())).T\n",
    "d6 = pd.DataFrame(num_attributes_sessions.apply(lambda x: x.kurtosis())).T\n",
    "\n",
    "# concatenar \n",
    "ct = pd.concat([d2, d3, d4,ct1, ct2, d1, d5, d6]).T.reset_index()\n",
    "ct.columns = ['attributes','min','max', 'range','mean','median','std','skew','kurtosis']\n",
    "ct"
   ]
  },
  {
   "cell_type": "markdown",
   "id": "757aae54-6cd1-42d8-9f1a-8339d64b0956",
   "metadata": {
    "tags": []
   },
   "source": [
    "## 1.6.2 Categorical - Users"
   ]
  },
  {
   "cell_type": "code",
   "execution_count": 21,
   "id": "cdad06a9-eb47-4c90-b652-44ee19d17753",
   "metadata": {},
   "outputs": [
    {
     "data": {
      "text/html": [
       "<div>\n",
       "<style scoped>\n",
       "    .dataframe tbody tr th:only-of-type {\n",
       "        vertical-align: middle;\n",
       "    }\n",
       "\n",
       "    .dataframe tbody tr th {\n",
       "        vertical-align: top;\n",
       "    }\n",
       "\n",
       "    .dataframe thead th {\n",
       "        text-align: right;\n",
       "    }\n",
       "</style>\n",
       "<table border=\"1\" class=\"dataframe\">\n",
       "  <thead>\n",
       "    <tr style=\"text-align: right;\">\n",
       "      <th></th>\n",
       "      <th>gender</th>\n",
       "      <th>signup_method</th>\n",
       "      <th>language</th>\n",
       "      <th>affiliate_channel</th>\n",
       "      <th>affiliate_provider</th>\n",
       "      <th>first_affiliate_tracked</th>\n",
       "      <th>signup_app</th>\n",
       "      <th>first_device_type</th>\n",
       "      <th>first_browser</th>\n",
       "      <th>country_destination</th>\n",
       "    </tr>\n",
       "  </thead>\n",
       "  <tbody>\n",
       "    <tr>\n",
       "      <th>count</th>\n",
       "      <td>122636</td>\n",
       "      <td>122636</td>\n",
       "      <td>122636</td>\n",
       "      <td>122636</td>\n",
       "      <td>122636</td>\n",
       "      <td>122636</td>\n",
       "      <td>122636</td>\n",
       "      <td>122636</td>\n",
       "      <td>122636</td>\n",
       "      <td>122636</td>\n",
       "    </tr>\n",
       "    <tr>\n",
       "      <th>unique</th>\n",
       "      <td>4</td>\n",
       "      <td>3</td>\n",
       "      <td>25</td>\n",
       "      <td>8</td>\n",
       "      <td>17</td>\n",
       "      <td>7</td>\n",
       "      <td>4</td>\n",
       "      <td>9</td>\n",
       "      <td>41</td>\n",
       "      <td>12</td>\n",
       "    </tr>\n",
       "    <tr>\n",
       "      <th>top</th>\n",
       "      <td>FEMALE</td>\n",
       "      <td>basic</td>\n",
       "      <td>en</td>\n",
       "      <td>direct</td>\n",
       "      <td>direct</td>\n",
       "      <td>untracked</td>\n",
       "      <td>Web</td>\n",
       "      <td>Mac Desktop</td>\n",
       "      <td>Chrome</td>\n",
       "      <td>NDF</td>\n",
       "    </tr>\n",
       "    <tr>\n",
       "      <th>freq</th>\n",
       "      <td>56362</td>\n",
       "      <td>66039</td>\n",
       "      <td>118205</td>\n",
       "      <td>79093</td>\n",
       "      <td>78954</td>\n",
       "      <td>64712</td>\n",
       "      <td>108283</td>\n",
       "      <td>57943</td>\n",
       "      <td>41778</td>\n",
       "      <td>54852</td>\n",
       "    </tr>\n",
       "  </tbody>\n",
       "</table>\n",
       "</div>"
      ],
      "text/plain": [
       "        gender signup_method language affiliate_channel affiliate_provider first_affiliate_tracked signup_app first_device_type first_browser country_destination\n",
       "count   122636        122636   122636            122636             122636                  122636     122636            122636        122636              122636\n",
       "unique       4             3       25                 8                 17                       7          4                 9            41                  12\n",
       "top     FEMALE         basic       en            direct             direct               untracked        Web       Mac Desktop        Chrome                 NDF\n",
       "freq     56362         66039   118205             79093              78954                   64712     108283             57943         41778               54852"
      ]
     },
     "execution_count": 21,
     "metadata": {},
     "output_type": "execute_result"
    }
   ],
   "source": [
    "cat_attributes.drop('id', axis=1).describe()"
   ]
  },
  {
   "cell_type": "markdown",
   "id": "b1fed7b8-2ab0-4df0-8186-56971e2da952",
   "metadata": {},
   "source": [
    "## 1.6.3 Categorical - Sessions"
   ]
  },
  {
   "cell_type": "code",
   "execution_count": 22,
   "id": "9126c98e-5683-443a-af5d-ee94370c8c84",
   "metadata": {},
   "outputs": [
    {
     "data": {
      "text/html": [
       "<div>\n",
       "<style scoped>\n",
       "    .dataframe tbody tr th:only-of-type {\n",
       "        vertical-align: middle;\n",
       "    }\n",
       "\n",
       "    .dataframe tbody tr th {\n",
       "        vertical-align: top;\n",
       "    }\n",
       "\n",
       "    .dataframe thead th {\n",
       "        text-align: right;\n",
       "    }\n",
       "</style>\n",
       "<table border=\"1\" class=\"dataframe\">\n",
       "  <thead>\n",
       "    <tr style=\"text-align: right;\">\n",
       "      <th></th>\n",
       "      <th>action</th>\n",
       "      <th>action_type</th>\n",
       "      <th>action_detail</th>\n",
       "      <th>device_type</th>\n",
       "    </tr>\n",
       "  </thead>\n",
       "  <tbody>\n",
       "    <tr>\n",
       "      <th>count</th>\n",
       "      <td>9213930</td>\n",
       "      <td>9213930</td>\n",
       "      <td>9213930</td>\n",
       "      <td>9213930</td>\n",
       "    </tr>\n",
       "    <tr>\n",
       "      <th>unique</th>\n",
       "      <td>347</td>\n",
       "      <td>10</td>\n",
       "      <td>155</td>\n",
       "      <td>14</td>\n",
       "    </tr>\n",
       "    <tr>\n",
       "      <th>top</th>\n",
       "      <td>show</td>\n",
       "      <td>view</td>\n",
       "      <td>view_search_results</td>\n",
       "      <td>Mac Desktop</td>\n",
       "    </tr>\n",
       "    <tr>\n",
       "      <th>freq</th>\n",
       "      <td>2178382</td>\n",
       "      <td>3545621</td>\n",
       "      <td>1770931</td>\n",
       "      <td>3019523</td>\n",
       "    </tr>\n",
       "  </tbody>\n",
       "</table>\n",
       "</div>"
      ],
      "text/plain": [
       "         action action_type        action_detail  device_type\n",
       "count   9213930     9213930              9213930      9213930\n",
       "unique      347          10                  155           14\n",
       "top        show        view  view_search_results  Mac Desktop\n",
       "freq    2178382     3545621              1770931      3019523"
      ]
     },
     "execution_count": 22,
     "metadata": {},
     "output_type": "execute_result"
    }
   ],
   "source": [
    "cat_attributes_sessions.drop('user_id', axis=1).describe()"
   ]
  },
  {
   "cell_type": "markdown",
   "id": "e3efea06-5a2a-4e36-b884-d271c9d03d50",
   "metadata": {
    "tags": []
   },
   "source": [
    "## 1.6.2 Categorical - Sessions"
   ]
  },
  {
   "cell_type": "code",
   "execution_count": 23,
   "id": "01a352d3-f1cc-408e-bae4-410a0e146c88",
   "metadata": {},
   "outputs": [],
   "source": [
    "# list of attributes for Cramer's V correlation\n",
    "cat_attributes_list = cat_attributes_sessions.drop('user_id', axis=1).columns.tolist()\n",
    "\n",
    "coor_dict = {}\n",
    "\n",
    "for i in range(len(cat_attributes_list)):\n",
    "    corr_list =  []\n",
    "    for j in range(len(cat_attributes_list)):\n",
    "        ref = cat_attributes_list[i]\n",
    "        feat=cat_attributes_list[j]\n",
    "        \n",
    "        # correlation\n",
    "        corr = cramer_v(cat_attributes_sessions[ref], cat_attributes_sessions[feat])\n",
    "        # append a list\n",
    "        corr_list.append(corr)\n",
    "    # append a correlation list for each atributes   \n",
    "    coor_dict[ref] = corr_list"
   ]
  },
  {
   "cell_type": "code",
   "execution_count": 24,
   "id": "2296982d-c01a-4ba3-8bde-292455f3595f",
   "metadata": {},
   "outputs": [
    {
     "data": {
      "image/png": "[encoded data removed]",
      "text/plain": [
       "<Figure size 1800x864 with 2 Axes>"
      ]
     },
     "metadata": {},
     "output_type": "display_data"
    }
   ],
   "source": [
    "d = pd.DataFrame(coor_dict)\n",
    "d = d.set_index(d.columns)\n",
    "sns.heatmap(d, annot=True);"
   ]
  },
  {
   "cell_type": "markdown",
   "id": "75c18812-ee51-4227-bb16-fa3d99f4e41b",
   "metadata": {},
   "source": [
    "# 2.0 Feature Engineering"
   ]
  },
  {
   "cell_type": "code",
   "execution_count": 25,
   "id": "ff38317a-ee77-4a55-8cfe-584efbebbe6f",
   "metadata": {},
   "outputs": [],
   "source": [
    "df2 = df1.copy()\n",
    "df_sessions2 = df_sessions.copy()"
   ]
  },
  {
   "cell_type": "code",
   "execution_count": 26,
   "id": "b2c0678e-ae69-41b3-8849-919c59817d76",
   "metadata": {},
   "outputs": [
    {
     "data": {
      "text/plain": [
       "id                                 object\n",
       "date_account_created       datetime64[ns]\n",
       "timestamp_first_active     datetime64[ns]\n",
       "date_first_booking         datetime64[ns]\n",
       "gender                             object\n",
       "age                                 int32\n",
       "signup_method                      object\n",
       "signup_flow                         int64\n",
       "language                           object\n",
       "affiliate_channel                  object\n",
       "affiliate_provider                 object\n",
       "first_affiliate_tracked            object\n",
       "signup_app                         object\n",
       "first_device_type                  object\n",
       "first_browser                      object\n",
       "country_destination                object\n",
       "dtype: object"
      ]
     },
     "execution_count": 26,
     "metadata": {},
     "output_type": "execute_result"
    }
   ],
   "source": [
    "df2.dtypes"
   ]
  },
  {
   "cell_type": "markdown",
   "id": "89e4089a-e9a5-47e2-9225-d6a1ba9dc957",
   "metadata": {},
   "source": [
    "## 2.1 Create New Features"
   ]
  },
  {
   "cell_type": "code",
   "execution_count": 27,
   "id": "60d41bcb-7d94-4041-8788-9f86c046c667",
   "metadata": {},
   "outputs": [],
   "source": [
    "# days from first active up to first booking\n",
    "df2['first_active'] = pd.to_datetime( df2['timestamp_first_active'].dt.strftime( '%Y-%m-%d' ) )\n",
    "df2['days_from_first_active_until_booking'] = ( df2['date_first_booking'] - df2['first_active'] ).apply( lambda x: x.days )\n",
    "\n",
    "# days from first active upt to account created\n",
    "df2['days_from_first_active_until_account_created'] = ( df2['date_account_created'] - df2['first_active'] ).apply( lambda x: x.days )\n",
    "\n",
    "# days from account createad up to first booking\n",
    "df2['days_from_account_created_until_first_booking'] = ( df2['date_first_booking'] - df2['date_account_created'] ).apply( lambda x: x.days )\n",
    "\n",
    "# ================== First Active ==================\n",
    "# year first active\n",
    "df2['year_first_active'] = df2['first_active'].dt.year\n",
    "\n",
    "# month first active\n",
    "df2['month_first_active'] = df2['first_active'].dt.month\n",
    "\n",
    "# day first active\n",
    "df2['day_first_active'] = df2['first_active'].dt.day\n",
    "\n",
    "# day of week first active\n",
    "df2['day_of_week_first_active'] = df2['first_active'].dt.dayofweek\n",
    "\n",
    "# week of year first active\n",
    "df2['week_of_year_first_active'] = df2['first_active'].dt.weekofyear\n",
    "\n",
    "# ================== First Booking ==================\n",
    "# year first booking\n",
    "df2['year_first_booking'] = df2['date_first_booking'].dt.year\n",
    "\n",
    "# month first booking\n",
    "df2['month_first_booking'] = df2['date_first_booking'].dt.month\n",
    "\n",
    "# day first booking\n",
    "df2['day_first_booking'] = df2['date_first_booking'].dt.day\n",
    "\n",
    "# day of week first booking\n",
    "df2['day_of_week_first_booking'] = df2['date_first_booking'].dt.dayofweek\n",
    "\n",
    "# week of year first booking\n",
    "df2['week_of_year_first_booking'] = df2['date_first_booking'].dt.weekofyear\n",
    "\n",
    "# ================== First Account Created =================\n",
    "# year first booking\n",
    "df2['year_account_created'] = df2['date_account_created'].dt.year\n",
    "\n",
    "# month  account_created\n",
    "df2['month_account_created'] = df2['date_account_created'].dt.month\n",
    "\n",
    "# day  account_created\n",
    "df2['day_account_created'] = df2['date_account_created'].dt.day\n",
    "\n",
    "# day of week  account_created\n",
    "df2['day_of_week_account_created'] = df2['date_account_created'].dt.dayofweek\n",
    "\n",
    "# week of year  account_created\n",
    "df2['week_of_year_account_created'] = df2['date_account_created'].dt.weekofyear\n"
   ]
  },
  {
   "cell_type": "markdown",
   "id": "367aec7e-b01c-4789-a674-a014432f757d",
   "metadata": {
    "tags": []
   },
   "source": [
    "# 3.0 Data filtering"
   ]
  },
  {
   "cell_type": "code",
   "execution_count": 28,
   "id": "6a727bd9-6e2e-4ce2-8958-b496fb4fb1d4",
   "metadata": {
    "tags": []
   },
   "outputs": [],
   "source": [
    "df3 = df2.copy()\n",
    "df_sessions3 = df_sessions2.copy()"
   ]
  },
  {
   "cell_type": "markdown",
   "id": "53ec8fdf-43e3-4cf5-850e-5af3d5555747",
   "metadata": {
    "tags": []
   },
   "source": [
    "## 3.1 Filtering Rows"
   ]
  },
  {
   "cell_type": "code",
   "execution_count": 29,
   "id": "6476be09-05dc-4e84-96ef-0bed8e752f9d",
   "metadata": {},
   "outputs": [
    {
     "data": {
      "text/plain": [
       "Index(['id', 'date_account_created', 'timestamp_first_active',\n",
       "       'date_first_booking', 'gender', 'age', 'signup_method', 'signup_flow',\n",
       "       'language', 'affiliate_channel', 'affiliate_provider',\n",
       "       'first_affiliate_tracked', 'signup_app', 'first_device_type',\n",
       "       'first_browser', 'country_destination', 'first_active',\n",
       "       'days_from_first_active_until_booking',\n",
       "       'days_from_first_active_until_account_created',\n",
       "       'days_from_account_created_until_first_booking', 'year_first_active',\n",
       "       'month_first_active', 'day_first_active', 'day_of_week_first_active',\n",
       "       'week_of_year_first_active', 'year_first_booking',\n",
       "       'month_first_booking', 'day_first_booking', 'day_of_week_first_booking',\n",
       "       'week_of_year_first_booking', 'year_account_created',\n",
       "       'month_account_created', 'day_account_created',\n",
       "       'day_of_week_account_created', 'week_of_year_account_created'],\n",
       "      dtype='object')"
      ]
     },
     "execution_count": 29,
     "metadata": {},
     "output_type": "execute_result"
    }
   ],
   "source": [
    "# Filtering rows:\n",
    "# age - greater than 15 and lower than 120 - There are few people over 12O year old   \n",
    "df3 = df3[( df3['age'] > 15 ) & ( df3['age'] < 120 )]\n",
    "\n",
    "# secs_elapsed - there is no possible 0 secs elapsed on website\n",
    "#df3 = df3[df3['secs_elapsed'] > 0]\n",
    "df3.columns"
   ]
  },
  {
   "cell_type": "markdown",
   "id": "1b5b3c49-75f5-42b8-b832-bd5cd2e72847",
   "metadata": {
    "tags": []
   },
   "source": [
    "## 3.2 Columns Selection"
   ]
  },
  {
   "cell_type": "code",
   "execution_count": 30,
   "id": "efeb33e4-9aca-493c-93ed-4f1980cfd980",
   "metadata": {},
   "outputs": [],
   "source": [
    "# delete original datetime and high correlation\n",
    "cols = ['date_account_created', 'date_account_created', 'date_first_booking', 'timestamp_first_active', \n",
    "        'first_active'] # original datetime\n",
    "\n",
    "df3 = df3.drop( cols, axis=1 )"
   ]
  },
  {
   "cell_type": "markdown",
   "id": "2943f963-d4a8-4312-a88a-1117f6a3aaed",
   "metadata": {
    "tags": []
   },
   "source": [
    "# 4.0 Balanced Dataset"
   ]
  },
  {
   "cell_type": "code",
   "execution_count": 31,
   "id": "f1aa08dd-5878-4a74-8ca8-80278d314058",
   "metadata": {},
   "outputs": [],
   "source": [
    "df4 = df3.copy()"
   ]
  },
  {
   "cell_type": "code",
   "execution_count": 32,
   "id": "9c27b120-2f2b-41fc-869c-f09c1df5e791",
   "metadata": {},
   "outputs": [
    {
     "data": {
      "text/plain": [
       "(122636, 236)"
      ]
     },
     "execution_count": 32,
     "metadata": {},
     "output_type": "execute_result"
    }
   ],
   "source": [
    " # Encoder Categorical Variables\n",
    "ohe = pp.OneHotEncoder()\n",
    "\n",
    "# Numerical\n",
    "col_num = df4.select_dtypes( include=['int64', 'float64'] ).columns.tolist()\n",
    "\n",
    "# Categorical\n",
    "col_cat = df4.select_dtypes( exclude=['int64', 'float64', 'datetime64[ns]'] ).drop( ['id', 'country_destination'], axis=1 ).columns.tolist()\n",
    "\n",
    "# encoding\n",
    "df4_dummy = pd.DataFrame( ohe.fit_transform( df4[ col_cat] ).toarray(), index=df4.index )\n",
    "\n",
    "# join numerical and categorical\n",
    "df42 = pd.concat( [df4[col_num], df4_dummy], axis=1 )\n",
    "df42.shape"
   ]
  },
  {
   "cell_type": "code",
   "execution_count": null,
   "id": "a561cf4e-af14-4694-a158-0f15ab015c21",
   "metadata": {},
   "outputs": [],
   "source": []
  },
  {
   "cell_type": "markdown",
   "id": "904fff1d-2973-4fee-8b2a-b0e32059bb0a",
   "metadata": {},
   "source": [
    "##  4.1 Random Undersampling"
   ]
  },
  {
   "cell_type": "code",
   "execution_count": 33,
   "id": "c084cccc-80d7-4f9e-acb0-bf55948da805",
   "metadata": {},
   "outputs": [],
   "source": [
    "# ratio_balanced\n",
    "ratio_balanced = {'NDF': 10000 }\n",
    "# define sampler\n",
    "undersampling = us.RandomUnderSampler( sampling_strategy=ratio_balanced, random_state=32 )\n",
    "\n",
    "# apply sampler\n",
    "X_under, y_under = undersampling.fit_resample( df42, df4['country_destination'] )"
   ]
  },
  {
   "cell_type": "code",
   "execution_count": 34,
   "id": "d3852f09-3314-4da6-8675-1cb56dde30f0",
   "metadata": {},
   "outputs": [
    {
     "data": {
      "text/plain": [
       "NDF      54852\n",
       "US       48057\n",
       "other     7511\n",
       "FR        3669\n",
       "IT        2014\n",
       "GB        1758\n",
       "ES        1685\n",
       "CA        1064\n",
       "DE         841\n",
       "NL         595\n",
       "AU         433\n",
       "PT         157\n",
       "Name: country_destination, dtype: int64"
      ]
     },
     "execution_count": 34,
     "metadata": {},
     "output_type": "execute_result"
    }
   ],
   "source": [
    "df4['country_destination'].value_counts()"
   ]
  },
  {
   "cell_type": "code",
   "execution_count": 35,
   "id": "06588b10-aa2c-4dfe-a62c-2bca6d3484bf",
   "metadata": {},
   "outputs": [
    {
     "data": {
      "text/plain": [
       "US       48057\n",
       "NDF      10000\n",
       "other     7511\n",
       "FR        3669\n",
       "IT        2014\n",
       "GB        1758\n",
       "ES        1685\n",
       "CA        1064\n",
       "DE         841\n",
       "NL         595\n",
       "AU         433\n",
       "PT         157\n",
       "Name: country_destination, dtype: int64"
      ]
     },
     "execution_count": 35,
     "metadata": {},
     "output_type": "execute_result"
    }
   ],
   "source": [
    "y_under.value_counts()"
   ]
  },
  {
   "cell_type": "markdown",
   "id": "532c31b8-8f39-48a0-bdac-baca3a6c4e8f",
   "metadata": {},
   "source": [
    " ## 4.2 Random Oversampling"
   ]
  },
  {
   "cell_type": "code",
   "execution_count": 36,
   "id": "fa16c939-4e3e-44a4-9eee-dc555225a531",
   "metadata": {},
   "outputs": [],
   "source": [
    "# ratio_balanced\n",
    "#ratio_balanced = {'NDF': 10000 }\n",
    "\n",
    "# define sampler\n",
    "oversampling = oversamp.RandomOverSampler( sampling_strategy='all', random_state=32 )\n",
    "\n",
    "# apply sampler\n",
    "X_over, y_over = oversampling.fit_resample( df42, df4['country_destination'] )"
   ]
  },
  {
   "cell_type": "code",
   "execution_count": 37,
   "id": "75a9d8d7-5412-4a8e-86f8-cae70da6fdc3",
   "metadata": {},
   "outputs": [
    {
     "data": {
      "text/plain": [
       "NDF      54852\n",
       "US       54852\n",
       "other    54852\n",
       "CA       54852\n",
       "FR       54852\n",
       "IT       54852\n",
       "ES       54852\n",
       "GB       54852\n",
       "NL       54852\n",
       "DE       54852\n",
       "AU       54852\n",
       "PT       54852\n",
       "Name: country_destination, dtype: int64"
      ]
     },
     "execution_count": 37,
     "metadata": {},
     "output_type": "execute_result"
    }
   ],
   "source": [
    "y_over.value_counts()"
   ]
  },
  {
   "cell_type": "code",
   "execution_count": 38,
   "id": "b9330bec-44ad-41d6-baac-668e0489946e",
   "metadata": {},
   "outputs": [
    {
     "data": {
      "text/plain": [
       "NDF      54852\n",
       "US       48057\n",
       "other     7511\n",
       "FR        3669\n",
       "IT        2014\n",
       "GB        1758\n",
       "ES        1685\n",
       "CA        1064\n",
       "DE         841\n",
       "NL         595\n",
       "AU         433\n",
       "PT         157\n",
       "Name: country_destination, dtype: int64"
      ]
     },
     "execution_count": 38,
     "metadata": {},
     "output_type": "execute_result"
    }
   ],
   "source": [
    "df4['country_destination'].value_counts()"
   ]
  },
  {
   "cell_type": "markdown",
   "id": "061a7dea-6fd0-4505-abf7-90edd4bba66e",
   "metadata": {},
   "source": [
    " ## 4.3 SMOTE + TOMELINK"
   ]
  },
  {
   "cell_type": "code",
   "execution_count": 39,
   "id": "0d0f7836-4058-4e45-b7f6-eb4d75c39b43",
   "metadata": {},
   "outputs": [],
   "source": [
    "#df4['country_destination'].value_counts().to_dict()\n",
    "\n",
    "ratio_balanced ={'NDF': 54852,\n",
    "                 'US': 48057,\n",
    "                 'other': 6*7511,\n",
    "                 'FR': 12*3669,\n",
    "                 'IT': 20*2014,\n",
    "                 'GB': 30*1758,\n",
    "                 'ES': 30*1685,\n",
    "                 'CA': 40*1064,\n",
    "                 'DE': 45*841,\n",
    "                 'NL': 80*595,\n",
    "                 'AU': 85*433,\n",
    "                 'PT': 300*157}\n",
    "\n"
   ]
  },
  {
   "cell_type": "code",
   "execution_count": 40,
   "id": "23a1b3b6-e677-48ad-9bb3-0ed0162bb732",
   "metadata": {},
   "outputs": [],
   "source": [
    "# define sampler\n",
    "smt = c.SMOTETomek( sampling_strategy=ratio_balanced, random_state=32, n_jobs=-1 )\n",
    "\n",
    "# apply sampler\n",
    "X_smt, y_smt = smt.fit_resample( df42, df4['country_destination'] )\n"
   ]
  },
  {
   "cell_type": "code",
   "execution_count": 41,
   "id": "2c3c7202-8991-46b0-a80e-163e76b48198",
   "metadata": {},
   "outputs": [],
   "source": [
    "# numerical data\n",
    "df43 = X_smt[col_num]\n",
    "\n",
    "# categorical data\n",
    "df44 = X_smt.drop(col_num, axis=1)\n",
    "df45 = pd.DataFrame(ohe.inverse_transform(df44), columns=col_cat, index=df44.index)\n",
    "\n",
    "# join numerical categorical \n",
    "df46 = pd.concat([df43,df45], axis=1)\n",
    "df46['country_destination'] =  y_smt"
   ]
  },
  {
   "cell_type": "markdown",
   "id": "4888df5b-41b5-42a0-95c8-0f7f1c9822b0",
   "metadata": {
    "tags": []
   },
   "source": [
    "# 5.0 Exploratory Data Analysis"
   ]
  },
  {
   "cell_type": "code",
   "execution_count": 42,
   "id": "7643d985-374c-4515-a10b-5c294327ecf2",
   "metadata": {
    "tags": []
   },
   "outputs": [
    {
     "data": {
      "text/html": [
       "<div>\n",
       "<style scoped>\n",
       "    .dataframe tbody tr th:only-of-type {\n",
       "        vertical-align: middle;\n",
       "    }\n",
       "\n",
       "    .dataframe tbody tr th {\n",
       "        vertical-align: top;\n",
       "    }\n",
       "\n",
       "    .dataframe thead th {\n",
       "        text-align: right;\n",
       "    }\n",
       "</style>\n",
       "<table border=\"1\" class=\"dataframe\">\n",
       "  <thead>\n",
       "    <tr style=\"text-align: right;\">\n",
       "      <th></th>\n",
       "      <th>signup_flow</th>\n",
       "      <th>days_from_first_active_until_booking</th>\n",
       "      <th>days_from_first_active_until_account_created</th>\n",
       "      <th>days_from_account_created_until_first_booking</th>\n",
       "      <th>year_first_active</th>\n",
       "      <th>month_first_active</th>\n",
       "      <th>day_first_active</th>\n",
       "      <th>day_of_week_first_active</th>\n",
       "      <th>week_of_year_first_active</th>\n",
       "      <th>year_first_booking</th>\n",
       "      <th>month_first_booking</th>\n",
       "      <th>day_first_booking</th>\n",
       "      <th>day_of_week_first_booking</th>\n",
       "      <th>week_of_year_first_booking</th>\n",
       "      <th>year_account_created</th>\n",
       "      <th>month_account_created</th>\n",
       "      <th>day_account_created</th>\n",
       "      <th>day_of_week_account_created</th>\n",
       "      <th>week_of_year_account_created</th>\n",
       "      <th>gender</th>\n",
       "      <th>age</th>\n",
       "      <th>signup_method</th>\n",
       "      <th>language</th>\n",
       "      <th>affiliate_channel</th>\n",
       "      <th>affiliate_provider</th>\n",
       "      <th>first_affiliate_tracked</th>\n",
       "      <th>signup_app</th>\n",
       "      <th>first_device_type</th>\n",
       "      <th>first_browser</th>\n",
       "      <th>country_destination</th>\n",
       "    </tr>\n",
       "  </thead>\n",
       "  <tbody>\n",
       "    <tr>\n",
       "      <th>0</th>\n",
       "      <td>0</td>\n",
       "      <td>2228</td>\n",
       "      <td>732</td>\n",
       "      <td>1496</td>\n",
       "      <td>2009</td>\n",
       "      <td>5</td>\n",
       "      <td>23</td>\n",
       "      <td>5</td>\n",
       "      <td>21</td>\n",
       "      <td>2015</td>\n",
       "      <td>6</td>\n",
       "      <td>29</td>\n",
       "      <td>0</td>\n",
       "      <td>27</td>\n",
       "      <td>2011</td>\n",
       "      <td>5</td>\n",
       "      <td>25</td>\n",
       "      <td>2</td>\n",
       "      <td>21</td>\n",
       "      <td>MALE</td>\n",
       "      <td>38</td>\n",
       "      <td>facebook</td>\n",
       "      <td>en</td>\n",
       "      <td>seo</td>\n",
       "      <td>google</td>\n",
       "      <td>untracked</td>\n",
       "      <td>Web</td>\n",
       "      <td>Mac Desktop</td>\n",
       "      <td>Chrome</td>\n",
       "      <td>NDF</td>\n",
       "    </tr>\n",
       "    <tr>\n",
       "      <th>1</th>\n",
       "      <td>3</td>\n",
       "      <td>419</td>\n",
       "      <td>476</td>\n",
       "      <td>-57</td>\n",
       "      <td>2009</td>\n",
       "      <td>6</td>\n",
       "      <td>9</td>\n",
       "      <td>1</td>\n",
       "      <td>24</td>\n",
       "      <td>2010</td>\n",
       "      <td>8</td>\n",
       "      <td>2</td>\n",
       "      <td>0</td>\n",
       "      <td>31</td>\n",
       "      <td>2010</td>\n",
       "      <td>9</td>\n",
       "      <td>28</td>\n",
       "      <td>1</td>\n",
       "      <td>39</td>\n",
       "      <td>FEMALE</td>\n",
       "      <td>56</td>\n",
       "      <td>basic</td>\n",
       "      <td>en</td>\n",
       "      <td>direct</td>\n",
       "      <td>direct</td>\n",
       "      <td>untracked</td>\n",
       "      <td>Web</td>\n",
       "      <td>Windows Desktop</td>\n",
       "      <td>IE</td>\n",
       "      <td>US</td>\n",
       "    </tr>\n",
       "    <tr>\n",
       "      <th>2</th>\n",
       "      <td>0</td>\n",
       "      <td>1043</td>\n",
       "      <td>765</td>\n",
       "      <td>278</td>\n",
       "      <td>2009</td>\n",
       "      <td>10</td>\n",
       "      <td>31</td>\n",
       "      <td>5</td>\n",
       "      <td>44</td>\n",
       "      <td>2012</td>\n",
       "      <td>9</td>\n",
       "      <td>8</td>\n",
       "      <td>5</td>\n",
       "      <td>36</td>\n",
       "      <td>2011</td>\n",
       "      <td>12</td>\n",
       "      <td>5</td>\n",
       "      <td>0</td>\n",
       "      <td>49</td>\n",
       "      <td>FEMALE</td>\n",
       "      <td>42</td>\n",
       "      <td>facebook</td>\n",
       "      <td>en</td>\n",
       "      <td>direct</td>\n",
       "      <td>direct</td>\n",
       "      <td>untracked</td>\n",
       "      <td>Web</td>\n",
       "      <td>Mac Desktop</td>\n",
       "      <td>Firefox</td>\n",
       "      <td>other</td>\n",
       "    </tr>\n",
       "    <tr>\n",
       "      <th>3</th>\n",
       "      <td>0</td>\n",
       "      <td>72</td>\n",
       "      <td>280</td>\n",
       "      <td>-208</td>\n",
       "      <td>2009</td>\n",
       "      <td>12</td>\n",
       "      <td>8</td>\n",
       "      <td>1</td>\n",
       "      <td>50</td>\n",
       "      <td>2010</td>\n",
       "      <td>2</td>\n",
       "      <td>18</td>\n",
       "      <td>3</td>\n",
       "      <td>7</td>\n",
       "      <td>2010</td>\n",
       "      <td>9</td>\n",
       "      <td>14</td>\n",
       "      <td>1</td>\n",
       "      <td>37</td>\n",
       "      <td>-unknown-</td>\n",
       "      <td>41</td>\n",
       "      <td>basic</td>\n",
       "      <td>en</td>\n",
       "      <td>direct</td>\n",
       "      <td>direct</td>\n",
       "      <td>untracked</td>\n",
       "      <td>Web</td>\n",
       "      <td>Mac Desktop</td>\n",
       "      <td>Chrome</td>\n",
       "      <td>US</td>\n",
       "    </tr>\n",
       "    <tr>\n",
       "      <th>4</th>\n",
       "      <td>0</td>\n",
       "      <td>3</td>\n",
       "      <td>0</td>\n",
       "      <td>3</td>\n",
       "      <td>2010</td>\n",
       "      <td>1</td>\n",
       "      <td>2</td>\n",
       "      <td>5</td>\n",
       "      <td>53</td>\n",
       "      <td>2010</td>\n",
       "      <td>1</td>\n",
       "      <td>5</td>\n",
       "      <td>1</td>\n",
       "      <td>1</td>\n",
       "      <td>2010</td>\n",
       "      <td>1</td>\n",
       "      <td>2</td>\n",
       "      <td>5</td>\n",
       "      <td>53</td>\n",
       "      <td>FEMALE</td>\n",
       "      <td>46</td>\n",
       "      <td>basic</td>\n",
       "      <td>en</td>\n",
       "      <td>other</td>\n",
       "      <td>craigslist</td>\n",
       "      <td>untracked</td>\n",
       "      <td>Web</td>\n",
       "      <td>Mac Desktop</td>\n",
       "      <td>Safari</td>\n",
       "      <td>US</td>\n",
       "    </tr>\n",
       "  </tbody>\n",
       "</table>\n",
       "</div>"
      ],
      "text/plain": [
       "   signup_flow  days_from_first_active_until_booking  days_from_first_active_until_account_created  days_from_account_created_until_first_booking  year_first_active  month_first_active  day_first_active  day_of_week_first_active  week_of_year_first_active  year_first_booking  month_first_booking  day_first_booking  day_of_week_first_booking  week_of_year_first_booking  year_account_created  month_account_created  day_account_created  day_of_week_account_created  week_of_year_account_created     gender age signup_method language affiliate_channel affiliate_provider first_affiliate_tracked signup_app first_device_type first_browser country_destination\n",
       "0            0                                  2228                                           732                                           1496               2009                   5                23                         5                         21                2015                    6                 29                          0                          27                  2011                      5                   25                            2                            21       MALE  38      facebook       en               seo             google               untracked        Web       Mac Desktop        Chrome                 NDF\n",
       "1            3                                   419                                           476                                            -57               2009                   6                 9                         1                         24                2010                    8                  2                          0                          31                  2010                      9                   28                            1                            39     FEMALE  56         basic       en            direct             direct               untracked        Web   Windows Desktop            IE                  US\n",
       "2            0                                  1043                                           765                                            278               2009                  10                31                         5                         44                2012                    9                  8                          5                          36                  2011                     12                    5                            0                            49     FEMALE  42      facebook       en            direct             direct               untracked        Web       Mac Desktop       Firefox               other\n",
       "3            0                                    72                                           280                                           -208               2009                  12                 8                         1                         50                2010                    2                 18                          3                           7                  2010                      9                   14                            1                            37  -unknown-  41         basic       en            direct             direct               untracked        Web       Mac Desktop        Chrome                  US\n",
       "4            0                                     3                                             0                                              3               2010                   1                 2                         5                         53                2010                    1                  5                          1                           1                  2010                      1                    2                            5                            53     FEMALE  46         basic       en             other         craigslist               untracked        Web       Mac Desktop        Safari                  US"
      ]
     },
     "execution_count": 42,
     "metadata": {},
     "output_type": "execute_result"
    }
   ],
   "source": [
    "df51 = df46.copy()\n",
    "df51.head()"
   ]
  },
  {
   "cell_type": "code",
   "execution_count": 43,
   "id": "39b49dca-5489-4fc4-b0d3-af7db41dd527",
   "metadata": {},
   "outputs": [],
   "source": [
    "df52 = df4.copy()"
   ]
  },
  {
   "cell_type": "markdown",
   "id": "45a61939-9cc6-433d-ba8d-dbead34b8453",
   "metadata": {
    "tags": []
   },
   "source": [
    "## 5.1 Bivariate Analysis - Feature Behavior (Unbalanced Dataset)"
   ]
  },
  {
   "cell_type": "markdown",
   "id": "6a030cf8-ae6a-436f-ab55-fb3935baff82",
   "metadata": {},
   "source": [
    " **H01.** Em todos os destinos, os usuários levam 15 dias, em média, para fazer a primeira reserva no Airbnb, desde sua primeira ativacao.\n",
    "\n",
    "**Verdadeiro.** Em todos os destinos, os usuários até 6 dias para reservar o primeiro Airbnb"
   ]
  },
  {
   "cell_type": "code",
   "execution_count": 44,
   "id": "b5f442fa-bc92-4b5e-91a4-5e7104b32272",
   "metadata": {},
   "outputs": [
    {
     "data": {
      "text/plain": [
       "<AxesSubplot:xlabel='country_destination', ylabel='days_from_first_active_until_booking'>"
      ]
     },
     "execution_count": 44,
     "metadata": {},
     "output_type": "execute_result"
    },
    {
     "data": {
      "image/png": "[encoded data removed]",
      "text/plain": [
       "<Figure size 1440x864 with 2 Axes>"
      ]
     },
     "metadata": {},
     "output_type": "display_data"
    }
   ],
   "source": [
    " plt.figure( figsize=(20, 12))\n",
    "plt.subplot( 3, 1, 1 )\n",
    "aux01 = df51[['days_from_first_active_until_booking', 'country_destination']].groupby( 'country_destination' ).median().reset_index()\n",
    "sns.barplot( x='country_destination', y='days_from_first_active_until_booking', \n",
    "             data=aux01.sort_values( 'days_from_first_active_until_booking' ) )\n",
    "\n",
    "# remove outlier\n",
    "plt.subplot( 3, 1, 2 )\n",
    "aux02 = df51[df51['country_destination'] != 'NDF']\n",
    "aux02 = aux02[['days_from_first_active_until_booking', 'country_destination']].groupby( 'country_destination' ).median().reset_index()\n",
    "sns.barplot( x='country_destination', y='days_from_first_active_until_booking', \n",
    "             data=aux02.sort_values( 'days_from_first_active_until_booking' ) )"
   ]
  },
  {
   "cell_type": "markdown",
   "id": "f7af42e9-a30b-4a92-b82d-9a969cd9d6e3",
   "metadata": {},
   "source": [
    "**H02.** Em todos os destinos, os usuários levam 3 dias, em média, para fazer o cadastro no site.\n",
    "\n",
    "**Verdadeira.** Em todos os destinos, os usuários levam até 2 dias para finalizar o cadastro"
   ]
  },
  {
   "cell_type": "code",
   "execution_count": 45,
   "id": "cba79635-9e4c-4053-a63f-c8978ea861b9",
   "metadata": {},
   "outputs": [
    {
     "data": {
      "text/plain": [
       "<AxesSubplot:xlabel='country_destination', ylabel='days_from_first_active_until_account_created'>"
      ]
     },
     "execution_count": 45,
     "metadata": {},
     "output_type": "execute_result"
    },
    {
     "data": {
      "image/png": "[encoded data removed]",
      "text/plain": [
       "<Figure size 1440x864 with 1 Axes>"
      ]
     },
     "metadata": {},
     "output_type": "display_data"
    }
   ],
   "source": [
    "plt.figure( figsize=(20, 12))\n",
    "aux01 = df51[['days_from_first_active_until_account_created', 'country_destination']].groupby( 'country_destination' ).mean().reset_index()\n",
    "sns.barplot( x='country_destination', y='days_from_first_active_until_account_created', \n",
    "             data=aux01.sort_values( 'days_from_first_active_until_account_created' ) )"
   ]
  },
  {
   "cell_type": "markdown",
   "id": "86167f93-683d-43e6-b687-6dcd3257ef7f",
   "metadata": {},
   "source": [
    "**H03.** O volume de reservas anual feitas durante o verão aumentaram 20% para destinos dentro dos USA.\n",
    "\n",
    "**False.** O Volume de reservas aumenta durante o verão entre os anos de 2010 até 2013."
   ]
  },
  {
   "cell_type": "code",
   "execution_count": 46,
   "id": "045f7114-95aa-4dbf-b16d-e99ccaf53531",
   "metadata": {},
   "outputs": [
    {
     "data": {
      "text/plain": [
       "<AxesSubplot:xlabel='year_first_booking', ylabel='delta'>"
      ]
     },
     "execution_count": 46,
     "metadata": {},
     "output_type": "execute_result"
    },
    {
     "data": {
      "image/png": "[encoded data removed]",
      "text/plain": [
       "<Figure size 1440x864 with 1 Axes>"
      ]
     },
     "metadata": {},
     "output_type": "display_data"
    }
   ],
   "source": [
    "aux01 = df51[['year_first_booking', 'month_first_booking', 'country_destination']].\\\n",
    "                groupby( ['year_first_booking', 'month_first_booking', 'country_destination'] ). \\\n",
    "                size().reset_index().rename( columns={0:'count'})\n",
    "\n",
    "# select only summer\n",
    "aux01 = aux01[( aux01['month_first_booking'].isin( [6, 7, 8, 9] ) ) & (aux01['country_destination'] == 'US')]\n",
    "\n",
    "aux02 = aux01[['year_first_booking', 'count']].groupby( 'year_first_booking' ).sum().reset_index()\n",
    "\n",
    "aux02['delta'] = 100*aux02['count'].pct_change().fillna( 0 )\n",
    "\n",
    "plt.figure( figsize=(20,12))\n",
    "sns.barplot( x='year_first_booking', y='delta', data=aux02)"
   ]
  },
  {
   "cell_type": "markdown",
   "id": "c9da1270-2820-4339-8be2-eeee8cd0019f",
   "metadata": {},
   "source": [
    " **H04**. Usuários do sexo feminino fazem 10% mais reservas para países fora dos USA."
   ]
  },
  {
   "cell_type": "markdown",
   "id": "0e77d805-6faa-4f1a-9ea5-61193c82a418",
   "metadata": {},
   "source": [
    "**H05.** O canal de Marketing Google representa 40% das reservas para países fora dos USA."
   ]
  },
  {
   "cell_type": "markdown",
   "id": "c3a3a92c-2161-47ec-9104-9cca04548aa5",
   "metadata": {},
   "source": [
    "**H06.** O destino dos USA representam mais de 20% em todos os canais."
   ]
  },
  {
   "cell_type": "markdown",
   "id": "e9593314-2ea5-4117-b0f8-c161c7fe8126",
   "metadata": {},
   "source": [
    "**H07.** A idade média das pessoas é de 35 anos em todos os destinos."
   ]
  },
  {
   "cell_type": "markdown",
   "id": "0ff2d55c-d94c-4aa3-8373-cfa405369558",
   "metadata": {},
   "source": [
    "**H08.** A porcentagem de usuários que usam o site na lingua inglês-americano para reservar acomodações em qualquer destino é maior que 90%"
   ]
  },
  {
   "cell_type": "markdown",
   "id": "2493882a-dadc-4342-9d17-11deb7233aa4",
   "metadata": {},
   "source": [
    "**H09.** O número de reservas do Airbnb é crescente ou decrescente ao longo dos anos?"
   ]
  },
  {
   "cell_type": "markdown",
   "id": "6ce23276-d79b-4cdd-8099-d1e72749f27b",
   "metadata": {},
   "source": [
    "**H10.** O número de reservas do Airbnb é crescente ao longo dos anos."
   ]
  },
  {
   "cell_type": "markdown",
   "id": "45db4741-4448-4110-8031-22089ac50ac8",
   "metadata": {},
   "source": [
    "## 5.2 Variables Impact (Balanced Dataset)"
   ]
  },
  {
   "cell_type": "code",
   "execution_count": 47,
   "id": "c9d6aa05-9872-46bb-9f77-35152a03a45c",
   "metadata": {},
   "outputs": [
    {
     "data": {
      "application/vnd.jupyter.widget-view+json": {
       "model_id": "832d44aa90c9439a95127892447f28ea",
       "version_major": 2,
       "version_minor": 0
      },
      "text/plain": [
       "Summarize dataset:   0%|          | 0/5 [00:00<?, ?it/s]"
      ]
     },
     "metadata": {},
     "output_type": "display_data"
    },
    {
     "data": {
      "application/vnd.jupyter.widget-view+json": {
       "model_id": "80de04be1727493bad97a67a5bceff69",
       "version_major": 2,
       "version_minor": 0
      },
      "text/plain": [
       "Generate report structure:   0%|          | 0/1 [00:00<?, ?it/s]"
      ]
     },
     "metadata": {},
     "output_type": "display_data"
    },
    {
     "data": {
      "application/vnd.jupyter.widget-view+json": {
       "model_id": "df8c430ad5344b04b7128a3a5d325adb",
       "version_major": 2,
       "version_minor": 0
      },
      "text/plain": [
       "Render HTML:   0%|          | 0/1 [00:00<?, ?it/s]"
      ]
     },
     "metadata": {},
     "output_type": "display_data"
    },
    {
     "data": {
      "application/vnd.jupyter.widget-view+json": {
       "model_id": "e0421eeee8ac4c2791696bc259f34858",
       "version_major": 2,
       "version_minor": 0
      },
      "text/plain": [
       "Export report to file:   0%|          | 0/1 [00:00<?, ?it/s]"
      ]
     },
     "metadata": {},
     "output_type": "display_data"
    }
   ],
   "source": [
    "profile = ProfileReport( df51, title='Airbnb Booking' )\n",
    "#profile.to_notebook_iframe()\n",
    "profile.to_file( output_file='airbnb_booking_statistics_after_cleaning.html' )"
   ]
  },
  {
   "cell_type": "markdown",
   "id": "7d599ce2-9f8e-4245-841c-c5901de61bc4",
   "metadata": {
    "tags": []
   },
   "source": [
    "## 5.2.1 Univariate Analysis "
   ]
  },
  {
   "cell_type": "code",
   "execution_count": 48,
   "id": "dd3df8b0-463d-4831-ada7-ca3a0d8feb17",
   "metadata": {},
   "outputs": [],
   "source": [
    "# ===================== High Correlation  ===================== \n",
    "# days_from_first_active_until_booking x days_from_account_created_until_first_booking\n",
    "# Remove: days_from_first_active_until_booking\n",
    "\n",
    "# year_first_active x year_account_created\n",
    "# Remove: year_first_active\n",
    "\n",
    "# month_first_active x month_account_created\n",
    "# Remove: month_first_active\n",
    "\n",
    "# day_first_active x day_account_created\n",
    "# Remove: day_first_active\n",
    "\n",
    "# day_of_week_first_active x day_of_week_account_created\n",
    "# Remove: day_of_week_first_active\n",
    "\n",
    "# week_of_year_first_active x week_of_year_account_created\n",
    "# Remove: week_of_year_first_active\n",
    "\n",
    "# month_first_booking x week_of_year_first_booking\n",
    "# Remove: month_first_booking\n",
    "\n",
    "# month_account_created x week_of_year_account_created\n",
    "# Remove: month_account_created\n",
    "\n",
    "# year_first_booking x year_account_created\n",
    "# Remove: year_first_booking\n",
    "\n",
    "# week_of_year_first_booking x week_of_year_account_created\n",
    "# Remove: week_of_year_first_booking\n",
    "\n",
    "# affiliate_channel x affiliate_provider\n",
    "# Remove: affiliate_provider\n",
    "\n",
    "# first_device_type x first_browser\n",
    "# Remove: first_browser\n",
    "\n",
    "#first_device_type x sigup_app\n",
    "#Remove: first_device_type"
   ]
  },
  {
   "cell_type": "markdown",
   "id": "c981cc0b-5ac9-4ad3-988d-41542ef0e933",
   "metadata": {},
   "source": [
    "## 5.2.2 Bivariate Analysis "
   ]
  },
  {
   "cell_type": "code",
   "execution_count": 49,
   "id": "37d797dc-c09e-4971-8ff1-1b5c93bd6593",
   "metadata": {},
   "outputs": [
    {
     "data": {
      "text/plain": [
       "Index(['signup_flow', 'days_from_first_active_until_booking',\n",
       "       'days_from_first_active_until_account_created',\n",
       "       'days_from_account_created_until_first_booking', 'year_first_active',\n",
       "       'month_first_active', 'day_first_active', 'day_of_week_first_active',\n",
       "       'week_of_year_first_active', 'year_first_booking',\n",
       "       'month_first_booking', 'day_first_booking', 'day_of_week_first_booking',\n",
       "       'week_of_year_first_booking', 'year_account_created',\n",
       "       'month_account_created', 'day_account_created',\n",
       "       'day_of_week_account_created', 'week_of_year_account_created', 'gender',\n",
       "       'age', 'signup_method', 'language', 'affiliate_channel',\n",
       "       'affiliate_provider', 'first_affiliate_tracked', 'signup_app',\n",
       "       'first_device_type', 'first_browser', 'country_destination'],\n",
       "      dtype='object')"
      ]
     },
     "execution_count": 49,
     "metadata": {},
     "output_type": "execute_result"
    }
   ],
   "source": [
    "df46.columns"
   ]
  },
  {
   "cell_type": "markdown",
   "id": "67d90f95-4714-4309-a91f-fa894187dba6",
   "metadata": {},
   "source": [
    "## 5.2.3 Multivariate Analysis "
   ]
  },
  {
   "cell_type": "code",
   "execution_count": 50,
   "id": "fcc4ccc3-4646-498e-8653-4ee74d9e7cb4",
   "metadata": {},
   "outputs": [],
   "source": [
    "cols = ['days_from_first_active_until_booking',  'year_first_active',  'month_first_active', 'day_first_active',\n",
    "        'day_of_week_first_active', 'week_of_year_first_active', 'month_first_booking', 'month_account_created',\n",
    "        'year_first_booking', 'week_of_year_first_booking', 'affiliate_provider',\n",
    "        'first_browser', 'first_device_type', 'language'] # high correlation"
   ]
  },
  {
   "cell_type": "code",
   "execution_count": 51,
   "id": "a3d9b947-c626-4fd1-90f3-2765226d3983",
   "metadata": {},
   "outputs": [
    {
     "data": {
      "text/plain": [
       "Index(['signup_flow', 'days_from_first_active_until_booking',\n",
       "       'days_from_first_active_until_account_created',\n",
       "       'days_from_account_created_until_first_booking', 'year_first_active',\n",
       "       'month_first_active', 'day_first_active', 'day_of_week_first_active',\n",
       "       'week_of_year_first_active', 'year_first_booking',\n",
       "       'month_first_booking', 'day_first_booking', 'day_of_week_first_booking',\n",
       "       'week_of_year_first_booking', 'year_account_created',\n",
       "       'month_account_created', 'day_account_created',\n",
       "       'day_of_week_account_created', 'week_of_year_account_created', 'gender',\n",
       "       'age', 'signup_method', 'language', 'affiliate_channel',\n",
       "       'affiliate_provider', 'first_affiliate_tracked', 'signup_app',\n",
       "       'first_device_type', 'first_browser', 'country_destination'],\n",
       "      dtype='object')"
      ]
     },
     "execution_count": 51,
     "metadata": {},
     "output_type": "execute_result"
    }
   ],
   "source": [
    "df46.columns"
   ]
  },
  {
   "cell_type": "markdown",
   "id": "3767b1b5-0da1-4665-bd69-fa54e00f5c55",
   "metadata": {},
   "source": [
    "#  6.0. Data Preparation"
   ]
  },
  {
   "cell_type": "code",
   "execution_count": 52,
   "id": "867dad59-ea83-402f-a57d-42f17dc79336",
   "metadata": {},
   "outputs": [
    {
     "data": {
      "text/plain": [
       "signup_flow                                       int64\n",
       "days_from_first_active_until_account_created      int64\n",
       "days_from_account_created_until_first_booking     int64\n",
       "day_first_booking                                 int64\n",
       "day_of_week_first_booking                         int64\n",
       "year_account_created                              int64\n",
       "day_account_created                               int64\n",
       "day_of_week_account_created                       int64\n",
       "week_of_year_account_created                      int64\n",
       "gender                                           object\n",
       "age                                              object\n",
       "signup_method                                    object\n",
       "affiliate_channel                                object\n",
       "first_affiliate_tracked                          object\n",
       "signup_app                                       object\n",
       "country_destination                              object\n",
       "dtype: object"
      ]
     },
     "execution_count": 52,
     "metadata": {},
     "output_type": "execute_result"
    }
   ],
   "source": [
    "df6 = df46.drop( cols, axis=1 )\n",
    "df6.dtypes"
   ]
  },
  {
   "cell_type": "code",
   "execution_count": 53,
   "id": "bb6d0538-bc04-470f-8a85-13d367cd3366",
   "metadata": {},
   "outputs": [],
   "source": [
    "#df6.to_csv(\"df6.csv\")87,40"
   ]
  },
  {
   "cell_type": "code",
   "execution_count": 54,
   "id": "ee629791-e80e-4057-bc3d-aede4865a303",
   "metadata": {},
   "outputs": [
    {
     "data": {
      "text/plain": [
       "(546589, 17)"
      ]
     },
     "execution_count": 54,
     "metadata": {},
     "output_type": "execute_result"
    }
   ],
   "source": [
    "df6 =  pd.read_csv('df6.csv', low_memory=True)\n",
    "df6.shape"
   ]
  },
  {
   "cell_type": "markdown",
   "id": "fa8798ff-7c4f-48a7-8488-2a6d786f6fe7",
   "metadata": {
    "tags": []
   },
   "source": [
    "## 6.1. Rescaling"
   ]
  },
  {
   "cell_type": "code",
   "execution_count": 55,
   "id": "9cc9f9ac-f15a-4140-99d9-ba93d7bdf2a5",
   "metadata": {},
   "outputs": [],
   "source": [
    "ss = pp.StandardScaler()\n",
    "rs = pp.RobustScaler()\n",
    "mms = pp.MinMaxScaler()"
   ]
  },
  {
   "cell_type": "code",
   "execution_count": 56,
   "id": "0ce916f5-75c0-4917-a3dd-4afc1afada16",
   "metadata": {},
   "outputs": [],
   "source": [
    " # age - Standardization\n",
    "df6['age'] = ss.fit_transform( df6[['age']].values )\n",
    "\n",
    "# signup_flow - Robust Scaler\n",
    "df6['signup_flow'] = rs.fit_transform( df6[['signup_flow']].values )\n",
    "\n",
    "# days_from_first_active_until_account_created - Robust Scaler\n",
    "df6['days_from_first_active_until_account_created'] = rs.fit_transform( df6[['days_from_first_active_until_account_created']].values )\n",
    "\n",
    "# days_from_account_created_until_first_booking - Robust Scaler\n",
    "df6['days_from_account_created_until_first_booking'] = rs.fit_transform( df6[['days_from_account_created_until_first_booking']].values )\n",
    "\n",
    "# year_account_created - MinMax Scaler\n",
    "df6['year_account_created'] = mms.fit_transform( df6[['year_account_created']].values )"
   ]
  },
  {
   "cell_type": "markdown",
   "id": "389c5895-37f8-4a39-b88f-a5399126f889",
   "metadata": {
    "tags": []
   },
   "source": [
    "## 6.1. Encoding"
   ]
  },
  {
   "cell_type": "code",
   "execution_count": 57,
   "id": "b126ed78-2196-43cc-b993-1615ca53978a",
   "metadata": {},
   "outputs": [],
   "source": [
    "te = TargetEncoder()"
   ]
  },
  {
   "cell_type": "code",
   "execution_count": 58,
   "id": "a852433c-271b-4164-a87b-32f0205bbbad",
   "metadata": {},
   "outputs": [],
   "source": [
    "# gender - One Hot Encoder\n",
    "df6 = pd.get_dummies( df6, prefix=['gender'], columns=['gender'] )\n",
    "\n",
    "# signup_method - One Hot Encoder\n",
    "df6 = pd.get_dummies( df6, prefix=['signup_method'], columns=['signup_method'] )\n",
    "\n",
    "# signup_app - One Hot Encoder\n",
    "df6 = pd.get_dummies( df6, prefix=['signup_app'], columns=['signup_app'] )\n",
    "\n",
    "# affiliate_channel - Target Encoder\n",
    "c = {'NDF':0, 'US':1, 'other':2, 'CA':3, 'FR':4, 'IT':5, 'ES':6, 'GB':7, 'NL':8, 'DE':9, 'AU':10, 'PT':11}\n",
    "df6['affiliate_channel'] = te.fit_transform( df6[['affiliate_channel']].values, df6['country_destination'].map( c ) )\n",
    "\n",
    "# first_affiliate_tracked - Target Encoder\n",
    "df6['first_affiliate_tracked'] = te.fit_transform( df6[['first_affiliate_tracked']].values, df6['country_destination'].map( c ) )"
   ]
  },
  {
   "cell_type": "markdown",
   "id": "c18404c9-4d0e-43ef-a683-068decd123c7",
   "metadata": {},
   "source": [
    "## 6.3. Transformation"
   ]
  },
  {
   "cell_type": "code",
   "execution_count": 59,
   "id": "0566f894-16dc-47ec-bb3e-215e06a40f7b",
   "metadata": {},
   "outputs": [],
   "source": [
    "# week_of_year_account_created\n",
    "df6['week_of_year_account_created_sin'] = df6['week_of_year_account_created'].apply( lambda x: np.sin( x * (2*np.pi/52 ) ) )\n",
    "df6['week_of_year_account_created_cos'] = df6['week_of_year_account_created'].apply( lambda x: np.cos( x * (2*np.pi/52 ) ) )\n",
    "\n",
    "# day_of_week_first_booking\n",
    "df6['day_of_week_first_booking_sin'] = df6['day_of_week_first_booking'].apply( lambda x: np.sin( x * (2*np.pi/7 ) ) )\n",
    "df6['day_of_week_first_booking_cos'] = df6['day_of_week_first_booking'].apply( lambda x: np.cos( x * (2*np.pi/7 ) ) )\n",
    "\n",
    "# day_account_created\n",
    "df6['day_account_created_sin'] = df6['day_account_created'].apply( lambda x: np.sin( x * (2*np.pi/31 ) ) )\n",
    "df6['day_account_created_cos'] = df6['day_account_created'].apply( lambda x: np.cos( x * (2*np.pi/31 ) ) )\n",
    "\n",
    "# day_of_week_account_created\n",
    "df6['day_of_week_account_created_sin'] = df6['day_of_week_account_created'].apply( lambda x: np.sin( x * (2*np.pi/7 ) ) )\n",
    "df6['day_of_week_account_created_cos'] = df6['day_of_week_account_created'].apply( lambda x: np.cos( x * (2*np.pi/7 ) ) )"
   ]
  },
  {
   "cell_type": "markdown",
   "id": "1332eede-f05b-4b6a-aeab-a6f0e25df670",
   "metadata": {
    "tags": []
   },
   "source": [
    "# 7.0 Feature Selection"
   ]
  },
  {
   "cell_type": "code",
   "execution_count": 60,
   "id": "355aefdd-8a6a-469f-afbb-c31781ed368c",
   "metadata": {},
   "outputs": [],
   "source": [
    "df7 = df6.copy()"
   ]
  },
  {
   "cell_type": "code",
   "execution_count": 61,
   "id": "4098f665-878e-405d-ab4c-b821ed98ee40",
   "metadata": {},
   "outputs": [],
   "source": [
    "X = df6.drop('country_destination', axis=1)\n",
    "y = df6['country_destination'].copy()"
   ]
  },
  {
   "cell_type": "code",
   "execution_count": 62,
   "id": "c73ee817-b85d-45b8-91c9-f7c781cd0dce",
   "metadata": {},
   "outputs": [],
   "source": [
    "# Split dataset into training and test\n",
    "x_train, x_test, y_train, y_test = ms.train_test_split( X, y, test_size=0.2, random_state=32 )"
   ]
  },
  {
   "cell_type": "markdown",
   "id": "4bb75aba-f122-4585-b276-32cb20b10083",
   "metadata": {
    "tags": []
   },
   "source": [
    "# 8.0 Machine Learning - Neural Network - MLP"
   ]
  },
  {
   "cell_type": "markdown",
   "id": "1e8b53df-3005-471b-83f7-8a1fad65c7db",
   "metadata": {
    "tags": []
   },
   "source": [
    "## 8.1. Baseline Model "
   ]
  },
  {
   "cell_type": "code",
   "execution_count": 65,
   "id": "10b61dab-86f3-4161-a407-5c6b719f2038",
   "metadata": {
    "tags": []
   },
   "outputs": [],
   "source": [
    "country_destination_list = df1['country_destination'].drop_duplicates().sort_values().tolist()\n",
    "k_num = y_test.shape[0]\n",
    "# adding the weights according to column distribution \"country_destination\"\n",
    "country_destination_weights= df1['country_destination'].value_counts(normalize=True).sort_index().tolist()\n",
    "# random model\n",
    "\n",
    "yhat_random = random.choices(population=country_destination_list,\n",
    "                             weights=country_destination_weights,              \n",
    "                             k=k_num)"
   ]
  },
  {
   "cell_type": "markdown",
   "id": "691b70a3-e6bc-465a-9bf8-a56616228998",
   "metadata": {},
   "source": [
    "## 8.1.1 Baseline Model Performance"
   ]
  },
  {
   "cell_type": "code",
   "execution_count": 66,
   "id": "59a0884a-6173-4736-9bdd-c247ea2f94ad",
   "metadata": {},
   "outputs": [
    {
     "name": "stdout",
     "output_type": "stream",
     "text": [
      "Accuracy: 0.09170493422858084\n",
      "Balanced Accuracy: 0.08309942994678837\n",
      "Kappa Score: 0.08309942994678837\n",
      "              precision    recall  f1-score   support\n",
      "\n",
      "          AU       0.06      0.00      0.01      7362\n",
      "          CA       0.07      0.01      0.01      8609\n",
      "          DE       0.08      0.01      0.01      7439\n",
      "          ES       0.09      0.01      0.02     10084\n",
      "          FR       0.07      0.03      0.04      8854\n",
      "          GB       0.10      0.01      0.03     10560\n",
      "          IT       0.07      0.02      0.03      7972\n",
      "         NDF       0.10      0.45      0.16     10901\n",
      "          NL       0.08      0.00      0.01      9547\n",
      "          PT       0.11      0.00      0.00      9501\n",
      "          US       0.09      0.39      0.14      9503\n",
      "       other       0.09      0.06      0.07      8986\n",
      "\n",
      "    accuracy                           0.09    109318\n",
      "   macro avg       0.08      0.08      0.04    109318\n",
      "weighted avg       0.08      0.09      0.05    109318\n",
      "\n"
     ]
    },
    {
     "data": {
      "text/plain": [
       "<AxesSubplot:title={'center':'Confusion Matrix'}, xlabel='Predicted label', ylabel='True label'>"
      ]
     },
     "execution_count": 66,
     "metadata": {},
     "output_type": "execute_result"
    },
    {
     "data": {
      "image/png": "[encoded data removed]",
      "text/plain": [
       "<Figure size 864x864 with 2 Axes>"
      ]
     },
     "metadata": {},
     "output_type": "display_data"
    }
   ],
   "source": [
    "# Acurracy\n",
    "acc_random = m.accuracy_score(y_test, yhat_random )\n",
    "print(\"Accuracy: {}\".format(acc_random))\n",
    "\n",
    "# Balanced accuracy\n",
    "balanced_acc_random = m.balanced_accuracy_score(y_test, yhat_random)\n",
    "print(\"Balanced Accuracy: {}\".format(balanced_acc_random))\n",
    "\n",
    "#Kappa Metrics\n",
    "Kappa_random = m.cohen_kappa_score(y_test, yhat_random)\n",
    "print(\"Kappa Score: {}\".format(balanced_acc_random))\n",
    "\n",
    "#Classification report\n",
    "print(m.classification_report(y_test, yhat_random))\n",
    "\n",
    "\n",
    "# Confusion Matrix\n",
    "mt.plot_confusion_matrix( y_test, yhat_random, normalize=False, figsize=(12,12) )"
   ]
  },
  {
   "cell_type": "markdown",
   "id": "d24b7270-c8f3-4d0b-959f-1fbe53f6e8ad",
   "metadata": {
    "tags": []
   },
   "source": [
    "# 8.2 Neural Network - MLP"
   ]
  },
  {
   "cell_type": "code",
   "execution_count": 67,
   "id": "8caccf70-d87e-45a6-bff9-5a453c5c8b80",
   "metadata": {},
   "outputs": [],
   "source": [
    "# One Hot Encoder\n",
    "ohe = pp.OneHotEncoder()\n",
    "y_train_nn = ohe.fit_transform( y_train.values.reshape(-1, 1) ).toarray()"
   ]
  },
  {
   "cell_type": "code",
   "execution_count": 68,
   "id": "601aa59a-4f57-4021-9b0f-795a201981a1",
   "metadata": {},
   "outputs": [
    {
     "data": {
      "text/plain": [
       "array([[0., 0., 0., ..., 0., 0., 0.],\n",
       "       [0., 0., 0., ..., 1., 0., 0.],\n",
       "       [0., 1., 0., ..., 0., 0., 0.],\n",
       "       ...,\n",
       "       [0., 0., 0., ..., 0., 0., 0.],\n",
       "       [0., 0., 0., ..., 0., 0., 0.],\n",
       "       [0., 0., 0., ..., 0., 0., 0.]])"
      ]
     },
     "execution_count": 68,
     "metadata": {},
     "output_type": "execute_result"
    }
   ],
   "source": [
    "y_train_nn"
   ]
  },
  {
   "cell_type": "code",
   "execution_count": 69,
   "id": "c269ea32-ee7e-418a-a827-f1b0e17f6468",
   "metadata": {},
   "outputs": [
    {
     "data": {
      "text/plain": [
       "(437271, 32)"
      ]
     },
     "execution_count": 69,
     "metadata": {},
     "output_type": "execute_result"
    }
   ],
   "source": [
    "x_train.shape"
   ]
  },
  {
   "cell_type": "code",
   "execution_count": 70,
   "id": "eabb1c2f-aeae-4f44-8681-6f3de0de90e7",
   "metadata": {},
   "outputs": [
    {
     "data": {
      "text/plain": [
       "<keras.callbacks.History at 0x19dee333c10>"
      ]
     },
     "execution_count": 70,
     "metadata": {},
     "output_type": "execute_result"
    }
   ],
   "source": [
    "# model definition\n",
    "model = ml.Sequential()\n",
    "model.add(l.Dense( 64,input_dim=x_train.shape[1], activation='relu') )\n",
    "model.add(l.Dense(12, activation=\"softmax\") )\n",
    "\n",
    "# model compile\n",
    "model.compile( loss=\"categorical_crossentropy\", optimizer=\"adam\", metrics=[\"accuracy\"] )\n",
    "\n",
    "model.fit( x_train, y_train_nn, epochs=100, verbose=0)"
   ]
  },
  {
   "cell_type": "code",
   "execution_count": 71,
   "id": "c888a6e1-c0f4-407f-82f8-9be8e604cb5e",
   "metadata": {},
   "outputs": [],
   "source": [
    "# prediction\n",
    "pred_nn = model.predict( x_test )\n",
    "\n",
    "# invert prediction\n",
    "yhat_nn = ohe.inverse_transform( pred_nn)\n",
    "\n",
    "# prediction prepare\n",
    "y_test_nn = y_test.to_numpy()\n",
    "yhat_nn = yhat_nn.reshape(1, -1)[0]"
   ]
  },
  {
   "cell_type": "markdown",
   "id": "c0b1f317-254a-4f7e-9005-d2b6eb89228f",
   "metadata": {
    "tags": []
   },
   "source": [
    "## 8.2.2 NN Performance"
   ]
  },
  {
   "cell_type": "code",
   "execution_count": 72,
   "id": "9c0d33bf-6bac-4841-8905-0a0a60b92331",
   "metadata": {},
   "outputs": [
    {
     "name": "stdout",
     "output_type": "stream",
     "text": [
      "Accuracy: 0.6580800965989133\n",
      "Balanced Accuracy: 0.6491910345933286\n",
      "Kappa Score: 0.6260446317352694\n",
      "              precision    recall  f1-score   support\n",
      "\n",
      "          AU       0.95      0.67      0.79      7362\n",
      "          CA       0.73      0.77      0.75      8609\n",
      "          DE       0.68      0.72      0.70      7439\n",
      "          ES       0.75      0.89      0.81     10084\n",
      "          FR       0.85      0.28      0.42      8854\n",
      "          GB       0.60      0.64      0.62     10560\n",
      "          IT       0.52      0.59      0.56      7972\n",
      "         NDF       0.90      1.00      0.94     10901\n",
      "          NL       0.61      0.45      0.51      9547\n",
      "          PT       0.43      1.00      0.60      9501\n",
      "          US       0.70      0.80      0.75      9503\n",
      "       other       0.00      0.00      0.00      8986\n",
      "\n",
      "    accuracy                           0.66    109318\n",
      "   macro avg       0.64      0.65      0.62    109318\n",
      "weighted avg       0.64      0.66      0.62    109318\n",
      "\n"
     ]
    },
    {
     "data": {
      "text/plain": [
       "<AxesSubplot:title={'center':'Confusion Matrix'}, xlabel='Predicted label', ylabel='True label'>"
      ]
     },
     "execution_count": 72,
     "metadata": {},
     "output_type": "execute_result"
    },
    {
     "data": {
      "image/png": "[encoded data removed]",
      "text/plain": [
       "<Figure size 864x864 with 2 Axes>"
      ]
     },
     "metadata": {},
     "output_type": "display_data"
    }
   ],
   "source": [
    "# Acurracy\n",
    "acc_nn = m.accuracy_score(y_test_nn, yhat_nn )\n",
    "print(\"Accuracy: {}\".format(acc_nn))\n",
    "\n",
    "# Balanced accuracy\n",
    "balanced_acc_nn = m.balanced_accuracy_score(y_test_nn, yhat_nn)\n",
    "print(\"Balanced Accuracy: {}\".format(balanced_acc_nn))\n",
    "\n",
    "#Kappa Metrics\n",
    "Kappa_nn = m.cohen_kappa_score(y_test_nn, yhat_nn)\n",
    "print(\"Kappa Score: {}\".format(Kappa_nn))\n",
    "\n",
    "#Classification report\n",
    "print(m.classification_report(y_test_nn, yhat_nn))\n",
    "\n",
    "\n",
    "# Confusion Matrix\n",
    "mt.plot_confusion_matrix( y_test_nn, yhat_nn, normalize=False, figsize=(12,12) )\n",
    "#"
   ]
  },
  {
   "cell_type": "markdown",
   "id": "907b7c4b-84d3-416a-861c-c3b91623e5b6",
   "metadata": {
    "tags": []
   },
   "source": [
    "## 8.2.3 NN Performance - Cross Validation"
   ]
  },
  {
   "cell_type": "code",
   "execution_count": 73,
   "id": "69f794be-8269-4557-b05e-5733d71e578d",
   "metadata": {},
   "outputs": [
    {
     "name": "stdout",
     "output_type": "stream",
     "text": [
      "fold number: 1/5\n",
      "fold number: 2/5\n",
      "fold number: 3/5\n",
      "fold number: 4/5\n",
      "fold number: 5/5\n"
     ]
    }
   ],
   "source": [
    "# generate k-fold\n",
    "num_folds = 5\n",
    "kfold = ms.StratifiedKFold(n_splits=num_folds, shuffle=True, random_state=32)\n",
    "\n",
    "balanced_acc_nn_list =[]\n",
    "Kappa_nn_list = []\n",
    "i = 1\n",
    "for train_ix, val_ix in kfold.split(x_train, y_train):\n",
    "    print(\"fold number: {}/{}\".format(i, num_folds))\n",
    "          \n",
    "    # get fold\n",
    "    x_train_fold = x_train.iloc[train_ix]\n",
    "    y_train_fold = y_train.iloc[train_ix]\n",
    "    \n",
    "    x_val_fold = x_train.iloc[val_ix]\n",
    "    y_val_fold = y_train.iloc[val_ix]\n",
    "    \n",
    "    # target hot-encoding --> categorical to numeral\n",
    "    ohe = pp.OneHotEncoder()\n",
    "    y_train_fold_nn = ohe.fit_transform(y_train_fold.values.reshape(-1, 1)).toarray()\n",
    "\n",
    "    # model defition\n",
    "    model = ml.Sequential()\n",
    "    model.add(l.Dense(256, input_dim=x_train.shape[1], activation=\"relu\"))\n",
    "    model.add(l.Dense(12, activation=\"softmax\"))\n",
    "\n",
    "    # compile model\n",
    "    model.compile(loss=\"categorical_crossentropy\", optimizer=\"adam\", metrics=[\"accuracy\"])\n",
    "\n",
    "    # training model\n",
    "    model.fit(x_train_fold, y_train_fold_nn, epochs=100, batch_size=32, verbose=0)\n",
    "\n",
    "    # prediction\n",
    "    pred_nn = model.predict(x_val_fold)\n",
    "    yhat_nn = ohe.inverse_transform(pred_nn) # numeral to categorical\n",
    "\n",
    "\n",
    "    # prepare data\n",
    "    y_test_nn = y_val_fold.to_numpy()\n",
    "    Yhat_nn = yhat_nn.reshape(-1, 1)[0]\n",
    "\n",
    "    # metrics\n",
    "\n",
    "    # Balanced accuracy\n",
    "    balanced_acc_nn = m.balanced_accuracy_score(y_test_nn, yhat_nn)\n",
    "    balanced_acc_nn_list.append(balanced_acc_nn)\n",
    "    #print(\"Balanced Accuracy: {}\".format(balanced_acc_nn))\n",
    "\n",
    "    #Kappa Metrics\n",
    "    Kappa_nn = m.cohen_kappa_score(y_test_nn, yhat_nn)\n",
    "    Kappa_nn_list.append(Kappa_nn)\n",
    "    #print(\"Kappa Score: {}\".format(Kappa_nn))\n",
    "\n",
    "    i += 1"
   ]
  },
  {
   "cell_type": "code",
   "execution_count": 76,
   "id": "2c1af61f-f3aa-4937-a2a5-b0c229ea807b",
   "metadata": {},
   "outputs": [
    {
     "name": "stdout",
     "output_type": "stream",
     "text": [
      "avg Balanced Accuracy:  0.4081 +/- 0.0608\n"
     ]
    }
   ],
   "source": [
    "print(\"avg Balanced Accuracy:  {} +/- {}\".format(round(np.mean(balanced_acc_nn_list), 4),\n",
    "                                                np.round(np.std(balanced_acc_nn_list), 4)))\n"
   ]
  },
  {
   "cell_type": "code",
   "execution_count": 77,
   "id": "8b1ece8d-cbde-425f-8099-071f368ce267",
   "metadata": {},
   "outputs": [
    {
     "name": "stdout",
     "output_type": "stream",
     "text": [
      "avg Kappa score: 0.3809 +/- 0.0686\n"
     ]
    }
   ],
   "source": [
    "print(\"avg Kappa score: {} +/- {}\".format(np.round(np.mean(Kappa_nn_list), 4),\n",
    "                                          np.round(np.std(Kappa_nn_list), 4)))"
   ]
  },
  {
   "cell_type": "code",
   "execution_count": null,
   "id": "55508bfb-186f-41a1-b298-2a087e1fe678",
   "metadata": {},
   "outputs": [],
   "source": []
  },
  {
   "cell_type": "code",
   "execution_count": null,
   "id": "1abe13ab-588a-41a2-90a9-04706a5104f9",
   "metadata": {},
   "outputs": [],
   "source": []
  }
 ],
 "metadata": {
  "kernelspec": {
   "display_name": "Python 3 (ipykernel)",
   "language": "python",
   "name": "python3"
  },
  "language_info": {
   "codemirror_mode": {
    "name": "ipython",
    "version": 3
   },
   "file_extension": ".py",
   "mimetype": "text/x-python",
   "name": "python",
   "nbconvert_exporter": "python",
   "pygments_lexer": "ipython3",
   "version": "3.8.12"
  },
  "toc-autonumbering": false,
  "toc-showcode": false,
  "toc-showmarkdowntxt": false,
  "toc-showtags": false
 },
 "nbformat": 4,
 "nbformat_minor": 5
}

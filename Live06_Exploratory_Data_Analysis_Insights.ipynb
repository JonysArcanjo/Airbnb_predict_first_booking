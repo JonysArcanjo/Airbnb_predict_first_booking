{
 "cells": [
  {
   "cell_type": "markdown",
   "id": "2d6068e4-90d3-4066-bbc5-fa99ed8201cb",
   "metadata": {},
   "source": [
    "## 0.0 Entender o problema"
   ]
  },
  {
   "cell_type": "markdown",
   "id": "b945ca69-38dc-41db-ae26-83b2c69e1290",
   "metadata": {},
   "source": [
    "-- Objetivo do problema:\n",
    "    -- 1.0 Previsão do primeiro destino que um novo usuário irá escolher.\n",
    "    \n",
    "    --Porque?\n",
    "      --Qual tipo de modelo de negócio do Airbnb?\n",
    "        --Marketplace (Conectar pessoas que oferecem acomodação, com as pessoas que estão procurando acomodação).\n",
    "        \n",
    "        --Oferta (pessoas oferecendo acomodação)\n",
    "            --Tamanho do Portfólio.\n",
    "            -- diversidade/Densidade de Portfólio.\n",
    "            --Preço médio\n",
    "        \n",
    "        --Demanda (pessoa procurando acomodação)\n",
    "             --Número de Usuários \n",
    "             --LTV (LifeTime Value)\n",
    "             --CAC (Client Aquisition Cost)\n",
    "        \n",
    "        Gross Revenue = (Fee * Numero de clientes) - CAC\n",
    "        \n",
    "        --Demanda (pessoas procurando acomodação)\n",
    "        \n",
    "        \n",
    "--Proposta da solução:\n",
    "\n",
    "    --- Modelo de previsão do primeiro destino de um novo usuário.\n",
    "    \n",
    "    --- 1.0 Predições e salvar em uma tabela de bando de dados.\n",
    "    \n",
    "    ---2.0 Criar uma API\n",
    "        --- Input: usuario  e suas caracteristicas\n",
    "        --- Output: usuario e suas caracteristicas com a ** predição do destino**.\n",
    "\n",
    "        \n",
    "        "
   ]
  },
  {
   "cell_type": "markdown",
   "id": "a21ab163-5971-40c7-b880-bc72fafd5980",
   "metadata": {},
   "source": [
    "# 0.0 <font color ='red'>Ciclo01: End to End </font>"
   ]
  },
  {
   "cell_type": "markdown",
   "id": "c3d496e5-f96b-47d7-973e-e4d068dea7ec",
   "metadata": {
    "tags": []
   },
   "source": [
    "# 0.0 Imports"
   ]
  },
  {
   "cell_type": "code",
   "execution_count": null,
   "id": "20c6b9f3-52b8-408e-b449-54472bc41a0b",
   "metadata": {},
   "outputs": [],
   "source": [
    "!pip install scikit-plot"
   ]
  },
  {
   "cell_type": "code",
   "execution_count": null,
   "id": "73518930-3fc8-4d5b-a85d-ae0d168679ff",
   "metadata": {},
   "outputs": [],
   "source": [
    "import math\n",
    "from scipy.stats import chi2_contingency\n",
    "import scipy.stats as ss\n",
    "import pandas as pd\n",
    "import numpy as np\n",
    "import seaborn as sns\n",
    "import matplotlib.pyplot as plt\n",
    "import random\n",
    "import pickle\n",
    "\n",
    "import warnings\n",
    "\n",
    "warnings.filterwarnings( 'ignore' )\n",
    "\n",
    "import sklearn.model_selection\n",
    "from sklearn import model_selection as ms\n",
    "from sklearn import preprocessing   as pp\n",
    "from sklearn import metrics         as m\n",
    "from scikitplot import metrics      as mt\n",
    "from IPython.core.display  import HTML\n",
    "from IPython.core.display  import Image\n",
    "from tabulate              import tabulate\n",
    "\n",
    "from imblearn import under_sampling as us\n",
    "from imblearn import over_sampling  as oversamp\n",
    "from imblearn import combine        as c\n",
    "\n",
    "from pandas_profiling import ProfileReport\n",
    "\n",
    "from keras import models as ml\n",
    "from keras import layers as l\n"
   ]
  },
  {
   "cell_type": "markdown",
   "id": "0239c94b-3223-45fb-8486-7ccb4224f3a3",
   "metadata": {
    "tags": []
   },
   "source": [
    "# 0.1 Helper functions"
   ]
  },
  {
   "cell_type": "code",
   "execution_count": null,
   "id": "8a1fd6aa-89d7-4abb-a534-dfe8db8f1572",
   "metadata": {},
   "outputs": [],
   "source": [
    "def cramer_v(x, y):\n",
    "    \"\"\" calculate Cramers V statistic for categorial-categorial association.\n",
    "        uses correction from Bergsma and Wicher. \n",
    "        \"\"\"     \n",
    "    \n",
    "    cm = pd.crosstab(x, y).values  #.as_matrix()\n",
    "    n = cm.sum()\n",
    "    r, k = cm.shape\n",
    "    \n",
    "    chi2 = ss.chi2_contingency( cm )[0]\n",
    "    chi2corr = max( 0, chi2 - (k-1)*(r-1)/(n-1) )\n",
    "    \n",
    "    kcorr = k - (k-1)**2/(n-1)\n",
    "    rcoor = r - (r-1)**2/(n-1)\n",
    "    return np.sqrt( (chi2corr/n)/ (min(kcorr-1,  rcoor-1)))\n",
    "\n",
    "def jupyter_settings():\n",
    "    %matplotlib inline\n",
    "    %pylab inline\n",
    "    plt.style.use( 'bmh' )\n",
    "    plt.rcParams['figure.figsize'] = [25, 12]\n",
    "    plt.rcParams['font.size'] = 24\n",
    "    display( HTML( '<style>.container { width:100% !important; }</style>') )\n",
    "    pd.options.display.max_columns = None\n",
    "    pd.options.display.max_rows = None\n",
    "    pd.set_option( 'display.expand_frame_repr', False )\n",
    "    sns.set()\n",
    "\n",
    "    \n",
    "jupyter_settings()\n"
   ]
  },
  {
   "cell_type": "markdown",
   "id": "ab881f1a-8645-4055-af54-f824e0b3b81a",
   "metadata": {
    "tags": []
   },
   "source": [
    "# 0.2 Loading Data"
   ]
  },
  {
   "cell_type": "code",
   "execution_count": null,
   "id": "7e34805f-2927-4d64-9ab3-55ed628be787",
   "metadata": {},
   "outputs": [],
   "source": [
    "# datasets source: https://www.kaggle.com/c/airbnb-recruiting-new-user-bookings/data?select=sessions.csv.zip\n",
    "\n",
    "\n",
    "df_raw = pd.read_csv('dataset/training_users_2.csv', low_memory=True)\n",
    "df_raw.shape\n",
    "\n",
    "df_sessions = pd.read_csv('dataset/sessions.csv', low_memory=True)\n",
    "df_sessions.shape"
   ]
  },
  {
   "cell_type": "markdown",
   "id": "1b120d77-fb2f-41c5-9899-722b178d8155",
   "metadata": {
    "tags": []
   },
   "source": [
    "# 1.0 Data Description"
   ]
  },
  {
   "cell_type": "code",
   "execution_count": null,
   "id": "2b77143f-34c7-4659-a981-ce8cb3e5d468",
   "metadata": {},
   "outputs": [],
   "source": [
    "df1 = df_raw.copy()"
   ]
  },
  {
   "cell_type": "markdown",
   "id": "15b9fc25-16f9-43c1-894c-acf43fa4d013",
   "metadata": {},
   "source": [
    "## 1.1 Data Dimensions"
   ]
  },
  {
   "cell_type": "code",
   "execution_count": null,
   "id": "cebb34b7-ccb3-4d40-a990-807deb4153ef",
   "metadata": {},
   "outputs": [],
   "source": [
    "print( 'Number of rows: {}'.format(df1.shape[0] ) )\n",
    "print( 'Number of columns: {}'.format(df1.shape[1] ) )"
   ]
  },
  {
   "cell_type": "code",
   "execution_count": null,
   "id": "f180047c-44fa-4cc2-888e-cbe9ea5781a7",
   "metadata": {},
   "outputs": [],
   "source": [
    "print( 'Number of rows: {}'.format(df_sessions.shape[0] ) )\n",
    "print( 'Number of columns: {}'.format(df_sessions.shape[1] ) )"
   ]
  },
  {
   "cell_type": "markdown",
   "id": "552788d8-46cc-4595-8a6a-6626333fe265",
   "metadata": {
    "tags": []
   },
   "source": [
    "## 1.2 Data type"
   ]
  },
  {
   "cell_type": "code",
   "execution_count": null,
   "id": "0efcd25a-8693-436b-b4b8-179d4c056a0f",
   "metadata": {},
   "outputs": [],
   "source": [
    "df1.dtypes"
   ]
  },
  {
   "cell_type": "code",
   "execution_count": null,
   "id": "f91f7c91-69a9-4a4b-90e7-73a5a54801ce",
   "metadata": {},
   "outputs": [],
   "source": [
    "df_sessions.dtypes"
   ]
  },
  {
   "cell_type": "markdown",
   "id": "7227339f-b668-4414-92d4-1f4bf2454007",
   "metadata": {
    "tags": []
   },
   "source": [
    "## 1.3 NA Check"
   ]
  },
  {
   "cell_type": "code",
   "execution_count": null,
   "id": "0d3f9a79-ca6c-4251-a2b7-e0de60939724",
   "metadata": {},
   "outputs": [],
   "source": [
    " df1.isna().sum() / len( df1 )"
   ]
  },
  {
   "cell_type": "code",
   "execution_count": null,
   "id": "6d4ef62b-5b66-46a6-a1ac-066520b3dee6",
   "metadata": {},
   "outputs": [],
   "source": [
    "df_sessions.isna().sum() / len(df_sessions)"
   ]
  },
  {
   "cell_type": "code",
   "execution_count": null,
   "id": "2480942d-48bf-4c36-ad9e-c1c064564529",
   "metadata": {
    "tags": []
   },
   "outputs": [],
   "source": [
    "#remove missing value complety\n",
    "#df1 = df1.dropna()\n",
    "\n",
    "#========================USER===========================================\n",
    "\n",
    "# date_first_booking\n",
    "date_first_booking_max = pd.to_datetime( df1['date_first_booking'] ).max().strftime( '%Y-%m-%d' )\n",
    "df1['date_first_booking'] = df1['date_first_booking'].fillna( date_first_booking_max )\n",
    "\n",
    "\n",
    "# age\n",
    "df1 = df1[( df1['age'] > 15 ) & ( df1['age'] < 120 )]\n",
    "avg_age =  round(df1['age'].mean(),2)\n",
    "df1['age'] = df1['age'].fillna( avg_age )\n",
    "\n",
    "# first_affiliate_tracked\n",
    "df1 = df1[~df1['first_affiliate_tracked'].isna()]\n",
    "\n",
    "df1['first_affiliate_tracked'].value_counts()\n",
    "\n",
    "#========================Sessions=========================================\n",
    "#user_id  - 3%\n",
    "df_sessions= df_sessions[~df_sessions['user_id'].isna()]\n",
    "\n",
    "#action - 7%\n",
    "df_sessions= df_sessions[~df_sessions['action'].isna()]\n",
    "\n",
    "#action_type - 10$\n",
    "df_sessions= df_sessions[~df_sessions['action_type'].isna()]\n",
    "\n",
    "#action_detail- 10%\n",
    "df_sessions= df_sessions[~df_sessions['action_detail'].isna()]\n",
    "\n",
    "#device_type - 0%\n",
    "df_sessions= df_sessions[~df_sessions['device_type'].isna()]\n",
    "\n",
    "#secs_elapsed - 0%\n",
    "df_sessions= df_sessions[~df_sessions['secs_elapsed'].isna()]\n",
    "\n"
   ]
  },
  {
   "cell_type": "code",
   "execution_count": null,
   "id": "b5d97f04-868f-43d9-b2bc-57c46452214c",
   "metadata": {},
   "outputs": [],
   "source": [
    "df_sessions.isna().sum() / len(df_sessions)"
   ]
  },
  {
   "cell_type": "code",
   "execution_count": null,
   "id": "b9c9043d-26b8-4ac1-b2ba-55a4f5e9e62a",
   "metadata": {},
   "outputs": [],
   "source": [
    "df1.isna().sum() / len(df1)"
   ]
  },
  {
   "cell_type": "markdown",
   "id": "bf83107e-b046-49ee-9ee8-cce0c80e8f29",
   "metadata": {
    "tags": []
   },
   "source": [
    "## 1.4 Change Data Type"
   ]
  },
  {
   "cell_type": "code",
   "execution_count": null,
   "id": "7a919e62-5603-4e05-8a69-a2503d23a8e5",
   "metadata": {},
   "outputs": [],
   "source": [
    "# date_account_created    \n",
    "df1[\"date_account_created\"] = pd.to_datetime( df1[\"date_account_created\"] )\n",
    "\n",
    "# timestamp_first_active   \n",
    "df1[\"timestamp_first_active\"] = pd.to_datetime( df1[\"timestamp_first_active\"], format='%Y%m%d%H%M%S' )\n",
    "\n",
    "# date_first_booking       \n",
    "df1[\"date_first_booking\"] = pd.to_datetime( df1[\"date_first_booking\"] )\n",
    "\n",
    "# age       \n",
    "df1[\"age\"] = df1[\"age\"].astype( int )"
   ]
  },
  {
   "cell_type": "code",
   "execution_count": null,
   "id": "c0846dea-bd7a-4ebf-8e9a-a6e9a7ac6d06",
   "metadata": {},
   "outputs": [],
   "source": [
    "df1.dtypes"
   ]
  },
  {
   "cell_type": "markdown",
   "id": "2a2dd5de-d7e9-4c3a-a268-5d68200a15ce",
   "metadata": {
    "tags": []
   },
   "source": [
    "## 1.5 Check Balanced Data"
   ]
  },
  {
   "cell_type": "code",
   "execution_count": null,
   "id": "ea891b5f-0082-4f84-a859-f67423c361f6",
   "metadata": {},
   "outputs": [],
   "source": [
    "df1[\"country_destination\"].value_counts(normalize=True)"
   ]
  },
  {
   "cell_type": "markdown",
   "id": "ee5fa5ff-dc46-40fd-8bd4-3970d3c54a16",
   "metadata": {
    "tags": []
   },
   "source": [
    "## 1.6 Descriptive Analysis"
   ]
  },
  {
   "cell_type": "markdown",
   "id": "79961fed-8262-450d-a932-fdc5782a3a8e",
   "metadata": {},
   "source": [
    "## 1.6 General"
   ]
  },
  {
   "cell_type": "code",
   "execution_count": null,
   "id": "8c2c4afd-271a-4b75-8cc0-bb80dbfe672e",
   "metadata": {},
   "outputs": [],
   "source": [
    "# Users\n",
    "num_attributes = df1.select_dtypes( include=['int32','int64', 'float64'])\n",
    "cat_attributes = df1.select_dtypes( exclude=['int32', 'int64', 'float64','datetime64[ns]'])\n",
    "time_attributes = df1.select_dtypes( include=['datetime64[ns]'])\n",
    "\n",
    "#Sessions\n",
    "num_attributes_sessions = df_sessions.select_dtypes( include=['int32','int64', 'float64'])\n",
    "cat_attributes_sessions = df_sessions.select_dtypes( exclude=['int64', 'float64','datetime64[ns]'])\n",
    "time_attributes_sessions = df_sessions.select_dtypes( include=['datetime64[ns]'])"
   ]
  },
  {
   "cell_type": "markdown",
   "id": "53c1392a-8ca0-409d-85b2-6de88f382efc",
   "metadata": {},
   "source": [
    "## 1.6.1 Numeral - Users"
   ]
  },
  {
   "cell_type": "code",
   "execution_count": null,
   "id": "b97c996a-0f6c-494f-9045-296b557f5f0c",
   "metadata": {},
   "outputs": [],
   "source": [
    "# Central Tendency - Mean, Median\n",
    "ct1 = pd.DataFrame(num_attributes.apply(np.mean)).T\n",
    "ct2 = pd.DataFrame(num_attributes.apply(np.median)).T\n",
    "\n",
    "# Dispersions - Std, Min, Max, Range, Skew, Kurtosis\n",
    "d1 = pd.DataFrame(num_attributes.apply(np.std)).T\n",
    "d2 = pd.DataFrame(num_attributes.apply(min)).T\n",
    "d3 = pd.DataFrame(num_attributes.apply(max)).T\n",
    "d4 = pd.DataFrame(num_attributes.apply( lambda x: x.max() - x.min())).T\n",
    "d5 = pd.DataFrame(num_attributes.apply(lambda x: x.skew())).T\n",
    "d6 = pd.DataFrame(num_attributes.apply(lambda x: x.kurtosis())).T\n",
    "\n",
    "# concatenar \n",
    "ct = pd.concat([d2, d3, d4,ct1, ct2, d1, d5, d6]).T.reset_index()\n",
    "ct.columns = ['attributes','min','max', 'range','mean','median','std','skew','kurtosis']\n",
    "ct"
   ]
  },
  {
   "cell_type": "markdown",
   "id": "4cd3f731-0a8f-4e5e-973b-3d4a60638378",
   "metadata": {},
   "source": [
    "## 1.6.2 Numeral - Sessions"
   ]
  },
  {
   "cell_type": "code",
   "execution_count": null,
   "id": "b8ac1d44-160c-4eef-ae90-8acc6c6e400a",
   "metadata": {},
   "outputs": [],
   "source": [
    "# Central Tendency - Mean, Median\n",
    "ct1 = pd.DataFrame(num_attributes_sessions.apply(np.mean)).T\n",
    "ct2 = pd.DataFrame(num_attributes_sessions.apply(np.median)).T\n",
    "\n",
    "# Dispersions - Std, Min, Max, Range, Skew, Kurtosis\n",
    "d1 = pd.DataFrame(num_attributes_sessions.apply(np.std)).T\n",
    "d2 = pd.DataFrame(num_attributes_sessions.apply(min)).T\n",
    "d3 = pd.DataFrame(num_attributes_sessions.apply(max)).T\n",
    "d4 = pd.DataFrame(num_attributes_sessions.apply( lambda x: x.max() - x.min())).T\n",
    "d5 = pd.DataFrame(num_attributes_sessions.apply(lambda x: x.skew())).T\n",
    "d6 = pd.DataFrame(num_attributes_sessions.apply(lambda x: x.kurtosis())).T\n",
    "\n",
    "# concatenar \n",
    "ct = pd.concat([d2, d3, d4,ct1, ct2, d1, d5, d6]).T.reset_index()\n",
    "ct.columns = ['attributes','min','max', 'range','mean','median','std','skew','kurtosis']\n",
    "ct"
   ]
  },
  {
   "cell_type": "markdown",
   "id": "757aae54-6cd1-42d8-9f1a-8339d64b0956",
   "metadata": {
    "tags": []
   },
   "source": [
    "## 1.6.2 Categorical - Users"
   ]
  },
  {
   "cell_type": "code",
   "execution_count": null,
   "id": "cdad06a9-eb47-4c90-b652-44ee19d17753",
   "metadata": {},
   "outputs": [],
   "source": [
    "cat_attributes.drop('id', axis=1).describe()"
   ]
  },
  {
   "cell_type": "markdown",
   "id": "b1fed7b8-2ab0-4df0-8186-56971e2da952",
   "metadata": {},
   "source": [
    "## 1.6.3 Categorical - Sessions"
   ]
  },
  {
   "cell_type": "code",
   "execution_count": null,
   "id": "9126c98e-5683-443a-af5d-ee94370c8c84",
   "metadata": {},
   "outputs": [],
   "source": [
    "cat_attributes_sessions.drop('user_id', axis=1).describe()"
   ]
  },
  {
   "cell_type": "markdown",
   "id": "e3efea06-5a2a-4e36-b884-d271c9d03d50",
   "metadata": {
    "tags": []
   },
   "source": [
    "## 1.6.2 Categorical - Sessions"
   ]
  },
  {
   "cell_type": "code",
   "execution_count": null,
   "id": "01a352d3-f1cc-408e-bae4-410a0e146c88",
   "metadata": {},
   "outputs": [],
   "source": [
    "# list of attributes for Cramer's V correlation\n",
    "cat_attributes_list = cat_attributes_sessions.drop('user_id', axis=1).columns.tolist()\n",
    "\n",
    "coor_dict = {}\n",
    "\n",
    "for i in range(len(cat_attributes_list)):\n",
    "    corr_list =  []\n",
    "    for j in range(len(cat_attributes_list)):\n",
    "        ref = cat_attributes_list[i]\n",
    "        feat=cat_attributes_list[j]\n",
    "        \n",
    "        # correlation\n",
    "        corr = cramer_v(cat_attributes_sessions[ref], cat_attributes_sessions[feat])\n",
    "        # append a list\n",
    "        corr_list.append(corr)\n",
    "    # append a correlation list for each atributes   \n",
    "    coor_dict[ref] = corr_list"
   ]
  },
  {
   "cell_type": "code",
   "execution_count": null,
   "id": "2296982d-c01a-4ba3-8bde-292455f3595f",
   "metadata": {},
   "outputs": [],
   "source": [
    "d = pd.DataFrame(coor_dict)\n",
    "d = d.set_index(d.columns)\n",
    "sns.heatmap(d, annot=True);"
   ]
  },
  {
   "cell_type": "markdown",
   "id": "75c18812-ee51-4227-bb16-fa3d99f4e41b",
   "metadata": {},
   "source": [
    "# 2.0 Feature Engineering"
   ]
  },
  {
   "cell_type": "code",
   "execution_count": null,
   "id": "ff38317a-ee77-4a55-8cfe-584efbebbe6f",
   "metadata": {},
   "outputs": [],
   "source": [
    "df2 = df1.copy()\n",
    "df_sessions2 = df_sessions.copy()"
   ]
  },
  {
   "cell_type": "code",
   "execution_count": null,
   "id": "b2c0678e-ae69-41b3-8849-919c59817d76",
   "metadata": {},
   "outputs": [],
   "source": [
    "df2.dtypes"
   ]
  },
  {
   "cell_type": "markdown",
   "id": "89e4089a-e9a5-47e2-9225-d6a1ba9dc957",
   "metadata": {},
   "source": [
    "## 2.1 Create New Features"
   ]
  },
  {
   "cell_type": "code",
   "execution_count": null,
   "id": "60d41bcb-7d94-4041-8788-9f86c046c667",
   "metadata": {},
   "outputs": [],
   "source": [
    "# days from first active up to first booking\n",
    "df2['first_active'] = pd.to_datetime( df2['timestamp_first_active'].dt.strftime( '%Y-%m-%d' ) )\n",
    "df2['days_from_frist_active_until_booking'] = ( df2['date_first_booking'] - df2['first_active'] ).apply( lambda x: x.days )\n",
    "\n",
    "# days from first active upt to account created\n",
    "df2['days_from_first_active_until_account_created'] = ( df2['date_account_created'] - df2['first_active'] ).apply( lambda x: x.days )\n",
    "\n",
    "# days from account createad up to first booking\n",
    "df2['days_from_account_created_until_first_booking'] = ( df2['date_first_booking'] - df2['date_account_created'] ).apply( lambda x: x.days )\n",
    "\n",
    "# ================== First Active ==================\n",
    "# year first active\n",
    "df2['year_first_active'] = df2['first_active'].dt.year\n",
    "\n",
    "# month first active\n",
    "df2['month_fist_active'] = df2['first_active'].dt.month\n",
    "\n",
    "# day first active\n",
    "df2['day_first_active'] = df2['first_active'].dt.day\n",
    "\n",
    "# day of week first active\n",
    "df2['day_of_week_first_active'] = df2['first_active'].dt.dayofweek\n",
    "\n",
    "# week of year first active\n",
    "df2['week_of_year_first_active'] = df2['first_active'].dt.weekofyear\n",
    "\n",
    "# ================== First Booking ==================\n",
    "# year first booking\n",
    "df2['year_first_booking'] = df2['date_first_booking'].dt.year\n",
    "\n",
    "# month first booking\n",
    "df2['month_first_booking'] = df2['date_first_booking'].dt.month\n",
    "\n",
    "# day first booking\n",
    "df2['day_first_booking'] = df2['date_first_booking'].dt.day\n",
    "\n",
    "# day of week first booking\n",
    "df2['day_of_week_first_booking'] = df2['date_first_booking'].dt.dayofweek\n",
    "\n",
    "# week of year first booking\n",
    "df2['week_of_year_first_booking'] = df2['date_first_booking'].dt.weekofyear\n",
    "\n",
    "# ================== First Account Created =================\n",
    "# year first booking\n",
    "df2['year_account_created'] = df2['date_account_created'].dt.year\n",
    "\n",
    "# month  account_created\n",
    "df2['month_account_created'] = df2['date_account_created'].dt.month\n",
    "\n",
    "# day  account_created\n",
    "df2['day_account_created'] = df2['date_account_created'].dt.day\n",
    "\n",
    "# day of week  account_created\n",
    "df2['day_of_week_account_created'] = df2['date_account_created'].dt.dayofweek\n",
    "\n",
    "# week of year  account_created\n",
    "df2['week_of_year_account_created'] = df2['date_account_created'].dt.weekofyear\n"
   ]
  },
  {
   "cell_type": "markdown",
   "id": "367aec7e-b01c-4789-a674-a014432f757d",
   "metadata": {
    "tags": []
   },
   "source": [
    "# 3.0 Data filtering"
   ]
  },
  {
   "cell_type": "code",
   "execution_count": null,
   "id": "6a727bd9-6e2e-4ce2-8958-b496fb4fb1d4",
   "metadata": {
    "tags": []
   },
   "outputs": [],
   "source": [
    "df3 = df2.copy()\n",
    "df_sessions3 = df_sessions2.copy()"
   ]
  },
  {
   "cell_type": "markdown",
   "id": "53ec8fdf-43e3-4cf5-850e-5af3d5555747",
   "metadata": {
    "tags": []
   },
   "source": [
    "## 3.1 Filtering Rows"
   ]
  },
  {
   "cell_type": "code",
   "execution_count": null,
   "id": "6476be09-05dc-4e84-96ef-0bed8e752f9d",
   "metadata": {},
   "outputs": [],
   "source": [
    "# Filtering rows:\n",
    "# age - greater than 15 and lower than 120 - There are few people over 12O year old   \n",
    "df3 = df3[( df3['age'] > 15 ) & ( df3['age'] < 120 )]\n",
    "\n",
    "# secs_elapsed - there is no possible 0 secs elapsed on website\n",
    "#df3 = df3[df3['secs_elapsed'] > 0]"
   ]
  },
  {
   "cell_type": "markdown",
   "id": "1b5b3c49-75f5-42b8-b832-bd5cd2e72847",
   "metadata": {
    "tags": []
   },
   "source": [
    "## 3.2 Columns Selection"
   ]
  },
  {
   "cell_type": "code",
   "execution_count": null,
   "id": "efeb33e4-9aca-493c-93ed-4f1980cfd980",
   "metadata": {},
   "outputs": [],
   "source": [
    "# delete original datetime and high correlation\n",
    "cols = ['date_account_created', 'date_account_created', 'date_first_booking', 'timestamp_first_active', 'first_active', # original datetime\n",
    "        'days_from_first_active_until_booking',  'year_first_active',  'month_first_active', 'day_first_active',\n",
    "        'day_of_week_first_active', 'week_of_year_first_active', 'month_first_booking', 'month_account_created',\n",
    "        'year_first_booking', 'week_of_year_first_booking', 'affiliate_provider',\n",
    "        'first_browser', 'first_device_type'] # high correlation\n",
    "\n",
    "df3 = df3.drop( cols, axis=1 )"
   ]
  },
  {
   "cell_type": "markdown",
   "id": "2943f963-d4a8-4312-a88a-1117f6a3aaed",
   "metadata": {
    "tags": []
   },
   "source": [
    "# 4.0 Balanced Dataset"
   ]
  },
  {
   "cell_type": "code",
   "execution_count": null,
   "id": "f1aa08dd-5878-4a74-8ca8-80278d314058",
   "metadata": {},
   "outputs": [],
   "source": [
    "df4 = df3.copy()"
   ]
  },
  {
   "cell_type": "code",
   "execution_count": null,
   "id": "9c27b120-2f2b-41fc-869c-f09c1df5e791",
   "metadata": {},
   "outputs": [],
   "source": [
    " # Encoder Categorical Variables\n",
    "ohe = pp.OneHotEncoder()\n",
    "\n",
    "# Numerical\n",
    "col_num = df4.select_dtypes( include=['int64', 'float64'] ).columns.tolist()\n",
    "\n",
    "# Categorical\n",
    "col_cat = df4.select_dtypes( exclude=['int64', 'float64', 'datetime64[ns]'] ).drop( ['id', 'country_destination'], axis=1 ).columns.tolist()\n",
    "\n",
    "# encoding\n",
    "df4_dummy = pd.DataFrame( ohe.fit_transform( df4[ col_cat] ).toarray(), index=df4.index )\n",
    "\n",
    "# join numerical and categorical\n",
    "df42 = pd.concat( [df4[col_num], df4_dummy], axis=1 )\n",
    "df42.shape"
   ]
  },
  {
   "cell_type": "code",
   "execution_count": null,
   "id": "a561cf4e-af14-4694-a158-0f15ab015c21",
   "metadata": {},
   "outputs": [],
   "source": []
  },
  {
   "cell_type": "markdown",
   "id": "904fff1d-2973-4fee-8b2a-b0e32059bb0a",
   "metadata": {},
   "source": [
    "##  4.1 Random Undersampling"
   ]
  },
  {
   "cell_type": "code",
   "execution_count": null,
   "id": "c084cccc-80d7-4f9e-acb0-bf55948da805",
   "metadata": {},
   "outputs": [],
   "source": [
    "# ratio_balanced\n",
    "ratio_balanced = {'NDF': 10000 }\n",
    "# define sampler\n",
    "undersampling = us.RandomUnderSampler( sampling_strategy=ratio_balanced, random_state=32 )\n",
    "\n",
    "# apply sampler\n",
    "X_under, y_under = undersampling.fit_resample( df42, df4['country_destination'] )"
   ]
  },
  {
   "cell_type": "code",
   "execution_count": null,
   "id": "d3852f09-3314-4da6-8675-1cb56dde30f0",
   "metadata": {},
   "outputs": [],
   "source": [
    "df4['country_destination'].value_counts()"
   ]
  },
  {
   "cell_type": "code",
   "execution_count": null,
   "id": "06588b10-aa2c-4dfe-a62c-2bca6d3484bf",
   "metadata": {},
   "outputs": [],
   "source": [
    "y_under.value_counts()"
   ]
  },
  {
   "cell_type": "markdown",
   "id": "532c31b8-8f39-48a0-bdac-baca3a6c4e8f",
   "metadata": {},
   "source": [
    " ## 4.2 Random Oversampling"
   ]
  },
  {
   "cell_type": "code",
   "execution_count": null,
   "id": "fa16c939-4e3e-44a4-9eee-dc555225a531",
   "metadata": {},
   "outputs": [],
   "source": [
    "# ratio_balanced\n",
    "#ratio_balanced = {'NDF': 10000 }\n",
    "\n",
    "# define sampler\n",
    "oversampling = oversamp.RandomOverSampler( sampling_strategy='all', random_state=32 )\n",
    "\n",
    "# apply sampler\n",
    "X_over, y_over = oversampling.fit_resample( df42, df4['country_destination'] )"
   ]
  },
  {
   "cell_type": "code",
   "execution_count": null,
   "id": "75a9d8d7-5412-4a8e-86f8-cae70da6fdc3",
   "metadata": {},
   "outputs": [],
   "source": [
    "y_over.value_counts()"
   ]
  },
  {
   "cell_type": "code",
   "execution_count": null,
   "id": "b9330bec-44ad-41d6-baac-668e0489946e",
   "metadata": {},
   "outputs": [],
   "source": [
    "df4['country_destination'].value_counts()"
   ]
  },
  {
   "cell_type": "markdown",
   "id": "061a7dea-6fd0-4505-abf7-90edd4bba66e",
   "metadata": {},
   "source": [
    " ## 4.3 SMOTE + TOMELINK"
   ]
  },
  {
   "cell_type": "code",
   "execution_count": null,
   "id": "0d0f7836-4058-4e45-b7f6-eb4d75c39b43",
   "metadata": {},
   "outputs": [],
   "source": [
    "#df4['country_destination'].value_counts().to_dict()\n",
    "\n",
    "ratio_balanced ={'NDF': 54852,\n",
    "                 'US': 48057,\n",
    "                 'other': 6*7511,\n",
    "                 'FR': 12*3669,\n",
    "                 'IT': 20*2014,\n",
    "                 'GB': 30*1758,\n",
    "                 'ES': 30*1685,\n",
    "                 'CA': 40*1064,\n",
    "                 'DE': 45*841,\n",
    "                 'NL': 80*595,\n",
    "                 'AU': 85*433,\n",
    "                 'PT': 300*157}\n",
    "\n"
   ]
  },
  {
   "cell_type": "code",
   "execution_count": null,
   "id": "23a1b3b6-e677-48ad-9bb3-0ed0162bb732",
   "metadata": {},
   "outputs": [],
   "source": [
    "# define sampler\n",
    "smt = c.SMOTETomek( sampling_strategy=ratio_balanced, random_state=32, n_jobs=-1 )\n",
    "\n",
    "# apply sampler\n",
    "X_smt, y_smt = smt.fit_resample( df42, df4['country_destination'] )\n"
   ]
  },
  {
   "cell_type": "code",
   "execution_count": null,
   "id": "2c3c7202-8991-46b0-a80e-163e76b48198",
   "metadata": {},
   "outputs": [],
   "source": [
    "# numerical data\n",
    "df43 = X_smt[col_num]\n",
    "\n",
    "# categorical data\n",
    "df44 = X_smt.drop(col_num, axis=1)\n",
    "df45 = pd.DataFrame(ohe.inverse_transform(df44), columns=col_cat, index=df44.index)\n",
    "\n",
    "# join numerical categorical \n",
    "df46 = pd.concat([df43,df45], axis=1)\n",
    "df46['country_destination'] =  y_smt"
   ]
  },
  {
   "cell_type": "markdown",
   "id": "4888df5b-41b5-42a0-95c8-0f7f1c9822b0",
   "metadata": {
    "tags": []
   },
   "source": [
    "# 5.0 Exploratory Data Analysis"
   ]
  },
  {
   "cell_type": "markdown",
   "id": "aa062a17-3a31-4e96-8f09-65dfc36565f3",
   "metadata": {
    "tags": []
   },
   "source": [
    "## 5.1 Univariate Analysis - Feature Behavior (Balanced Dataset)"
   ]
  },
  {
   "cell_type": "code",
   "execution_count": null,
   "id": "7643d985-374c-4515-a10b-5c294327ecf2",
   "metadata": {
    "tags": []
   },
   "outputs": [],
   "source": [
    "df51 = df46.copy()"
   ]
  },
  {
   "cell_type": "code",
   "execution_count": null,
   "id": "c9d6aa05-9872-46bb-9f77-35152a03a45c",
   "metadata": {},
   "outputs": [],
   "source": [
    "proof = ProfileReport(df51)\n",
    "proof.to_notebook_iframe()"
   ]
  },
  {
   "cell_type": "markdown",
   "id": "45a61939-9cc6-433d-ba8d-dbead34b8453",
   "metadata": {
    "tags": []
   },
   "source": [
    "## 5.2 Bivariate Analysis - Feature Behavior (Unbalanced Dataset)"
   ]
  },
  {
   "cell_type": "markdown",
   "id": "7273b8e8-3b98-4dd2-a5e9-3748189dba63",
   "metadata": {},
   "source": [
    "**H0.** Os usuários levem até 3 dias, em média, para fazer o cadastro no site em todos os destinos.\n",
    "\n",
    "**Verdadeira.** Os usuários levam até 3 dias, em média para realizar o cadastro no site em todos os destinos"
   ]
  },
  {
   "cell_type": "code",
   "execution_count": null,
   "id": "0aaad596-508b-4b97-b603-bdbf859afe45",
   "metadata": {},
   "outputs": [],
   "source": [
    "plt.figure( figsize=(25, 12))\n",
    "aux01 = df5[['days_from_first_active_until_account_created', 'country_destination']].groupby( 'country_destination' ).mean().reset_index()\n",
    "sns.barplot( x='country_destination', y='days_from_first_active_until_account_created' , data=aux01 );\n",
    "plt.ylabel( 'Average days until Accout Creation');"
   ]
  },
  {
   "cell_type": "markdown",
   "id": "f7af42e9-a30b-4a92-b82d-9a969cd9d6e3",
   "metadata": {},
   "source": [
    "**H1.** O numero de reservas do Airbnb cresce ou decresce ao longo do tempo?\n",
    "**Depende.**"
   ]
  },
  {
   "cell_type": "code",
   "execution_count": null,
   "id": "cba79635-9e4c-4053-a63f-c8978ea861b9",
   "metadata": {},
   "outputs": [],
   "source": [
    "plt.figure( figsize=(25,12))\n",
    "aux01 = df5[df5['country_destination'] != 'NDF']\n",
    "aux01 = aux01[['year_first_booking', 'month_first_booking', 'country_destination']]\\\n",
    "                .groupby( ['year_first_booking', 'month_first_booking'] )\\\n",
    "                .count() \\\n",
    "                .reset_index()\n",
    "\n",
    "aux01['year-month'] = aux01.apply( lambda x: str( x['year_first_booking'] ) + '-' + str( x['month_first_booking'] ), axis=1 )\n",
    "\n",
    "sns.barplot( x='year-month', y='country_destination', data=aux01 );\n",
    "plt.xticks( rotation=90 );"
   ]
  },
  {
   "cell_type": "markdown",
   "id": "86167f93-683d-43e6-b687-6dcd3257ef7f",
   "metadata": {},
   "source": [
    "**H2.** O numero de reservas total cresce 10% ao ano em todos os anos.\n",
    "**Falsa.** O numero de reservas total cresce 10% ao ao apenas entre 2011 e 2013."
   ]
  },
  {
   "cell_type": "code",
   "execution_count": null,
   "id": "e5f47681-fd23-4944-9618-b3eb9c914d14",
   "metadata": {},
   "outputs": [],
   "source": []
  },
  {
   "cell_type": "markdown",
   "id": "3767b1b5-0da1-4665-bd69-fa54e00f5c55",
   "metadata": {},
   "source": [
    "# <font color='red'> 5.0. Data Preparation"
   ]
  },
  {
   "cell_type": "code",
   "execution_count": null,
   "id": "867dad59-ea83-402f-a57d-42f17dc79336",
   "metadata": {},
   "outputs": [],
   "source": [
    "df5 = df4.copy()"
   ]
  },
  {
   "cell_type": "code",
   "execution_count": null,
   "id": "bae0e2b3-4845-47de-80ae-95a3d6cf02f1",
   "metadata": {},
   "outputs": [],
   "source": [
    "# dummy variable\n",
    "df5_dummy = pd.get_dummies( df5.drop( ['id', 'country_destination'], axis=1 ) )\n",
    "\n",
    "# join id and country destination\n",
    "df5 = pd.concat( [df5[['id', 'country_destination']], df5_dummy], axis=1 )"
   ]
  },
  {
   "cell_type": "code",
   "execution_count": null,
   "id": "0ce916f5-75c0-4917-a3dd-4afc1afada16",
   "metadata": {},
   "outputs": [],
   "source": [
    "df5.shape"
   ]
  },
  {
   "cell_type": "markdown",
   "id": "1332eede-f05b-4b6a-aeab-a6f0e25df670",
   "metadata": {
    "tags": []
   },
   "source": [
    "# 6.0 Feature Selection"
   ]
  },
  {
   "cell_type": "code",
   "execution_count": null,
   "id": "355aefdd-8a6a-469f-afbb-c31781ed368c",
   "metadata": {},
   "outputs": [],
   "source": [
    "cols_drop = [\"date_account_created\", \"timestamp_first_active\",\"date_first_booking\", 'first_active'] # original dates\n",
    "df6 = df5.drop(cols_drop, axis=1)"
   ]
  },
  {
   "cell_type": "code",
   "execution_count": null,
   "id": "4098f665-878e-405d-ab4c-b821ed98ee40",
   "metadata": {},
   "outputs": [],
   "source": [
    "X = df6.drop('country_destination', axis=1)\n",
    "y = df6['country_destination'].copy()"
   ]
  },
  {
   "cell_type": "code",
   "execution_count": null,
   "id": "c73ee817-b85d-45b8-91c9-f7c781cd0dce",
   "metadata": {},
   "outputs": [],
   "source": [
    "# Split dataset into training and test\n",
    "X_train, X_test, y_train, y_test = ms.train_test_split( X, y, test_size=0.2, random_state=32 )"
   ]
  },
  {
   "cell_type": "markdown",
   "id": "4bb75aba-f122-4585-b276-32cb20b10083",
   "metadata": {
    "tags": []
   },
   "source": [
    "# 7.0 Machine Learning - Neural Network - MLP"
   ]
  },
  {
   "cell_type": "code",
   "execution_count": null,
   "id": "6a447754-ead1-40d5-b0b0-4872c10dba32",
   "metadata": {
    "tags": []
   },
   "outputs": [],
   "source": [
    "x_train = X_train.drop(\"id\", axis=1)\n",
    "x_test = X_test.drop(\"id\", axis=1)"
   ]
  },
  {
   "cell_type": "markdown",
   "id": "1e8b53df-3005-471b-83f7-8a1fad65c7db",
   "metadata": {
    "tags": []
   },
   "source": [
    "## 7.1. Baseline Model "
   ]
  },
  {
   "cell_type": "code",
   "execution_count": null,
   "id": "10b61dab-86f3-4161-a407-5c6b719f2038",
   "metadata": {
    "tags": []
   },
   "outputs": [],
   "source": [
    "country_destination_list = df1['country_destination'].drop_duplicates().sort_values().tolist()\n",
    "k_num = y_test.shape[0]\n",
    "# adding the weights according to column distribution \"country_destination\"\n",
    "country_destination_weights= df1['country_destination'].value_counts(normalize=True).sort_index().tolist()\n",
    "# random model\n",
    "\n",
    "yhat_random = random.choices(population=country_destination_list,\n",
    "                             weights=country_destination_weights,              \n",
    "                             k=k_num)"
   ]
  },
  {
   "cell_type": "markdown",
   "id": "691b70a3-e6bc-465a-9bf8-a56616228998",
   "metadata": {},
   "source": [
    "## 7.1.1 Baseline Model Performance"
   ]
  },
  {
   "cell_type": "code",
   "execution_count": null,
   "id": "59a0884a-6173-4736-9bdd-c247ea2f94ad",
   "metadata": {},
   "outputs": [],
   "source": [
    "# Acurracy\n",
    "acc_random = m.accuracy_score(y_test, yhat_random )\n",
    "print(\"Accuracy: {}\".format(acc_random))\n",
    "\n",
    "# Balanced accuracy\n",
    "balanced_acc_random = m.balanced_accuracy_score(y_test, yhat_random)\n",
    "print(\"Balanced Accuracy: {}\".format(balanced_acc_random))\n",
    "\n",
    "#Kappa Metrics\n",
    "Kappa_random = m.cohen_kappa_score(y_test, yhat_random)\n",
    "print(\"Kappa Score: {}\".format(balanced_acc_random))\n",
    "\n",
    "#Classification report\n",
    "print(m.classification_report(y_test, yhat_random))\n",
    "\n",
    "\n",
    "# Confusion Matrix\n",
    "mt.plot_confusion_matrix( y_test, yhat_random, normalize=False, figsize=(12,12) )"
   ]
  },
  {
   "cell_type": "markdown",
   "id": "d24b7270-c8f3-4d0b-959f-1fbe53f6e8ad",
   "metadata": {
    "tags": []
   },
   "source": [
    "# 7.2 Neural Network - MLP"
   ]
  },
  {
   "cell_type": "code",
   "execution_count": null,
   "id": "8caccf70-d87e-45a6-bff9-5a453c5c8b80",
   "metadata": {},
   "outputs": [],
   "source": [
    "# One Hot Encoder\n",
    "ohe = pp.OneHotEncoder()\n",
    "y_train_nn = ohe.fit_transform( y_train.values.reshape(-1, 1) ).toarray()"
   ]
  },
  {
   "cell_type": "code",
   "execution_count": null,
   "id": "601aa59a-4f57-4021-9b0f-795a201981a1",
   "metadata": {},
   "outputs": [],
   "source": [
    "y_train_nn"
   ]
  },
  {
   "cell_type": "code",
   "execution_count": null,
   "id": "c269ea32-ee7e-418a-a827-f1b0e17f6468",
   "metadata": {},
   "outputs": [],
   "source": [
    "x_train.shape"
   ]
  },
  {
   "cell_type": "code",
   "execution_count": null,
   "id": "eabb1c2f-aeae-4f44-8681-6f3de0de90e7",
   "metadata": {},
   "outputs": [],
   "source": [
    "# model definition\n",
    "model = ml.Sequential()\n",
    "model.add(l.Dense( 256,input_dim=x_train.shape[1], activation='relu') )\n",
    "model.add(l.Dense(12, activation=\"softmax\") )\n",
    "\n",
    "# model compile\n",
    "model.compile( loss=\"categorical_crossentropy\", optimizer=\"adam\", metrics=[\"accuracy\"] )\n",
    "\n",
    "model.fit( x_train, y_train_nn, epochs=100, verbose=0)"
   ]
  },
  {
   "cell_type": "code",
   "execution_count": null,
   "id": "c888a6e1-c0f4-407f-82f8-9be8e604cb5e",
   "metadata": {},
   "outputs": [],
   "source": [
    "# prediction\n",
    "pred_nn = model.predict( x_test )\n",
    "\n",
    "# invert prediction\n",
    "yhat_nn = ohe.inverse_transform( pred_nn)\n",
    "\n",
    "# prediction prepare\n",
    "y_test_nn = y_test.to_numpy()\n",
    "yhat_nn = yhat_nn.reshape(1, -1)[0]"
   ]
  },
  {
   "cell_type": "markdown",
   "id": "c0b1f317-254a-4f7e-9005-d2b6eb89228f",
   "metadata": {
    "tags": []
   },
   "source": [
    "## 7.2.2 NN Performance"
   ]
  },
  {
   "cell_type": "code",
   "execution_count": null,
   "id": "9c0d33bf-6bac-4841-8905-0a0a60b92331",
   "metadata": {},
   "outputs": [],
   "source": [
    "# Acurracy\n",
    "acc_nn = m.accuracy_score(y_test_nn, yhat_nn )\n",
    "print(\"Accuracy: {}\".format(acc_nn))\n",
    "\n",
    "# Balanced accuracy\n",
    "balanced_acc_nn = m.balanced_accuracy_score(y_test_nn, yhat_nn)\n",
    "print(\"Balanced Accuracy: {}\".format(balanced_acc_nn))\n",
    "\n",
    "#Kappa Metrics\n",
    "Kappa_nn = m.cohen_kappa_score(y_test_nn, yhat_nn)\n",
    "print(\"Kappa Score: {}\".format(Kappa_nn))\n",
    "\n",
    "#Classification report\n",
    "print(m.classification_report(y_test_nn, yhat_nn))\n",
    "\n",
    "\n",
    "# Confusion Matrix\n",
    "mt.plot_confusion_matrix( y_test_nn, yhat_nn, normalize=False, figsize=(12,12) )\n",
    "#"
   ]
  },
  {
   "cell_type": "markdown",
   "id": "907b7c4b-84d3-416a-861c-c3b91623e5b6",
   "metadata": {
    "tags": []
   },
   "source": [
    "## 7.2.3 NN Performance - Cross Validation"
   ]
  },
  {
   "cell_type": "code",
   "execution_count": null,
   "id": "69f794be-8269-4557-b05e-5733d71e578d",
   "metadata": {},
   "outputs": [],
   "source": [
    "# generate k-fold\n",
    "num_folds = 5\n",
    "kfold = ms.StratifiedKFold(n_splits=num_folds, shuffle=True, random_state=32)\n",
    "\n",
    "balanced_acc_nn_list =[]\n",
    "Kappa_nn_list = []\n",
    "i = 1\n",
    "for train_ix, val_ix in kfold.split(x_train, y_train):\n",
    "    print(\"fold number: {}/{}\".format(i, num_folds))\n",
    "          \n",
    "    # get fold\n",
    "    x_train_fold = x_train.iloc[train_ix]\n",
    "    y_train_fold = y_train.iloc[train_ix]\n",
    "    \n",
    "    x_val_fold = x_train.iloc[val_ix]\n",
    "    y_val_fold = y_train.iloc[val_ix]\n",
    "    \n",
    "    # target hot-encoding --> categorical to numeral\n",
    "    ohe = pp.OneHotEncoder()\n",
    "    y_train_fold_nn = ohe.fit_transform(y_train_fold.values.reshape(-1, 1)).toarray()\n",
    "\n",
    "    # model defition\n",
    "    model = ml.Sequential()\n",
    "    model.add(l.Dense(256, input_dim=x_train.shape[1], activation=\"relu\"))\n",
    "    model.add(l.Dense(12, activation=\"softmax\"))\n",
    "\n",
    "    # compile model\n",
    "    model.compile(loss=\"categorical_crossentropy\", optimizer=\"adam\", metrics=[\"accuracy\"])\n",
    "\n",
    "    # training model\n",
    "    model.fit(x_train_fold, y_train_fold_nn, epochs=100, batch_size=32, verbose=0)\n",
    "\n",
    "    # prediction\n",
    "    pred_nn = model.predict(x_val_fold)\n",
    "    yhat_nn = ohe.inverse_transform(pred_nn) # numeral to categorical\n",
    "\n",
    "\n",
    "    # prepare data\n",
    "    y_test_nn = y_val_fold.to_numpy()\n",
    "    Yhat_nn = yhat_nn.reshape(-1, 1)[0]\n",
    "\n",
    "    # metrics\n",
    "\n",
    "    # Balanced accuracy\n",
    "    balanced_acc_nn = m.balanced_accuracy_score(y_test_nn, yhat_nn)\n",
    "    balanced_acc_nn_list.append(balanced_acc_nn)\n",
    "    #print(\"Balanced Accuracy: {}\".format(balanced_acc_nn))\n",
    "\n",
    "    #Kappa Metrics\n",
    "    Kappa_nn = m.cohen_kappa_score(y_test_nn, yhat_nn)\n",
    "    Kappa_nn_list.append(Kappa_nn)\n",
    "    #print(\"Kappa Score: {}\".format(Kappa_nn))\n",
    "\n",
    "    i += 1"
   ]
  },
  {
   "cell_type": "code",
   "execution_count": null,
   "id": "2c1af61f-f3aa-4937-a2a5-b0c229ea807b",
   "metadata": {},
   "outputs": [],
   "source": [
    "print(\"avg Balanced Accuracy:  {} +/- {}\".format(round(np.mean(balanced_acc_nn_list), 4),\n",
    "                                                np.round(np.std(balanced_acc_nn_list), 4)))\n"
   ]
  },
  {
   "cell_type": "code",
   "execution_count": null,
   "id": "8b1ece8d-cbde-425f-8099-071f368ce267",
   "metadata": {},
   "outputs": [],
   "source": [
    "print(\"avg Kappa score: {} +/- {}\".format(np.round(np.mean(Kappa_nn_list), 4),\n",
    "                                          np.round(np.std(Kappa_nn_list), 4)))"
   ]
  },
  {
   "cell_type": "code",
   "execution_count": null,
   "id": "55508bfb-186f-41a1-b298-2a087e1fe678",
   "metadata": {},
   "outputs": [],
   "source": []
  }
 ],
 "metadata": {
  "kernelspec": {
   "display_name": "Python 3 (ipykernel)",
   "language": "python",
   "name": "python3"
  },
  "language_info": {
   "codemirror_mode": {
    "name": "ipython",
    "version": 3
   },
   "file_extension": ".py",
   "mimetype": "text/x-python",
   "name": "python",
   "nbconvert_exporter": "python",
   "pygments_lexer": "ipython3",
   "version": "3.8.12"
  },
  "toc-autonumbering": false,
  "toc-showcode": false,
  "toc-showmarkdowntxt": false,
  "toc-showtags": false
 },
 "nbformat": 4,
 "nbformat_minor": 5
}

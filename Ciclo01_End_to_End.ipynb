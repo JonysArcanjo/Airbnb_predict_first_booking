{
 "cells": [
  {
   "cell_type": "markdown",
   "id": "2d6068e4-90d3-4066-bbc5-fa99ed8201cb",
   "metadata": {},
   "source": [
    "## 0.0 Entender o problema"
   ]
  },
  {
   "cell_type": "markdown",
   "id": "b945ca69-38dc-41db-ae26-83b2c69e1290",
   "metadata": {},
   "source": [
    "-- Objetivo do problema:\n",
    "    -- 1.0 Previsão do primeiro destino que um novo usuário irá escolher.\n",
    "    \n",
    "    --Porque?\n",
    "      --Qual tipo de modelo de negócio do Airbnb?\n",
    "        --Marketplace (Conectar pessoas que oferecem acomodação, com as pessoas que estão procurando acomodação).\n",
    "        \n",
    "        --Oferta (pessoas oferecendo acomodação)\n",
    "            --Tamanho do Portfólio.\n",
    "            -- diversidade/Densidade de Portfólio.\n",
    "            --Preço médio\n",
    "        \n",
    "        --Demanda (pessoa procurando acomodação)\n",
    "             --Número de Usuários \n",
    "             --LTV (LifeTime Value)\n",
    "             --CAC (Client Aquisition Cost)\n",
    "        \n",
    "        Gross Revenue = (Fee * Numero de clientes) - CAC\n",
    "        \n",
    "        --Demanda (pessoas procurando acomodação)\n",
    "        \n",
    "        \n",
    "--Proposta da solução:\n",
    "\n",
    "    --- Modelo de previsão do primeiro destino de um novo usuário.\n",
    "    \n",
    "    --- 1.0 Predições e salvar em uma tabela de bando de dados.\n",
    "    \n",
    "    ---2.0 Criar uma API\n",
    "        --- Input: usuario  e suas caracteristicas\n",
    "        --- Output: usuario e suas caracteristicas com a ** predição do destino**.\n",
    "\n",
    "        \n",
    "        "
   ]
  },
  {
   "cell_type": "markdown",
   "id": "a21ab163-5971-40c7-b880-bc72fafd5980",
   "metadata": {},
   "source": [
    "# 0.0 <font color ='red'>Ciclo01: End to End </font>"
   ]
  },
  {
   "cell_type": "markdown",
   "id": "c3d496e5-f96b-47d7-973e-e4d068dea7ec",
   "metadata": {
    "jp-MarkdownHeadingCollapsed": true,
    "tags": []
   },
   "source": [
    "# 0.0 Imports"
   ]
  },
  {
   "cell_type": "code",
   "execution_count": 1,
   "id": "20c6b9f3-52b8-408e-b449-54472bc41a0b",
   "metadata": {},
   "outputs": [
    {
     "name": "stdout",
     "output_type": "stream",
     "text": [
      "Requirement already satisfied: scikit-plot in c:\\users\\jonys.arcanjo\\anaconda3\\lib\\site-packages (0.3.7)\n",
      "Requirement already satisfied: scipy>=0.9 in c:\\users\\jonys.arcanjo\\anaconda3\\lib\\site-packages (from scikit-plot) (1.7.1)\n",
      "Requirement already satisfied: matplotlib>=1.4.0 in c:\\users\\jonys.arcanjo\\anaconda3\\lib\\site-packages (from scikit-plot) (3.5.0)\n",
      "Requirement already satisfied: scikit-learn>=0.18 in c:\\users\\jonys.arcanjo\\anaconda3\\lib\\site-packages (from scikit-plot) (1.0.1)\n",
      "Requirement already satisfied: joblib>=0.10 in c:\\users\\jonys.arcanjo\\anaconda3\\lib\\site-packages (from scikit-plot) (1.1.0)\n",
      "Requirement already satisfied: cycler>=0.10 in c:\\users\\jonys.arcanjo\\anaconda3\\lib\\site-packages (from matplotlib>=1.4.0->scikit-plot) (0.11.0)\n",
      "Requirement already satisfied: numpy>=1.17 in c:\\users\\jonys.arcanjo\\anaconda3\\lib\\site-packages (from matplotlib>=1.4.0->scikit-plot) (1.20.3)\n",
      "Requirement already satisfied: kiwisolver>=1.0.1 in c:\\users\\jonys.arcanjo\\anaconda3\\lib\\site-packages (from matplotlib>=1.4.0->scikit-plot) (1.3.1)\n",
      "Requirement already satisfied: pyparsing>=2.2.1 in c:\\users\\jonys.arcanjo\\anaconda3\\lib\\site-packages (from matplotlib>=1.4.0->scikit-plot) (3.0.4)\n",
      "Requirement already satisfied: python-dateutil>=2.7 in c:\\users\\jonys.arcanjo\\anaconda3\\lib\\site-packages (from matplotlib>=1.4.0->scikit-plot) (2.8.2)\n",
      "Requirement already satisfied: pillow>=6.2.0 in c:\\users\\jonys.arcanjo\\anaconda3\\lib\\site-packages (from matplotlib>=1.4.0->scikit-plot) (8.4.0)\n",
      "Requirement already satisfied: fonttools>=4.22.0 in c:\\users\\jonys.arcanjo\\anaconda3\\lib\\site-packages (from matplotlib>=1.4.0->scikit-plot) (4.25.0)\n",
      "Requirement already satisfied: packaging>=20.0 in c:\\users\\jonys.arcanjo\\anaconda3\\lib\\site-packages (from matplotlib>=1.4.0->scikit-plot) (21.3)\n",
      "Requirement already satisfied: six>=1.5 in c:\\users\\jonys.arcanjo\\anaconda3\\lib\\site-packages (from python-dateutil>=2.7->matplotlib>=1.4.0->scikit-plot) (1.16.0)\n",
      "Requirement already satisfied: threadpoolctl>=2.0.0 in c:\\users\\jonys.arcanjo\\anaconda3\\lib\\site-packages (from scikit-learn>=0.18->scikit-plot) (2.2.0)\n"
     ]
    }
   ],
   "source": [
    "!pip install scikit-plot"
   ]
  },
  {
   "cell_type": "code",
   "execution_count": 2,
   "id": "73518930-3fc8-4d5b-a85d-ae0d168679ff",
   "metadata": {},
   "outputs": [],
   "source": [
    "import pandas as pd\n",
    "import random\n",
    "from sklearn import model_selection as ms\n",
    "from sklearn import preprocessing   as pp\n",
    "from sklearn import metrics         as m\n",
    "from scikitplot import metrics      as mt\n",
    "\n",
    "from keras import models as ml\n",
    "from keras import layers as l\n"
   ]
  },
  {
   "cell_type": "markdown",
   "id": "0239c94b-3223-45fb-8486-7ccb4224f3a3",
   "metadata": {
    "tags": []
   },
   "source": [
    "# 0.1 Helper functions"
   ]
  },
  {
   "cell_type": "markdown",
   "id": "ab881f1a-8645-4055-af54-f824e0b3b81a",
   "metadata": {
    "jp-MarkdownHeadingCollapsed": true,
    "tags": []
   },
   "source": [
    "# 0.2 Loading Data"
   ]
  },
  {
   "cell_type": "code",
   "execution_count": 3,
   "id": "7e34805f-2927-4d64-9ab3-55ed628be787",
   "metadata": {},
   "outputs": [
    {
     "data": {
      "text/plain": [
       "(213451, 16)"
      ]
     },
     "execution_count": 3,
     "metadata": {},
     "output_type": "execute_result"
    }
   ],
   "source": [
    "# datasets source: https://www.kaggle.com/c/airbnb-recruiting-new-user-bookings/data?select=sessions.csv.zip\n",
    "\n",
    "\n",
    "df_raw = pd.read_csv('dataset/training_users_2.csv', low_memory=True)\n",
    "df_raw.shape\n",
    "\n",
    "#df_sessions = pd.read_csv('dataset/sessions.csv', low_memory=True)\n",
    "#df_sessions.shape"
   ]
  },
  {
   "cell_type": "markdown",
   "id": "1b120d77-fb2f-41c5-9899-722b178d8155",
   "metadata": {
    "jp-MarkdownHeadingCollapsed": true,
    "tags": []
   },
   "source": [
    "# 1.0 Data Description"
   ]
  },
  {
   "cell_type": "code",
   "execution_count": 4,
   "id": "2b77143f-34c7-4659-a981-ce8cb3e5d468",
   "metadata": {},
   "outputs": [],
   "source": [
    "df1 = df_raw.copy()"
   ]
  },
  {
   "cell_type": "code",
   "execution_count": 5,
   "id": "cebb34b7-ccb3-4d40-a990-807deb4153ef",
   "metadata": {},
   "outputs": [
    {
     "name": "stdout",
     "output_type": "stream",
     "text": [
      "Number of rows: 213451\n",
      "Number of columns: 16\n"
     ]
    }
   ],
   "source": [
    "print( 'Number of rows: {}'.format(df1.shape[0] ) )\n",
    "print( 'Number of columns: {}'.format(df1.shape[1] ) )"
   ]
  },
  {
   "cell_type": "markdown",
   "id": "552788d8-46cc-4595-8a6a-6626333fe265",
   "metadata": {
    "tags": []
   },
   "source": [
    "## 1.1 Data type"
   ]
  },
  {
   "cell_type": "code",
   "execution_count": 6,
   "id": "0efcd25a-8693-436b-b4b8-179d4c056a0f",
   "metadata": {},
   "outputs": [
    {
     "data": {
      "text/plain": [
       "id                          object\n",
       "date_account_created        object\n",
       "timestamp_first_active       int64\n",
       "date_first_booking          object\n",
       "gender                      object\n",
       "age                        float64\n",
       "signup_method               object\n",
       "signup_flow                  int64\n",
       "language                    object\n",
       "affiliate_channel           object\n",
       "affiliate_provider          object\n",
       "first_affiliate_tracked     object\n",
       "signup_app                  object\n",
       "first_device_type           object\n",
       "first_browser               object\n",
       "country_destination         object\n",
       "dtype: object"
      ]
     },
     "execution_count": 6,
     "metadata": {},
     "output_type": "execute_result"
    }
   ],
   "source": [
    "df1.dtypes"
   ]
  },
  {
   "cell_type": "markdown",
   "id": "7227339f-b668-4414-92d4-1f4bf2454007",
   "metadata": {
    "tags": []
   },
   "source": [
    "## 1.2 NA Check"
   ]
  },
  {
   "cell_type": "code",
   "execution_count": 7,
   "id": "0d3f9a79-ca6c-4251-a2b7-e0de60939724",
   "metadata": {},
   "outputs": [
    {
     "data": {
      "text/plain": [
       "id                              0\n",
       "date_account_created            0\n",
       "timestamp_first_active          0\n",
       "date_first_booking         124543\n",
       "gender                          0\n",
       "age                         87990\n",
       "signup_method                   0\n",
       "signup_flow                     0\n",
       "language                        0\n",
       "affiliate_channel               0\n",
       "affiliate_provider              0\n",
       "first_affiliate_tracked      6065\n",
       "signup_app                      0\n",
       "first_device_type               0\n",
       "first_browser                   0\n",
       "country_destination             0\n",
       "dtype: int64"
      ]
     },
     "execution_count": 7,
     "metadata": {},
     "output_type": "execute_result"
    }
   ],
   "source": [
    "df1.isna().sum()"
   ]
  },
  {
   "cell_type": "code",
   "execution_count": 8,
   "id": "2480942d-48bf-4c36-ad9e-c1c064564529",
   "metadata": {},
   "outputs": [
    {
     "data": {
      "text/plain": [
       "(68171, 16)"
      ]
     },
     "execution_count": 8,
     "metadata": {},
     "output_type": "execute_result"
    }
   ],
   "source": [
    "df1 = df1.dropna()\n",
    "df1.shape"
   ]
  },
  {
   "cell_type": "markdown",
   "id": "bf83107e-b046-49ee-9ee8-cce0c80e8f29",
   "metadata": {
    "tags": []
   },
   "source": [
    "## 1.3 Change Data Type"
   ]
  },
  {
   "cell_type": "code",
   "execution_count": 9,
   "id": "7a919e62-5603-4e05-8a69-a2503d23a8e5",
   "metadata": {},
   "outputs": [],
   "source": [
    "# date_account_created    \n",
    "df1[\"date_account_created\"] = pd.to_datetime( df1[\"date_account_created\"] )\n",
    "\n",
    "# timestamp_first_active   \n",
    "df1[\"timestamp_first_active\"] = pd.to_datetime( df1[\"timestamp_first_active\"], format='%Y%m%d%H%M%S' )\n",
    "\n",
    "# date_first_booking       \n",
    "df1[\"date_first_booking\"] = pd.to_datetime( df1[\"date_first_booking\"] )\n",
    "\n",
    "# age       \n",
    "df1[\"age\"] = df1[\"age\"].astype( int )"
   ]
  },
  {
   "cell_type": "code",
   "execution_count": 10,
   "id": "c0846dea-bd7a-4ebf-8e9a-a6e9a7ac6d06",
   "metadata": {},
   "outputs": [
    {
     "data": {
      "text/plain": [
       "id                                 object\n",
       "date_account_created       datetime64[ns]\n",
       "timestamp_first_active     datetime64[ns]\n",
       "date_first_booking         datetime64[ns]\n",
       "gender                             object\n",
       "age                                 int32\n",
       "signup_method                      object\n",
       "signup_flow                         int64\n",
       "language                           object\n",
       "affiliate_channel                  object\n",
       "affiliate_provider                 object\n",
       "first_affiliate_tracked            object\n",
       "signup_app                         object\n",
       "first_device_type                  object\n",
       "first_browser                      object\n",
       "country_destination                object\n",
       "dtype: object"
      ]
     },
     "execution_count": 10,
     "metadata": {},
     "output_type": "execute_result"
    }
   ],
   "source": [
    "df1.dtypes"
   ]
  },
  {
   "cell_type": "markdown",
   "id": "2a2dd5de-d7e9-4c3a-a268-5d68200a15ce",
   "metadata": {
    "tags": []
   },
   "source": [
    "## 1.4 Check Balanced Data"
   ]
  },
  {
   "cell_type": "code",
   "execution_count": 11,
   "id": "ea891b5f-0082-4f84-a859-f67423c361f6",
   "metadata": {},
   "outputs": [
    {
     "data": {
      "text/plain": [
       "US       0.708864\n",
       "other    0.110854\n",
       "FR       0.054085\n",
       "IT       0.029763\n",
       "GB       0.025935\n",
       "ES       0.024864\n",
       "CA       0.015696\n",
       "DE       0.012454\n",
       "NL       0.008801\n",
       "AU       0.006366\n",
       "PT       0.002318\n",
       "Name: country_destination, dtype: float64"
      ]
     },
     "execution_count": 11,
     "metadata": {},
     "output_type": "execute_result"
    }
   ],
   "source": [
    "df1[\"country_destination\"].value_counts(normalize=True)"
   ]
  },
  {
   "cell_type": "markdown",
   "id": "367aec7e-b01c-4789-a674-a014432f757d",
   "metadata": {
    "jp-MarkdownHeadingCollapsed": true,
    "tags": []
   },
   "source": [
    "# 2.0 Data filtering"
   ]
  },
  {
   "cell_type": "code",
   "execution_count": 12,
   "id": "6a727bd9-6e2e-4ce2-8958-b496fb4fb1d4",
   "metadata": {},
   "outputs": [],
   "source": [
    "df2 = df1.copy()"
   ]
  },
  {
   "cell_type": "markdown",
   "id": "53ec8fdf-43e3-4cf5-850e-5af3d5555747",
   "metadata": {},
   "source": [
    "# 2.1 Filtering Rows"
   ]
  },
  {
   "cell_type": "markdown",
   "id": "1b5b3c49-75f5-42b8-b832-bd5cd2e72847",
   "metadata": {},
   "source": [
    "# 2.1 Columns Selection"
   ]
  },
  {
   "cell_type": "markdown",
   "id": "4888df5b-41b5-42a0-95c8-0f7f1c9822b0",
   "metadata": {
    "jp-MarkdownHeadingCollapsed": true,
    "tags": []
   },
   "source": [
    "# 3.0 Data Preparation"
   ]
  },
  {
   "cell_type": "code",
   "execution_count": 13,
   "id": "7643d985-374c-4515-a10b-5c294327ecf2",
   "metadata": {
    "tags": []
   },
   "outputs": [],
   "source": [
    "df3 = df2.copy()"
   ]
  },
  {
   "cell_type": "code",
   "execution_count": 14,
   "id": "bae0e2b3-4845-47de-80ae-95a3d6cf02f1",
   "metadata": {},
   "outputs": [],
   "source": [
    "#dummies variables.\n",
    "df3_dummy = pd.get_dummies(df3.drop( ['id','country_destination'], axis=1) )\n",
    "\n",
    "# join id and country destination\n",
    "df3 = pd.concat( [df3[[\"id\",\"country_destination\"]],df3_dummy], axis=1 )  \n",
    "                     "
   ]
  },
  {
   "cell_type": "code",
   "execution_count": null,
   "id": "0ce916f5-75c0-4917-a3dd-4afc1afada16",
   "metadata": {},
   "outputs": [],
   "source": []
  },
  {
   "cell_type": "markdown",
   "id": "1332eede-f05b-4b6a-aeab-a6f0e25df670",
   "metadata": {
    "tags": []
   },
   "source": [
    "# 4.0 Feature Selecion"
   ]
  },
  {
   "cell_type": "code",
   "execution_count": 15,
   "id": "355aefdd-8a6a-469f-afbb-c31781ed368c",
   "metadata": {},
   "outputs": [],
   "source": [
    "cols_drop = [\"date_account_created\", \"timestamp_first_active\",\"date_first_booking\" ] # original dates\n",
    "df4 = df3.drop(cols_drop, axis=1)"
   ]
  },
  {
   "cell_type": "code",
   "execution_count": 16,
   "id": "82ee3800-4ff4-43c2-870d-e69c2f10ad96",
   "metadata": {},
   "outputs": [
    {
     "data": {
      "text/html": [
       "<div>\n",
       "<style scoped>\n",
       "    .dataframe tbody tr th:only-of-type {\n",
       "        vertical-align: middle;\n",
       "    }\n",
       "\n",
       "    .dataframe tbody tr th {\n",
       "        vertical-align: top;\n",
       "    }\n",
       "\n",
       "    .dataframe thead th {\n",
       "        text-align: right;\n",
       "    }\n",
       "</style>\n",
       "<table border=\"1\" class=\"dataframe\">\n",
       "  <thead>\n",
       "    <tr style=\"text-align: right;\">\n",
       "      <th></th>\n",
       "      <th>117852</th>\n",
       "    </tr>\n",
       "  </thead>\n",
       "  <tbody>\n",
       "    <tr>\n",
       "      <th>id</th>\n",
       "      <td>ch3b7gm61k</td>\n",
       "    </tr>\n",
       "    <tr>\n",
       "      <th>country_destination</th>\n",
       "      <td>US</td>\n",
       "    </tr>\n",
       "    <tr>\n",
       "      <th>age</th>\n",
       "      <td>21</td>\n",
       "    </tr>\n",
       "    <tr>\n",
       "      <th>signup_flow</th>\n",
       "      <td>0</td>\n",
       "    </tr>\n",
       "    <tr>\n",
       "      <th>gender_-unknown-</th>\n",
       "      <td>0</td>\n",
       "    </tr>\n",
       "    <tr>\n",
       "      <th>...</th>\n",
       "      <td>...</td>\n",
       "    </tr>\n",
       "    <tr>\n",
       "      <th>first_browser_Sogou Explorer</th>\n",
       "      <td>0</td>\n",
       "    </tr>\n",
       "    <tr>\n",
       "      <th>first_browser_Stainless</th>\n",
       "      <td>0</td>\n",
       "    </tr>\n",
       "    <tr>\n",
       "      <th>first_browser_TenFourFox</th>\n",
       "      <td>0</td>\n",
       "    </tr>\n",
       "    <tr>\n",
       "      <th>first_browser_TheWorld Browser</th>\n",
       "      <td>0</td>\n",
       "    </tr>\n",
       "    <tr>\n",
       "      <th>first_browser_Yandex.Browser</th>\n",
       "      <td>0</td>\n",
       "    </tr>\n",
       "  </tbody>\n",
       "</table>\n",
       "<p>114 rows × 1 columns</p>\n",
       "</div>"
      ],
      "text/plain": [
       "                                    117852\n",
       "id                              ch3b7gm61k\n",
       "country_destination                     US\n",
       "age                                     21\n",
       "signup_flow                              0\n",
       "gender_-unknown-                         0\n",
       "...                                    ...\n",
       "first_browser_Sogou Explorer             0\n",
       "first_browser_Stainless                  0\n",
       "first_browser_TenFourFox                 0\n",
       "first_browser_TheWorld Browser           0\n",
       "first_browser_Yandex.Browser             0\n",
       "\n",
       "[114 rows x 1 columns]"
      ]
     },
     "execution_count": 16,
     "metadata": {},
     "output_type": "execute_result"
    }
   ],
   "source": [
    "df4.sample().T"
   ]
  },
  {
   "cell_type": "code",
   "execution_count": 17,
   "id": "4098f665-878e-405d-ab4c-b821ed98ee40",
   "metadata": {},
   "outputs": [],
   "source": [
    "X = df4.drop('country_destination', axis=1)\n",
    "y = df4['country_destination'].copy()"
   ]
  },
  {
   "cell_type": "code",
   "execution_count": 18,
   "id": "c73ee817-b85d-45b8-91c9-f7c781cd0dce",
   "metadata": {},
   "outputs": [],
   "source": [
    "# Split dataset into training and test\n",
    "X_train, X_test, y_train, y_test = ms.train_test_split( X, y, test_size=0.2, random_state=32 )"
   ]
  },
  {
   "cell_type": "markdown",
   "id": "4bb75aba-f122-4585-b276-32cb20b10083",
   "metadata": {
    "tags": []
   },
   "source": [
    "# 5.0 Machine Learning - Neural Network - MLP"
   ]
  },
  {
   "cell_type": "code",
   "execution_count": 19,
   "id": "6a447754-ead1-40d5-b0b0-4872c10dba32",
   "metadata": {
    "tags": []
   },
   "outputs": [
    {
     "data": {
      "text/plain": [
       "112"
      ]
     },
     "execution_count": 19,
     "metadata": {},
     "output_type": "execute_result"
    }
   ],
   "source": [
    "x_train = X_train.drop(\"id\", axis=1)\n",
    "x_test = X_test.drop(\"id\", axis=1)\n",
    "x_train.shape[1]"
   ]
  },
  {
   "cell_type": "markdown",
   "id": "1e8b53df-3005-471b-83f7-8a1fad65c7db",
   "metadata": {},
   "source": [
    "## 5.1. Baseline Model"
   ]
  },
  {
   "cell_type": "code",
   "execution_count": 35,
   "id": "10b61dab-86f3-4161-a407-5c6b719f2038",
   "metadata": {},
   "outputs": [
    {
     "data": {
      "text/plain": [
       "13635"
      ]
     },
     "execution_count": 35,
     "metadata": {},
     "output_type": "execute_result"
    }
   ],
   "source": [
    "country_destination_list = df1['country_destination'].drop_duplicates().sort_values().tolist()\n",
    "k_num = y_test.shape[0]\n",
    "# adding the weights according to column distribution \"country_destination\"\n",
    "country_destination_weights= df1['country_destination'].value_counts(normalize=True).sort_index().tolist()\n",
    "# random model\n",
    "\n",
    "yhat_random = random.choices(population=country_destination_list,\n",
    "                             weights=country_destination_weights,              \n",
    "                             k=k_num)\n",
    "len(yhat_random)"
   ]
  },
  {
   "cell_type": "code",
   "execution_count": 36,
   "id": "59a0884a-6173-4736-9bdd-c247ea2f94ad",
   "metadata": {},
   "outputs": [
    {
     "name": "stdout",
     "output_type": "stream",
     "text": [
      "Accuracy: 0.522992299229923\n",
      "Balanced Accuracy: 0.09372880130109937\n",
      "Kappa Score: 0.09372880130109937\n",
      "              precision    recall  f1-score   support\n",
      "\n",
      "          AU       0.00      0.00      0.00       101\n",
      "          CA       0.01      0.01      0.01       214\n",
      "          DE       0.03      0.03      0.03       170\n",
      "          ES       0.02      0.02      0.02       345\n",
      "          FR       0.05      0.05      0.05       710\n",
      "          GB       0.03      0.03      0.03       344\n",
      "          IT       0.04      0.04      0.04       423\n",
      "          NL       0.00      0.00      0.00       128\n",
      "          PT       0.04      0.03      0.03        36\n",
      "          US       0.71      0.71      0.71      9624\n",
      "       other       0.12      0.11      0.11      1540\n",
      "\n",
      "    accuracy                           0.52     13635\n",
      "   macro avg       0.09      0.09      0.09     13635\n",
      "weighted avg       0.52      0.52      0.52     13635\n",
      "\n"
     ]
    },
    {
     "data": {
      "text/plain": [
       "<AxesSubplot:title={'center':'Confusion Matrix'}, xlabel='Predicted label', ylabel='True label'>"
      ]
     },
     "execution_count": 36,
     "metadata": {},
     "output_type": "execute_result"
    },
    {
     "data": {
      "image/png": "[encoded data removed]",
      "text/plain": [
       "<Figure size 864x864 with 2 Axes>"
      ]
     },
     "metadata": {
      "needs_background": "light"
     },
     "output_type": "display_data"
    }
   ],
   "source": [
    "# Acurracy\n",
    "acc_random = m.accuracy_score(y_test_nn, yhat_random )\n",
    "print(\"Accuracy: {}\".format(acc_random))\n",
    "\n",
    "# Balanced accuracy\n",
    "balanced_acc_random = m.balanced_accuracy_score(y_test_nn, yhat_random)\n",
    "print(\"Balanced Accuracy: {}\".format(balanced_acc_random))\n",
    "\n",
    "#Kappa Metrics\n",
    "Kappa_random = m.cohen_kappa_score(y_test_nn, yhat_random)\n",
    "print(\"Kappa Score: {}\".format(balanced_acc_random))\n",
    "\n",
    "#Classification report\n",
    "print(m.classification_report(y_test_nn, yhat_random))\n",
    "\n",
    "\n",
    "# Confusion Matrix\n",
    "mt.plot_confusion_matrix( y_test_nn, yhat_random, normalize=False, figsize=(12,12) )"
   ]
  },
  {
   "cell_type": "markdown",
   "id": "d24b7270-c8f3-4d0b-959f-1fbe53f6e8ad",
   "metadata": {
    "tags": []
   },
   "source": [
    "# 5.0 Neural Network - MLP"
   ]
  },
  {
   "cell_type": "code",
   "execution_count": 21,
   "id": "8caccf70-d87e-45a6-bff9-5a453c5c8b80",
   "metadata": {},
   "outputs": [],
   "source": [
    "# One Hot Encoder\n",
    "ohe = pp.OneHotEncoder()\n",
    "y_train_nn = ohe.fit_transform( y_train.values.reshape(-1, 1) ).toarray()"
   ]
  },
  {
   "cell_type": "code",
   "execution_count": 22,
   "id": "601aa59a-4f57-4021-9b0f-795a201981a1",
   "metadata": {},
   "outputs": [
    {
     "data": {
      "text/plain": [
       "array([[0., 0., 0., ..., 0., 1., 0.],\n",
       "       [0., 0., 0., ..., 0., 0., 0.],\n",
       "       [0., 0., 0., ..., 0., 0., 0.],\n",
       "       ...,\n",
       "       [0., 0., 0., ..., 0., 1., 0.],\n",
       "       [0., 0., 0., ..., 0., 0., 0.],\n",
       "       [0., 0., 0., ..., 0., 1., 0.]])"
      ]
     },
     "execution_count": 22,
     "metadata": {},
     "output_type": "execute_result"
    }
   ],
   "source": [
    "y_train_nn"
   ]
  },
  {
   "cell_type": "code",
   "execution_count": 23,
   "id": "eabb1c2f-aeae-4f44-8681-6f3de0de90e7",
   "metadata": {},
   "outputs": [
    {
     "name": "stdout",
     "output_type": "stream",
     "text": [
      "Epoch 1/100\n",
      "1705/1705 [==============================] - 2s 1ms/step - loss: 1.3549 - accuracy: 0.7031\n",
      "Epoch 2/100\n",
      "1705/1705 [==============================] - 2s 1ms/step - loss: 1.2743 - accuracy: 0.7076\n",
      "Epoch 3/100\n",
      "1705/1705 [==============================] - 3s 1ms/step - loss: 1.2439 - accuracy: 0.7082\n",
      "Epoch 4/100\n",
      "1705/1705 [==============================] - 2s 1ms/step - loss: 1.2031 - accuracy: 0.7082\n",
      "Epoch 5/100\n",
      "1705/1705 [==============================] - 2s 1ms/step - loss: 1.1936 - accuracy: 0.7082\n",
      "Epoch 6/100\n",
      "1705/1705 [==============================] - 3s 2ms/step - loss: 1.1736 - accuracy: 0.7087\n",
      "Epoch 7/100\n",
      "1705/1705 [==============================] - 3s 2ms/step - loss: 1.1622 - accuracy: 0.7085\n",
      "Epoch 8/100\n",
      "1705/1705 [==============================] - 2s 1ms/step - loss: 1.1518 - accuracy: 0.7087\n",
      "Epoch 9/100\n",
      "1705/1705 [==============================] - 2s 1ms/step - loss: 1.1438 - accuracy: 0.7087\n",
      "Epoch 10/100\n",
      "1705/1705 [==============================] - 4s 2ms/step - loss: 1.1373 - accuracy: 0.7090\n",
      "Epoch 11/100\n",
      "1705/1705 [==============================] - 3s 2ms/step - loss: 1.1350 - accuracy: 0.7092\n",
      "Epoch 12/100\n",
      "1705/1705 [==============================] - 3s 2ms/step - loss: 1.1329 - accuracy: 0.7093\n",
      "Epoch 13/100\n",
      "1705/1705 [==============================] - 3s 2ms/step - loss: 1.1313 - accuracy: 0.7095\n",
      "Epoch 14/100\n",
      "1705/1705 [==============================] - 3s 2ms/step - loss: 1.1312 - accuracy: 0.7094\n",
      "Epoch 15/100\n",
      "1705/1705 [==============================] - 4s 2ms/step - loss: 1.1295 - accuracy: 0.7096\n",
      "Epoch 16/100\n",
      "1705/1705 [==============================] - 3s 2ms/step - loss: 1.1281 - accuracy: 0.7096\n",
      "Epoch 17/100\n",
      "1705/1705 [==============================] - 2s 1ms/step - loss: 1.1274 - accuracy: 0.7096\n",
      "Epoch 18/100\n",
      "1705/1705 [==============================] - 2s 1ms/step - loss: 1.1265 - accuracy: 0.7096\n",
      "Epoch 19/100\n",
      "1705/1705 [==============================] - 2s 1ms/step - loss: 1.1257 - accuracy: 0.7096\n",
      "Epoch 20/100\n",
      "1705/1705 [==============================] - 2s 1ms/step - loss: 1.1255 - accuracy: 0.7096\n",
      "Epoch 21/100\n",
      "1705/1705 [==============================] - 3s 2ms/step - loss: 1.1247 - accuracy: 0.7097\n",
      "Epoch 22/100\n",
      "1705/1705 [==============================] - 2s 1ms/step - loss: 1.1228 - accuracy: 0.7097\n",
      "Epoch 23/100\n",
      "1705/1705 [==============================] - 2s 1ms/step - loss: 1.1236 - accuracy: 0.7097\n",
      "Epoch 24/100\n",
      "1705/1705 [==============================] - 2s 1ms/step - loss: 1.1216 - accuracy: 0.7097\n",
      "Epoch 25/100\n",
      "1705/1705 [==============================] - 2s 1ms/step - loss: 1.1214 - accuracy: 0.7099\n",
      "Epoch 26/100\n",
      "1705/1705 [==============================] - 2s 1ms/step - loss: 1.1206 - accuracy: 0.7100\n",
      "Epoch 27/100\n",
      "1705/1705 [==============================] - 2s 1ms/step - loss: 1.1199 - accuracy: 0.7099\n",
      "Epoch 28/100\n",
      "1705/1705 [==============================] - 2s 1ms/step - loss: 1.1189 - accuracy: 0.7099\n",
      "Epoch 29/100\n",
      "1705/1705 [==============================] - 3s 1ms/step - loss: 1.1183 - accuracy: 0.7100\n",
      "Epoch 30/100\n",
      "1705/1705 [==============================] - 2s 1ms/step - loss: 1.1177 - accuracy: 0.7100\n",
      "Epoch 31/100\n",
      "1705/1705 [==============================] - ETA: 0s - loss: 1.1162 - accuracy: 0.71 - 2s 1ms/step - loss: 1.1171 - accuracy: 0.7101\n",
      "Epoch 32/100\n",
      "1705/1705 [==============================] - 2s 1ms/step - loss: 1.1162 - accuracy: 0.7102: 1s - loss: 1.1116 -  - ETA: 0s\n",
      "Epoch 33/100\n",
      "1705/1705 [==============================] - ETA: 0s - loss: 1.1146 - accuracy: 0.71 - 2s 1ms/step - loss: 1.1160 - accuracy: 0.7101\n",
      "Epoch 34/100\n",
      "1705/1705 [==============================] - 2s 1ms/step - loss: 1.1156 - accuracy: 0.7101\n",
      "Epoch 35/100\n",
      "1705/1705 [==============================] - 2s 1ms/step - loss: 1.1146 - accuracy: 0.7101\n",
      "Epoch 36/100\n",
      "1705/1705 [==============================] - 3s 2ms/step - loss: 1.1139 - accuracy: 0.7102\n",
      "Epoch 37/100\n",
      "1705/1705 [==============================] - 2s 1ms/step - loss: 1.1141 - accuracy: 0.7102\n",
      "Epoch 38/100\n",
      "1705/1705 [==============================] - 2s 1ms/step - loss: 1.1124 - accuracy: 0.7103\n",
      "Epoch 39/100\n",
      "1705/1705 [==============================] - 2s 1ms/step - loss: 1.1126 - accuracy: 0.7105\n",
      "Epoch 40/100\n",
      "1705/1705 [==============================] - 2s 1ms/step - loss: 1.1115 - accuracy: 0.7105\n",
      "Epoch 41/100\n",
      "1705/1705 [==============================] - 2s 1ms/step - loss: 1.1114 - accuracy: 0.7102\n",
      "Epoch 42/100\n",
      "1705/1705 [==============================] - 3s 2ms/step - loss: 1.1113 - accuracy: 0.7103\n",
      "Epoch 43/100\n",
      "1705/1705 [==============================] - 3s 2ms/step - loss: 1.1102 - accuracy: 0.7104\n",
      "Epoch 44/100\n",
      "1705/1705 [==============================] - 3s 2ms/step - loss: 1.1099 - accuracy: 0.7106\n",
      "Epoch 45/100\n",
      "1705/1705 [==============================] - 3s 2ms/step - loss: 1.1107 - accuracy: 0.7106\n",
      "Epoch 46/100\n",
      "1705/1705 [==============================] - 3s 1ms/step - loss: 1.1086 - accuracy: 0.7105\n",
      "Epoch 47/100\n",
      "1705/1705 [==============================] - 2s 1ms/step - loss: 1.1083 - accuracy: 0.7105\n",
      "Epoch 48/100\n",
      "1705/1705 [==============================] - 2s 1ms/step - loss: 1.1082 - accuracy: 0.7106\n",
      "Epoch 49/100\n",
      "1705/1705 [==============================] - 3s 1ms/step - loss: 1.1073 - accuracy: 0.7106\n",
      "Epoch 50/100\n",
      "1705/1705 [==============================] - 2s 1ms/step - loss: 1.1072 - accuracy: 0.7106\n",
      "Epoch 51/100\n",
      "1705/1705 [==============================] - 2s 1ms/step - loss: 1.1072 - accuracy: 0.7109\n",
      "Epoch 52/100\n",
      "1705/1705 [==============================] - 2s 1ms/step - loss: 1.1067 - accuracy: 0.7109\n",
      "Epoch 53/100\n",
      "1705/1705 [==============================] - 2s 1ms/step - loss: 1.1061 - accuracy: 0.7109\n",
      "Epoch 54/100\n",
      "1705/1705 [==============================] - 2s 1ms/step - loss: 1.1056 - accuracy: 0.7108\n",
      "Epoch 55/100\n",
      "1705/1705 [==============================] - 2s 1ms/step - loss: 1.1059 - accuracy: 0.7111\n",
      "Epoch 56/100\n",
      "1705/1705 [==============================] - 3s 2ms/step - loss: 1.1051 - accuracy: 0.7111\n",
      "Epoch 57/100\n",
      "1705/1705 [==============================] - 2s 1ms/step - loss: 1.1045 - accuracy: 0.7111\n",
      "Epoch 58/100\n",
      "1705/1705 [==============================] - 2s 1ms/step - loss: 1.1039 - accuracy: 0.7109\n",
      "Epoch 59/100\n",
      "1705/1705 [==============================] - 2s 1ms/step - loss: 1.1042 - accuracy: 0.7110\n",
      "Epoch 60/100\n",
      "1705/1705 [==============================] - 2s 1ms/step - loss: 1.1039 - accuracy: 0.7110\n",
      "Epoch 61/100\n",
      "1705/1705 [==============================] - 2s 1ms/step - loss: 1.1028 - accuracy: 0.7112\n",
      "Epoch 62/100\n",
      "1705/1705 [==============================] - 3s 2ms/step - loss: 1.1030 - accuracy: 0.7110\n",
      "Epoch 63/100\n",
      "1705/1705 [==============================] - 3s 2ms/step - loss: 1.1030 - accuracy: 0.7112\n",
      "Epoch 64/100\n",
      "1705/1705 [==============================] - 2s 1ms/step - loss: 1.1019 - accuracy: 0.7114\n",
      "Epoch 65/100\n",
      "1705/1705 [==============================] - 3s 2ms/step - loss: 1.1024 - accuracy: 0.7113\n",
      "Epoch 66/100\n",
      "1705/1705 [==============================] - 3s 2ms/step - loss: 1.1018 - accuracy: 0.7113\n",
      "Epoch 67/100\n",
      "1705/1705 [==============================] - 2s 1ms/step - loss: 1.1020 - accuracy: 0.7114\n",
      "Epoch 68/100\n",
      "1705/1705 [==============================] - 3s 1ms/step - loss: 1.1019 - accuracy: 0.7113\n",
      "Epoch 69/100\n",
      "1705/1705 [==============================] - 3s 2ms/step - loss: 1.1017 - accuracy: 0.7114\n",
      "Epoch 70/100\n",
      "1705/1705 [==============================] - 3s 2ms/step - loss: 1.1004 - accuracy: 0.7114\n",
      "Epoch 71/100\n",
      "1705/1705 [==============================] - 2s 1ms/step - loss: 1.1008 - accuracy: 0.7119\n",
      "Epoch 72/100\n",
      "1705/1705 [==============================] - 2s 1ms/step - loss: 1.1005 - accuracy: 0.7116\n",
      "Epoch 73/100\n",
      "1705/1705 [==============================] - 2s 1ms/step - loss: 1.1003 - accuracy: 0.7118\n",
      "Epoch 74/100\n",
      "1705/1705 [==============================] - 2s 1ms/step - loss: 1.0998 - accuracy: 0.7118\n",
      "Epoch 75/100\n",
      "1705/1705 [==============================] - 3s 2ms/step - loss: 1.1001 - accuracy: 0.7115\n",
      "Epoch 76/100\n",
      "1705/1705 [==============================] - 3s 2ms/step - loss: 1.0996 - accuracy: 0.7115\n",
      "Epoch 77/100\n",
      "1705/1705 [==============================] - 2s 1ms/step - loss: 1.0989 - accuracy: 0.7118\n",
      "Epoch 78/100\n",
      "1705/1705 [==============================] - 3s 1ms/step - loss: 1.0990 - accuracy: 0.7120\n",
      "Epoch 79/100\n",
      "1705/1705 [==============================] - 2s 1ms/step - loss: 1.0984 - accuracy: 0.7118\n",
      "Epoch 80/100\n",
      "1705/1705 [==============================] - 3s 2ms/step - loss: 1.0984 - accuracy: 0.7118\n",
      "Epoch 81/100\n",
      "1705/1705 [==============================] - 4s 2ms/step - loss: 1.0988 - accuracy: 0.7120\n",
      "Epoch 82/100\n",
      "1705/1705 [==============================] - 3s 2ms/step - loss: 1.0982 - accuracy: 0.7120\n",
      "Epoch 83/100\n",
      "1705/1705 [==============================] - 2s 1ms/step - loss: 1.0984 - accuracy: 0.7120\n",
      "Epoch 84/100\n",
      "1705/1705 [==============================] - 2s 1ms/step - loss: 1.0974 - accuracy: 0.7123\n",
      "Epoch 85/100\n",
      "1705/1705 [==============================] - 2s 1ms/step - loss: 1.0974 - accuracy: 0.7123\n",
      "Epoch 86/100\n",
      "1705/1705 [==============================] - 3s 2ms/step - loss: 1.0976 - accuracy: 0.7122\n",
      "Epoch 87/100\n",
      "1705/1705 [==============================] - 3s 2ms/step - loss: 1.0979 - accuracy: 0.7120\n",
      "Epoch 88/100\n",
      "1705/1705 [==============================] - 3s 2ms/step - loss: 1.0970 - accuracy: 0.7124\n",
      "Epoch 89/100\n",
      "1705/1705 [==============================] - 2s 1ms/step - loss: 1.0973 - accuracy: 0.7119\n",
      "Epoch 90/100\n",
      "1705/1705 [==============================] - 3s 1ms/step - loss: 1.0967 - accuracy: 0.7120\n",
      "Epoch 91/100\n",
      "1705/1705 [==============================] - 3s 2ms/step - loss: 1.0962 - accuracy: 0.7122\n",
      "Epoch 92/100\n",
      "1705/1705 [==============================] - 4s 2ms/step - loss: 1.0973 - accuracy: 0.7126\n",
      "Epoch 93/100\n",
      "1705/1705 [==============================] - 2s 1ms/step - loss: 1.0957 - accuracy: 0.7120\n",
      "Epoch 94/100\n",
      "1705/1705 [==============================] - 3s 1ms/step - loss: 1.0963 - accuracy: 0.7122\n",
      "Epoch 95/100\n",
      "1705/1705 [==============================] - 2s 1ms/step - loss: 1.0959 - accuracy: 0.7122\n",
      "Epoch 96/100\n",
      "1705/1705 [==============================] - 2s 1ms/step - loss: 1.0959 - accuracy: 0.7121\n",
      "Epoch 97/100\n",
      "1705/1705 [==============================] - 2s 1ms/step - loss: 1.0954 - accuracy: 0.7120\n",
      "Epoch 98/100\n",
      "1705/1705 [==============================] - 4s 2ms/step - loss: 1.0953 - accuracy: 0.7122\n",
      "Epoch 99/100\n",
      "1705/1705 [==============================] - 3s 2ms/step - loss: 1.0958 - accuracy: 0.7123\n",
      "Epoch 100/100\n",
      "1705/1705 [==============================] - 3s 2ms/step - loss: 1.0955 - accuracy: 0.7122\n"
     ]
    },
    {
     "data": {
      "text/plain": [
       "<keras.callbacks.History at 0x153315e53a0>"
      ]
     },
     "execution_count": 23,
     "metadata": {},
     "output_type": "execute_result"
    }
   ],
   "source": [
    "# model definition\n",
    "model = ml.Sequential()\n",
    "model.add(l.Dense( 128,input_dim=x_train.shape[1], activation='relu') )\n",
    "model.add(l.Dense(11, activation=\"softmax\") )\n",
    "\n",
    "# model compile\n",
    "model.compile( loss=\"categorical_crossentropy\", optimizer=\"adam\", metrics=[\"accuracy\"] )\n",
    "\n",
    "model.fit( x_train, y_train_nn, epochs=100)"
   ]
  },
  {
   "cell_type": "code",
   "execution_count": 24,
   "id": "0c3e9431-d36f-416b-9358-9e6813c13c0a",
   "metadata": {},
   "outputs": [],
   "source": [
    "# prediction\n",
    "pred_nn = model.predict( x_test )\n",
    "\n",
    "# invert prediction\n",
    "yhat_nn = ohe.inverse_transform( pred_nn)\n",
    "\n",
    "# prediction prepare\n",
    "y_test_nn = y_test.to_numpy()\n",
    "yhat_nn = yhat_nn.reshape(1, -1)[0]"
   ]
  },
  {
   "cell_type": "code",
   "execution_count": 25,
   "id": "ebc763a7-fced-445f-a77b-4a205a14cc77",
   "metadata": {},
   "outputs": [
    {
     "name": "stdout",
     "output_type": "stream",
     "text": [
      "Accuracy: 0.7035570223689036\n",
      "Balanced Accuracy: 0.09160336864110886\n",
      "Kappa Score: 0.003544901244711296\n"
     ]
    },
    {
     "name": "stderr",
     "output_type": "stream",
     "text": [
      "C:\\Users\\jonys.arcanjo\\Anaconda3\\lib\\site-packages\\sklearn\\metrics\\_classification.py:1308: UndefinedMetricWarning: Precision and F-score are ill-defined and being set to 0.0 in labels with no predicted samples. Use `zero_division` parameter to control this behavior.\n",
      "  _warn_prf(average, modifier, msg_start, len(result))\n",
      "C:\\Users\\jonys.arcanjo\\Anaconda3\\lib\\site-packages\\sklearn\\metrics\\_classification.py:1308: UndefinedMetricWarning: Precision and F-score are ill-defined and being set to 0.0 in labels with no predicted samples. Use `zero_division` parameter to control this behavior.\n",
      "  _warn_prf(average, modifier, msg_start, len(result))\n",
      "C:\\Users\\jonys.arcanjo\\Anaconda3\\lib\\site-packages\\sklearn\\metrics\\_classification.py:1308: UndefinedMetricWarning: Precision and F-score are ill-defined and being set to 0.0 in labels with no predicted samples. Use `zero_division` parameter to control this behavior.\n",
      "  _warn_prf(average, modifier, msg_start, len(result))\n"
     ]
    },
    {
     "name": "stdout",
     "output_type": "stream",
     "text": [
      "              precision    recall  f1-score   support\n",
      "\n",
      "          AU       0.00      0.00      0.00       101\n",
      "          CA       0.00      0.00      0.00       214\n",
      "          DE       0.00      0.00      0.00       170\n",
      "          ES       0.09      0.00      0.01       345\n",
      "          FR       0.13      0.00      0.01       710\n",
      "          GB       0.00      0.00      0.00       344\n",
      "          IT       0.00      0.00      0.00       423\n",
      "          NL       0.00      0.00      0.00       128\n",
      "          PT       0.00      0.00      0.00        36\n",
      "          US       0.71      1.00      0.83      9624\n",
      "       other       0.33      0.01      0.01      1540\n",
      "\n",
      "    accuracy                           0.70     13635\n",
      "   macro avg       0.11      0.09      0.08     13635\n",
      "weighted avg       0.55      0.70      0.59     13635\n",
      "\n"
     ]
    },
    {
     "data": {
      "text/plain": [
       "<AxesSubplot:title={'center':'Confusion Matrix'}, xlabel='Predicted label', ylabel='True label'>"
      ]
     },
     "execution_count": 25,
     "metadata": {},
     "output_type": "execute_result"
    },
    {
     "data": {
      "image/png": "[encoded data removed]",
      "text/plain": [
       "<Figure size 864x864 with 2 Axes>"
      ]
     },
     "metadata": {
      "needs_background": "light"
     },
     "output_type": "display_data"
    }
   ],
   "source": [
    "# Acurracy\n",
    "acc_nn = m.accuracy_score(y_test_nn, yhat_nn )\n",
    "print(\"Accuracy: {}\".format(acc_nn))\n",
    "\n",
    "# Balanced accuracy\n",
    "balanced_acc_nn = m.balanced_accuracy_score(y_test_nn, yhat_nn)\n",
    "print(\"Balanced Accuracy: {}\".format(balanced_acc_nn))\n",
    "\n",
    "#Kappa Metrics\n",
    "Kappa_nn = m.cohen_kappa_score(y_test_nn, yhat_nn)\n",
    "print(\"Kappa Score: {}\".format(Kappa_nn))\n",
    "\n",
    "#Classification report\n",
    "print(m.classification_report(y_test_nn, yhat_nn))\n",
    "\n",
    "\n",
    "# Confusion Matrix\n",
    "mt.plot_confusion_matrix( y_test_nn, yhat_nn, normalize=False, figsize=(12,12) )\n",
    "#"
   ]
  },
  {
   "cell_type": "code",
   "execution_count": null,
   "id": "69f794be-8269-4557-b05e-5733d71e578d",
   "metadata": {},
   "outputs": [],
   "source": []
  }
 ],
 "metadata": {
  "kernelspec": {
   "display_name": "Python 3 (ipykernel)",
   "language": "python",
   "name": "python3"
  },
  "language_info": {
   "codemirror_mode": {
    "name": "ipython",
    "version": 3
   },
   "file_extension": ".py",
   "mimetype": "text/x-python",
   "name": "python",
   "nbconvert_exporter": "python",
   "pygments_lexer": "ipython3",
   "version": "3.8.8"
  },
  "toc-autonumbering": false,
  "toc-showcode": false,
  "toc-showmarkdowntxt": false,
  "toc-showtags": false
 },
 "nbformat": 4,
 "nbformat_minor": 5
}

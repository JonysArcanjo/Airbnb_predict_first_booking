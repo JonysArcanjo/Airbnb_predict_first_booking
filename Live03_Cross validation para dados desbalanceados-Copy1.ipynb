{
 "cells": [
  {
   "cell_type": "markdown",
   "id": "2d6068e4-90d3-4066-bbc5-fa99ed8201cb",
   "metadata": {},
   "source": [
    "## 0.0 Entender o problema"
   ]
  },
  {
   "cell_type": "markdown",
   "id": "b945ca69-38dc-41db-ae26-83b2c69e1290",
   "metadata": {},
   "source": [
    "-- Objetivo do problema:\n",
    "    -- 1.0 Previsão do primeiro destino que um novo usuário irá escolher.\n",
    "    \n",
    "    --Porque?\n",
    "      --Qual tipo de modelo de negócio do Airbnb?\n",
    "        --Marketplace (Conectar pessoas que oferecem acomodação, com as pessoas que estão procurando acomodação).\n",
    "        \n",
    "        --Oferta (pessoas oferecendo acomodação)\n",
    "            --Tamanho do Portfólio.\n",
    "            -- diversidade/Densidade de Portfólio.\n",
    "            --Preço médio\n",
    "        \n",
    "        --Demanda (pessoa procurando acomodação)\n",
    "             --Número de Usuários \n",
    "             --LTV (LifeTime Value)\n",
    "             --CAC (Client Aquisition Cost)\n",
    "        \n",
    "        Gross Revenue = (Fee * Numero de clientes) - CAC\n",
    "        \n",
    "        --Demanda (pessoas procurando acomodação)\n",
    "        \n",
    "        \n",
    "--Proposta da solução:\n",
    "\n",
    "    --- Modelo de previsão do primeiro destino de um novo usuário.\n",
    "    \n",
    "    --- 1.0 Predições e salvar em uma tabela de bando de dados.\n",
    "    \n",
    "    ---2.0 Criar uma API\n",
    "        --- Input: usuario  e suas caracteristicas\n",
    "        --- Output: usuario e suas caracteristicas com a ** predição do destino**.\n",
    "\n",
    "        \n",
    "        "
   ]
  },
  {
   "cell_type": "markdown",
   "id": "a21ab163-5971-40c7-b880-bc72fafd5980",
   "metadata": {},
   "source": [
    "# 0.0 <font color ='red'>Ciclo01: End to End </font>"
   ]
  },
  {
   "cell_type": "markdown",
   "id": "c3d496e5-f96b-47d7-973e-e4d068dea7ec",
   "metadata": {
    "tags": []
   },
   "source": [
    "# 0.0 Imports"
   ]
  },
  {
   "cell_type": "code",
   "execution_count": 1,
   "id": "20c6b9f3-52b8-408e-b449-54472bc41a0b",
   "metadata": {},
   "outputs": [
    {
     "name": "stdout",
     "output_type": "stream",
     "text": [
      "Requirement already satisfied: scikit-plot in c:\\users\\jonys.arcanjo\\anaconda3\\lib\\site-packages (0.3.7)\n",
      "Requirement already satisfied: joblib>=0.10 in c:\\users\\jonys.arcanjo\\anaconda3\\lib\\site-packages (from scikit-plot) (1.1.0)\n",
      "Requirement already satisfied: matplotlib>=1.4.0 in c:\\users\\jonys.arcanjo\\anaconda3\\lib\\site-packages (from scikit-plot) (3.5.0)\n",
      "Requirement already satisfied: scipy>=0.9 in c:\\users\\jonys.arcanjo\\anaconda3\\lib\\site-packages (from scikit-plot) (1.7.1)\n",
      "Requirement already satisfied: scikit-learn>=0.18 in c:\\users\\jonys.arcanjo\\anaconda3\\lib\\site-packages (from scikit-plot) (1.0.1)\n",
      "Requirement already satisfied: fonttools>=4.22.0 in c:\\users\\jonys.arcanjo\\anaconda3\\lib\\site-packages (from matplotlib>=1.4.0->scikit-plot) (4.25.0)\n",
      "Requirement already satisfied: numpy>=1.17 in c:\\users\\jonys.arcanjo\\anaconda3\\lib\\site-packages (from matplotlib>=1.4.0->scikit-plot) (1.20.3)\n",
      "Requirement already satisfied: pillow>=6.2.0 in c:\\users\\jonys.arcanjo\\anaconda3\\lib\\site-packages (from matplotlib>=1.4.0->scikit-plot) (8.4.0)\n",
      "Requirement already satisfied: python-dateutil>=2.7 in c:\\users\\jonys.arcanjo\\anaconda3\\lib\\site-packages (from matplotlib>=1.4.0->scikit-plot) (2.8.2)\n",
      "Requirement already satisfied: kiwisolver>=1.0.1 in c:\\users\\jonys.arcanjo\\anaconda3\\lib\\site-packages (from matplotlib>=1.4.0->scikit-plot) (1.3.1)\n",
      "Requirement already satisfied: pyparsing>=2.2.1 in c:\\users\\jonys.arcanjo\\anaconda3\\lib\\site-packages (from matplotlib>=1.4.0->scikit-plot) (3.0.4)\n",
      "Requirement already satisfied: cycler>=0.10 in c:\\users\\jonys.arcanjo\\anaconda3\\lib\\site-packages (from matplotlib>=1.4.0->scikit-plot) (0.11.0)\n",
      "Requirement already satisfied: packaging>=20.0 in c:\\users\\jonys.arcanjo\\anaconda3\\lib\\site-packages (from matplotlib>=1.4.0->scikit-plot) (21.3)\n",
      "Requirement already satisfied: six>=1.5 in c:\\users\\jonys.arcanjo\\anaconda3\\lib\\site-packages (from python-dateutil>=2.7->matplotlib>=1.4.0->scikit-plot) (1.16.0)\n",
      "Requirement already satisfied: threadpoolctl>=2.0.0 in c:\\users\\jonys.arcanjo\\anaconda3\\lib\\site-packages (from scikit-learn>=0.18->scikit-plot) (2.2.0)\n"
     ]
    }
   ],
   "source": [
    "!pip install scikit-plot"
   ]
  },
  {
   "cell_type": "code",
   "execution_count": 2,
   "id": "73518930-3fc8-4d5b-a85d-ae0d168679ff",
   "metadata": {},
   "outputs": [],
   "source": [
    "import pandas as pd\n",
    "import numpy as np\n",
    "import seaborn as sns\n",
    "import random\n",
    "\n",
    "from sklearn import model_selection as ms\n",
    "from sklearn import preprocessing   as pp\n",
    "from sklearn import metrics         as m\n",
    "from scikitplot import metrics      as mt\n",
    "import sklearn.model_selection\n",
    "\n",
    "from keras import models as ml\n",
    "from keras import layers as l\n"
   ]
  },
  {
   "cell_type": "markdown",
   "id": "0239c94b-3223-45fb-8486-7ccb4224f3a3",
   "metadata": {
    "tags": []
   },
   "source": [
    "# 0.1 Helper functions"
   ]
  },
  {
   "cell_type": "markdown",
   "id": "ab881f1a-8645-4055-af54-f824e0b3b81a",
   "metadata": {
    "tags": []
   },
   "source": [
    "# 0.2 Loading Data"
   ]
  },
  {
   "cell_type": "code",
   "execution_count": 3,
   "id": "7e34805f-2927-4d64-9ab3-55ed628be787",
   "metadata": {},
   "outputs": [
    {
     "data": {
      "text/plain": [
       "(10567737, 6)"
      ]
     },
     "execution_count": 3,
     "metadata": {},
     "output_type": "execute_result"
    }
   ],
   "source": [
    "# datasets source: https://www.kaggle.com/c/airbnb-recruiting-new-user-bookings/data?select=sessions.csv.zip\n",
    "\n",
    "\n",
    "df_raw = pd.read_csv('dataset/training_users_2.csv', low_memory=True)\n",
    "df_raw.shape\n",
    "\n",
    "df_sessions = pd.read_csv('dataset/sessions.csv', low_memory=True)\n",
    "df_sessions.shape"
   ]
  },
  {
   "cell_type": "markdown",
   "id": "1b120d77-fb2f-41c5-9899-722b178d8155",
   "metadata": {
    "tags": []
   },
   "source": [
    "# 1.0 Data Description"
   ]
  },
  {
   "cell_type": "code",
   "execution_count": 4,
   "id": "2b77143f-34c7-4659-a981-ce8cb3e5d468",
   "metadata": {},
   "outputs": [],
   "source": [
    "df1 = df_raw.copy()"
   ]
  },
  {
   "cell_type": "markdown",
   "id": "15b9fc25-16f9-43c1-894c-acf43fa4d013",
   "metadata": {},
   "source": [
    "## 1.1 Data Dimensions"
   ]
  },
  {
   "cell_type": "code",
   "execution_count": 5,
   "id": "cebb34b7-ccb3-4d40-a990-807deb4153ef",
   "metadata": {},
   "outputs": [
    {
     "name": "stdout",
     "output_type": "stream",
     "text": [
      "Number of rows: 213451\n",
      "Number of columns: 16\n"
     ]
    }
   ],
   "source": [
    "print( 'Number of rows: {}'.format(df1.shape[0] ) )\n",
    "print( 'Number of columns: {}'.format(df1.shape[1] ) )"
   ]
  },
  {
   "cell_type": "code",
   "execution_count": 6,
   "id": "f180047c-44fa-4cc2-888e-cbe9ea5781a7",
   "metadata": {},
   "outputs": [
    {
     "name": "stdout",
     "output_type": "stream",
     "text": [
      "Number of rows: 10567737\n",
      "Number of columns: 6\n"
     ]
    }
   ],
   "source": [
    "print( 'Number of rows: {}'.format(df_sessions.shape[0] ) )\n",
    "print( 'Number of columns: {}'.format(df_sessions.shape[1] ) )"
   ]
  },
  {
   "cell_type": "markdown",
   "id": "552788d8-46cc-4595-8a6a-6626333fe265",
   "metadata": {
    "tags": []
   },
   "source": [
    "## 1.3 Data type"
   ]
  },
  {
   "cell_type": "code",
   "execution_count": 7,
   "id": "0efcd25a-8693-436b-b4b8-179d4c056a0f",
   "metadata": {},
   "outputs": [
    {
     "data": {
      "text/plain": [
       "id                          object\n",
       "date_account_created        object\n",
       "timestamp_first_active       int64\n",
       "date_first_booking          object\n",
       "gender                      object\n",
       "age                        float64\n",
       "signup_method               object\n",
       "signup_flow                  int64\n",
       "language                    object\n",
       "affiliate_channel           object\n",
       "affiliate_provider          object\n",
       "first_affiliate_tracked     object\n",
       "signup_app                  object\n",
       "first_device_type           object\n",
       "first_browser               object\n",
       "country_destination         object\n",
       "dtype: object"
      ]
     },
     "execution_count": 7,
     "metadata": {},
     "output_type": "execute_result"
    }
   ],
   "source": [
    "df1.dtypes"
   ]
  },
  {
   "cell_type": "code",
   "execution_count": 8,
   "id": "f91f7c91-69a9-4a4b-90e7-73a5a54801ce",
   "metadata": {},
   "outputs": [
    {
     "data": {
      "text/plain": [
       "user_id           object\n",
       "action            object\n",
       "action_type       object\n",
       "action_detail     object\n",
       "device_type       object\n",
       "secs_elapsed     float64\n",
       "dtype: object"
      ]
     },
     "execution_count": 8,
     "metadata": {},
     "output_type": "execute_result"
    }
   ],
   "source": [
    "df_sessions.dtypes"
   ]
  },
  {
   "cell_type": "markdown",
   "id": "7227339f-b668-4414-92d4-1f4bf2454007",
   "metadata": {
    "tags": []
   },
   "source": [
    "## 1.3 NA Check"
   ]
  },
  {
   "cell_type": "code",
   "execution_count": 9,
   "id": "0d3f9a79-ca6c-4251-a2b7-e0de60939724",
   "metadata": {},
   "outputs": [
    {
     "data": {
      "text/plain": [
       "id                         0.000000\n",
       "date_account_created       0.000000\n",
       "timestamp_first_active     0.000000\n",
       "date_first_booking         0.583473\n",
       "gender                     0.000000\n",
       "age                        0.412226\n",
       "signup_method              0.000000\n",
       "signup_flow                0.000000\n",
       "language                   0.000000\n",
       "affiliate_channel          0.000000\n",
       "affiliate_provider         0.000000\n",
       "first_affiliate_tracked    0.028414\n",
       "signup_app                 0.000000\n",
       "first_device_type          0.000000\n",
       "first_browser              0.000000\n",
       "country_destination        0.000000\n",
       "dtype: float64"
      ]
     },
     "execution_count": 9,
     "metadata": {},
     "output_type": "execute_result"
    }
   ],
   "source": [
    "df1.isna().sum() / len(df1)"
   ]
  },
  {
   "cell_type": "code",
   "execution_count": 10,
   "id": "de8ef2aa-faf0-4f29-998e-9fe599bbccce",
   "metadata": {
    "tags": []
   },
   "outputs": [
    {
     "data": {
      "text/plain": [
       "NDF      0.768428\n",
       "US       0.156529\n",
       "other    0.028617\n",
       "FR       0.014888\n",
       "IT       0.009081\n",
       "GB       0.006251\n",
       "ES       0.006171\n",
       "CA       0.003989\n",
       "DE       0.002387\n",
       "NL       0.001818\n",
       "AU       0.001171\n",
       "PT       0.000671\n",
       "Name: country_destination, dtype: float64"
      ]
     },
     "execution_count": 10,
     "metadata": {},
     "output_type": "execute_result"
    }
   ],
   "source": [
    "aux = df1[df1[\"age\"].isna()]\n",
    "aux ['country_destination'].value_counts(normalize=True)"
   ]
  },
  {
   "cell_type": "code",
   "execution_count": 11,
   "id": "930e2866-3f0d-42cc-8e12-c1375bc4d622",
   "metadata": {},
   "outputs": [
    {
     "data": {
      "text/plain": [
       "2014.0"
      ]
     },
     "execution_count": 11,
     "metadata": {},
     "output_type": "execute_result"
    }
   ],
   "source": [
    "df1[\"age\"].max()"
   ]
  },
  {
   "cell_type": "code",
   "execution_count": 12,
   "id": "1f098c23-001c-4986-9efe-cb1723a52462",
   "metadata": {},
   "outputs": [
    {
     "data": {
      "text/plain": [
       "<seaborn.axisgrid.FacetGrid at 0x16c3e866280>"
      ]
     },
     "execution_count": 12,
     "metadata": {},
     "output_type": "execute_result"
    },
    {
     "data": {
      "image/png": "[encoded data removed]",
      "text/plain": [
       "<Figure size 360x360 with 1 Axes>"
      ]
     },
     "metadata": {
      "needs_background": "light"
     },
     "output_type": "display_data"
    }
   ],
   "source": [
    "sns.displot(df1[\"age\"])"
   ]
  },
  {
   "cell_type": "code",
   "execution_count": 13,
   "id": "cd8f48c1-0f45-4a4f-aa7b-df924760add1",
   "metadata": {},
   "outputs": [
    {
     "data": {
      "text/plain": [
       "0            untracked\n",
       "5                  omg\n",
       "12                 NaN\n",
       "13              linked\n",
       "79       tracked-other\n",
       "257            product\n",
       "6270         marketing\n",
       "11184        local ops\n",
       "Name: first_affiliate_tracked, dtype: object"
      ]
     },
     "execution_count": 13,
     "metadata": {},
     "output_type": "execute_result"
    }
   ],
   "source": [
    "df1['first_affiliate_tracked'].drop_duplicates()"
   ]
  },
  {
   "cell_type": "code",
   "execution_count": 14,
   "id": "6d4ef62b-5b66-46a6-a1ac-066520b3dee6",
   "metadata": {},
   "outputs": [
    {
     "data": {
      "text/plain": [
       "user_id          0.003264\n",
       "action           0.007535\n",
       "action_type      0.106570\n",
       "action_detail    0.106570\n",
       "device_type      0.000000\n",
       "secs_elapsed     0.012872\n",
       "dtype: float64"
      ]
     },
     "execution_count": 14,
     "metadata": {},
     "output_type": "execute_result"
    }
   ],
   "source": [
    "df_sessions.isna().sum() / len(df_sessions)"
   ]
  },
  {
   "cell_type": "code",
   "execution_count": 15,
   "id": "2480942d-48bf-4c36-ad9e-c1c064564529",
   "metadata": {
    "tags": []
   },
   "outputs": [],
   "source": [
    "#remove missing value complety\n",
    "#df1 = df1.dropna()\n",
    "\n",
    "#========================USER===========================================\n",
    "\n",
    "# date_first_booking \n",
    "date_first_booking_max = pd.to_datetime( df1['date_first_booking']).max().strftime('%Y-%m-%d')\n",
    "df1['date_first_booking'] = df1['date_first_booking'].fillna(date_first_booking_max)\n",
    "\n",
    "# age\n",
    "avg_age = round(df1[\"age\"].mean(),2)\n",
    "df1['age'] = df1[\"age\"].fillna(avg_age)\n",
    "\n",
    "# first_affiliate_tracked\n",
    "df1 = df1[~df1['first_affiliate_tracked'].isna()]\n",
    "\n",
    "df1['first_affiliate_tracked'].value_counts()\n",
    "\n",
    "#========================Sessions=========================================\n",
    "#user_id  - 3%\n",
    "df_sessions= df_sessions[~df_sessions['user_id'].isna()]\n",
    "\n",
    "#action - 7%\n",
    "df_sessions= df_sessions[~df_sessions['action'].isna()]\n",
    "\n",
    "#action_type - 10$\n",
    "df_sessions= df_sessions[~df_sessions['action_type'].isna()]\n",
    "\n",
    "#action_detail- 10%\n",
    "df_sessions= df_sessions[~df_sessions['action_detail'].isna()]\n",
    "\n",
    "#device_type - 0%\n",
    "df_sessions= df_sessions[~df_sessions['device_type'].isna()]\n",
    "\n",
    "#secs_elapsed - 0%\n",
    "df_sessions= df_sessions[~df_sessions['secs_elapsed'].isna()]"
   ]
  },
  {
   "cell_type": "code",
   "execution_count": 16,
   "id": "b5d97f04-868f-43d9-b2bc-57c46452214c",
   "metadata": {},
   "outputs": [
    {
     "data": {
      "text/plain": [
       "user_id          0.0\n",
       "action           0.0\n",
       "action_type      0.0\n",
       "action_detail    0.0\n",
       "device_type      0.0\n",
       "secs_elapsed     0.0\n",
       "dtype: float64"
      ]
     },
     "execution_count": 16,
     "metadata": {},
     "output_type": "execute_result"
    }
   ],
   "source": [
    "df_sessions.isna().sum() / len(df_sessions)"
   ]
  },
  {
   "cell_type": "code",
   "execution_count": 17,
   "id": "b9c9043d-26b8-4ac1-b2ba-55a4f5e9e62a",
   "metadata": {},
   "outputs": [
    {
     "data": {
      "text/plain": [
       "id                         0.0\n",
       "date_account_created       0.0\n",
       "timestamp_first_active     0.0\n",
       "date_first_booking         0.0\n",
       "gender                     0.0\n",
       "age                        0.0\n",
       "signup_method              0.0\n",
       "signup_flow                0.0\n",
       "language                   0.0\n",
       "affiliate_channel          0.0\n",
       "affiliate_provider         0.0\n",
       "first_affiliate_tracked    0.0\n",
       "signup_app                 0.0\n",
       "first_device_type          0.0\n",
       "first_browser              0.0\n",
       "country_destination        0.0\n",
       "dtype: float64"
      ]
     },
     "execution_count": 17,
     "metadata": {},
     "output_type": "execute_result"
    }
   ],
   "source": [
    "df1.isna().sum() / len(df1)"
   ]
  },
  {
   "cell_type": "markdown",
   "id": "bf83107e-b046-49ee-9ee8-cce0c80e8f29",
   "metadata": {
    "tags": []
   },
   "source": [
    "## 1.4 Change Data Type"
   ]
  },
  {
   "cell_type": "code",
   "execution_count": 18,
   "id": "7a919e62-5603-4e05-8a69-a2503d23a8e5",
   "metadata": {},
   "outputs": [],
   "source": [
    "# date_account_created    \n",
    "df1[\"date_account_created\"] = pd.to_datetime( df1[\"date_account_created\"] )\n",
    "\n",
    "# timestamp_first_active   \n",
    "df1[\"timestamp_first_active\"] = pd.to_datetime( df1[\"timestamp_first_active\"], format='%Y%m%d%H%M%S' )\n",
    "\n",
    "# date_first_booking       \n",
    "df1[\"date_first_booking\"] = pd.to_datetime( df1[\"date_first_booking\"] )\n",
    "\n",
    "# age       \n",
    "df1[\"age\"] = df1[\"age\"].astype( int )"
   ]
  },
  {
   "cell_type": "code",
   "execution_count": 19,
   "id": "c0846dea-bd7a-4ebf-8e9a-a6e9a7ac6d06",
   "metadata": {},
   "outputs": [
    {
     "data": {
      "text/plain": [
       "id                                 object\n",
       "date_account_created       datetime64[ns]\n",
       "timestamp_first_active     datetime64[ns]\n",
       "date_first_booking         datetime64[ns]\n",
       "gender                             object\n",
       "age                                 int32\n",
       "signup_method                      object\n",
       "signup_flow                         int64\n",
       "language                           object\n",
       "affiliate_channel                  object\n",
       "affiliate_provider                 object\n",
       "first_affiliate_tracked            object\n",
       "signup_app                         object\n",
       "first_device_type                  object\n",
       "first_browser                      object\n",
       "country_destination                object\n",
       "dtype: object"
      ]
     },
     "execution_count": 19,
     "metadata": {},
     "output_type": "execute_result"
    }
   ],
   "source": [
    "df1.dtypes"
   ]
  },
  {
   "cell_type": "markdown",
   "id": "2a2dd5de-d7e9-4c3a-a268-5d68200a15ce",
   "metadata": {
    "tags": []
   },
   "source": [
    "## 1.5 Check Balanced Data"
   ]
  },
  {
   "cell_type": "code",
   "execution_count": 20,
   "id": "ea891b5f-0082-4f84-a859-f67423c361f6",
   "metadata": {},
   "outputs": [
    {
     "data": {
      "text/plain": [
       "NDF      0.579673\n",
       "US       0.294461\n",
       "other    0.048128\n",
       "FR       0.023623\n",
       "IT       0.013458\n",
       "GB       0.011066\n",
       "ES       0.010671\n",
       "CA       0.006707\n",
       "DE       0.005020\n",
       "NL       0.003621\n",
       "AU       0.002541\n",
       "PT       0.001032\n",
       "Name: country_destination, dtype: float64"
      ]
     },
     "execution_count": 20,
     "metadata": {},
     "output_type": "execute_result"
    }
   ],
   "source": [
    "df1[\"country_destination\"].value_counts(normalize=True)"
   ]
  },
  {
   "cell_type": "markdown",
   "id": "367aec7e-b01c-4789-a674-a014432f757d",
   "metadata": {
    "tags": []
   },
   "source": [
    "# 2.0 Data filtering"
   ]
  },
  {
   "cell_type": "code",
   "execution_count": 21,
   "id": "6a727bd9-6e2e-4ce2-8958-b496fb4fb1d4",
   "metadata": {},
   "outputs": [],
   "source": [
    "df2 = df1.copy()"
   ]
  },
  {
   "cell_type": "markdown",
   "id": "53ec8fdf-43e3-4cf5-850e-5af3d5555747",
   "metadata": {},
   "source": [
    "# 2.1 Filtering Rows"
   ]
  },
  {
   "cell_type": "markdown",
   "id": "1b5b3c49-75f5-42b8-b832-bd5cd2e72847",
   "metadata": {},
   "source": [
    "# 2.1 Columns Selection"
   ]
  },
  {
   "cell_type": "markdown",
   "id": "4888df5b-41b5-42a0-95c8-0f7f1c9822b0",
   "metadata": {
    "jp-MarkdownHeadingCollapsed": true,
    "tags": []
   },
   "source": [
    "# 3.0 Data Preparation"
   ]
  },
  {
   "cell_type": "code",
   "execution_count": 22,
   "id": "7643d985-374c-4515-a10b-5c294327ecf2",
   "metadata": {
    "tags": []
   },
   "outputs": [],
   "source": [
    "df3 = df2.copy()"
   ]
  },
  {
   "cell_type": "code",
   "execution_count": 23,
   "id": "bae0e2b3-4845-47de-80ae-95a3d6cf02f1",
   "metadata": {},
   "outputs": [],
   "source": [
    "#dummies variables.\n",
    "df3_dummy = pd.get_dummies(df3.drop( ['id','country_destination'], axis=1) )\n",
    "\n",
    "# join id and country destination\n",
    "df3 = pd.concat( [df3[[\"id\",\"country_destination\"]],df3_dummy], axis=1 )  \n",
    "                     "
   ]
  },
  {
   "cell_type": "code",
   "execution_count": null,
   "id": "0ce916f5-75c0-4917-a3dd-4afc1afada16",
   "metadata": {},
   "outputs": [],
   "source": []
  },
  {
   "cell_type": "markdown",
   "id": "1332eede-f05b-4b6a-aeab-a6f0e25df670",
   "metadata": {
    "jp-MarkdownHeadingCollapsed": true,
    "tags": []
   },
   "source": [
    "# 4.0 Feature Selecion"
   ]
  },
  {
   "cell_type": "code",
   "execution_count": 24,
   "id": "355aefdd-8a6a-469f-afbb-c31781ed368c",
   "metadata": {},
   "outputs": [],
   "source": [
    "cols_drop = [\"date_account_created\", \"timestamp_first_active\",\"date_first_booking\" ] # original dates\n",
    "df4 = df3.drop(cols_drop, axis=1)"
   ]
  },
  {
   "cell_type": "code",
   "execution_count": 25,
   "id": "82ee3800-4ff4-43c2-870d-e69c2f10ad96",
   "metadata": {},
   "outputs": [
    {
     "data": {
      "text/html": [
       "<div>\n",
       "<style scoped>\n",
       "    .dataframe tbody tr th:only-of-type {\n",
       "        vertical-align: middle;\n",
       "    }\n",
       "\n",
       "    .dataframe tbody tr th {\n",
       "        vertical-align: top;\n",
       "    }\n",
       "\n",
       "    .dataframe thead th {\n",
       "        text-align: right;\n",
       "    }\n",
       "</style>\n",
       "<table border=\"1\" class=\"dataframe\">\n",
       "  <thead>\n",
       "    <tr style=\"text-align: right;\">\n",
       "      <th></th>\n",
       "      <th>115137</th>\n",
       "    </tr>\n",
       "  </thead>\n",
       "  <tbody>\n",
       "    <tr>\n",
       "      <th>id</th>\n",
       "      <td>ebn3rf5h3r</td>\n",
       "    </tr>\n",
       "    <tr>\n",
       "      <th>country_destination</th>\n",
       "      <td>NDF</td>\n",
       "    </tr>\n",
       "    <tr>\n",
       "      <th>age</th>\n",
       "      <td>49</td>\n",
       "    </tr>\n",
       "    <tr>\n",
       "      <th>signup_flow</th>\n",
       "      <td>25</td>\n",
       "    </tr>\n",
       "    <tr>\n",
       "      <th>gender_-unknown-</th>\n",
       "      <td>1</td>\n",
       "    </tr>\n",
       "    <tr>\n",
       "      <th>...</th>\n",
       "      <td>...</td>\n",
       "    </tr>\n",
       "    <tr>\n",
       "      <th>first_browser_Stainless</th>\n",
       "      <td>0</td>\n",
       "    </tr>\n",
       "    <tr>\n",
       "      <th>first_browser_TenFourFox</th>\n",
       "      <td>0</td>\n",
       "    </tr>\n",
       "    <tr>\n",
       "      <th>first_browser_TheWorld Browser</th>\n",
       "      <td>0</td>\n",
       "    </tr>\n",
       "    <tr>\n",
       "      <th>first_browser_Yandex.Browser</th>\n",
       "      <td>0</td>\n",
       "    </tr>\n",
       "    <tr>\n",
       "      <th>first_browser_wOSBrowser</th>\n",
       "      <td>0</td>\n",
       "    </tr>\n",
       "  </tbody>\n",
       "</table>\n",
       "<p>134 rows × 1 columns</p>\n",
       "</div>"
      ],
      "text/plain": [
       "                                    115137\n",
       "id                              ebn3rf5h3r\n",
       "country_destination                    NDF\n",
       "age                                     49\n",
       "signup_flow                             25\n",
       "gender_-unknown-                         1\n",
       "...                                    ...\n",
       "first_browser_Stainless                  0\n",
       "first_browser_TenFourFox                 0\n",
       "first_browser_TheWorld Browser           0\n",
       "first_browser_Yandex.Browser             0\n",
       "first_browser_wOSBrowser                 0\n",
       "\n",
       "[134 rows x 1 columns]"
      ]
     },
     "execution_count": 25,
     "metadata": {},
     "output_type": "execute_result"
    }
   ],
   "source": [
    "df4.sample().T"
   ]
  },
  {
   "cell_type": "code",
   "execution_count": 26,
   "id": "4098f665-878e-405d-ab4c-b821ed98ee40",
   "metadata": {},
   "outputs": [],
   "source": [
    "X = df4.drop('country_destination', axis=1)\n",
    "y = df4['country_destination'].copy()"
   ]
  },
  {
   "cell_type": "code",
   "execution_count": 27,
   "id": "c73ee817-b85d-45b8-91c9-f7c781cd0dce",
   "metadata": {},
   "outputs": [],
   "source": [
    "# Split dataset into training and test\n",
    "X_train, X_test, y_train, y_test = ms.train_test_split( X, y, test_size=0.2, random_state=32 )"
   ]
  },
  {
   "cell_type": "markdown",
   "id": "4bb75aba-f122-4585-b276-32cb20b10083",
   "metadata": {
    "tags": []
   },
   "source": [
    "# 5.0 Machine Learning - Neural Network - MLP"
   ]
  },
  {
   "cell_type": "code",
   "execution_count": 28,
   "id": "6a447754-ead1-40d5-b0b0-4872c10dba32",
   "metadata": {
    "tags": []
   },
   "outputs": [
    {
     "data": {
      "text/plain": [
       "132"
      ]
     },
     "execution_count": 28,
     "metadata": {},
     "output_type": "execute_result"
    }
   ],
   "source": [
    "x_train = X_train.drop(\"id\", axis=1)\n",
    "x_test = X_test.drop(\"id\", axis=1)\n",
    "x_train.shape[1]"
   ]
  },
  {
   "cell_type": "markdown",
   "id": "1e8b53df-3005-471b-83f7-8a1fad65c7db",
   "metadata": {
    "tags": []
   },
   "source": [
    "## 5.1. Baseline Model "
   ]
  },
  {
   "cell_type": "code",
   "execution_count": 29,
   "id": "10b61dab-86f3-4161-a407-5c6b719f2038",
   "metadata": {
    "tags": []
   },
   "outputs": [
    {
     "data": {
      "text/plain": [
       "41478"
      ]
     },
     "execution_count": 29,
     "metadata": {},
     "output_type": "execute_result"
    }
   ],
   "source": [
    "country_destination_list = df1['country_destination'].drop_duplicates().sort_values().tolist()\n",
    "k_num = y_test.shape[0]\n",
    "# adding the weights according to column distribution \"country_destination\"\n",
    "country_destination_weights= df1['country_destination'].value_counts(normalize=True).sort_index().tolist()\n",
    "# random model\n",
    "\n",
    "yhat_random = random.choices(population=country_destination_list,\n",
    "                             weights=country_destination_weights,              \n",
    "                             k=k_num)\n",
    "len(yhat_random)"
   ]
  },
  {
   "cell_type": "markdown",
   "id": "691b70a3-e6bc-465a-9bf8-a56616228998",
   "metadata": {},
   "source": [
    "## 5.1.1 Baseline Model Performance"
   ]
  },
  {
   "cell_type": "code",
   "execution_count": 30,
   "id": "59a0884a-6173-4736-9bdd-c247ea2f94ad",
   "metadata": {},
   "outputs": [
    {
     "name": "stdout",
     "output_type": "stream",
     "text": [
      "Accuracy: 0.4258643136120353\n",
      "Balanced Accuracy: 0.08320023806723771\n",
      "Kappa Score: 0.08320023806723771\n",
      "              precision    recall  f1-score   support\n",
      "\n",
      "          AU       0.00      0.00      0.00       111\n",
      "          CA       0.02      0.02      0.02       281\n",
      "          DE       0.01      0.00      0.00       215\n",
      "          ES       0.01      0.01      0.01       428\n",
      "          FR       0.03      0.03      0.03      1021\n",
      "          GB       0.01      0.01      0.01       426\n",
      "          IT       0.01      0.01      0.01       570\n",
      "         NDF       0.58      0.58      0.58     23996\n",
      "          NL       0.00      0.00      0.00       146\n",
      "          PT       0.00      0.00      0.00        48\n",
      "          US       0.30      0.29      0.29     12280\n",
      "       other       0.05      0.05      0.05      1956\n",
      "\n",
      "    accuracy                           0.43     41478\n",
      "   macro avg       0.08      0.08      0.08     41478\n",
      "weighted avg       0.43      0.43      0.43     41478\n",
      "\n"
     ]
    },
    {
     "data": {
      "text/plain": [
       "<AxesSubplot:title={'center':'Confusion Matrix'}, xlabel='Predicted label', ylabel='True label'>"
      ]
     },
     "execution_count": 30,
     "metadata": {},
     "output_type": "execute_result"
    },
    {
     "data": {
      "image/png": "[encoded data removed]",
      "text/plain": [
       "<Figure size 864x864 with 2 Axes>"
      ]
     },
     "metadata": {
      "needs_background": "light"
     },
     "output_type": "display_data"
    }
   ],
   "source": [
    "# Acurracy\n",
    "acc_random = m.accuracy_score(y_test, yhat_random )\n",
    "print(\"Accuracy: {}\".format(acc_random))\n",
    "\n",
    "# Balanced accuracy\n",
    "balanced_acc_random = m.balanced_accuracy_score(y_test, yhat_random)\n",
    "print(\"Balanced Accuracy: {}\".format(balanced_acc_random))\n",
    "\n",
    "#Kappa Metrics\n",
    "Kappa_random = m.cohen_kappa_score(y_test, yhat_random)\n",
    "print(\"Kappa Score: {}\".format(balanced_acc_random))\n",
    "\n",
    "#Classification report\n",
    "print(m.classification_report(y_test, yhat_random))\n",
    "\n",
    "\n",
    "# Confusion Matrix\n",
    "mt.plot_confusion_matrix( y_test, yhat_random, normalize=False, figsize=(12,12) )"
   ]
  },
  {
   "cell_type": "markdown",
   "id": "d24b7270-c8f3-4d0b-959f-1fbe53f6e8ad",
   "metadata": {
    "tags": []
   },
   "source": [
    "# 5.0 Neural Network - MLP"
   ]
  },
  {
   "cell_type": "code",
   "execution_count": 31,
   "id": "8caccf70-d87e-45a6-bff9-5a453c5c8b80",
   "metadata": {},
   "outputs": [],
   "source": [
    "# One Hot Encoder\n",
    "ohe = pp.OneHotEncoder()\n",
    "y_train_nn = ohe.fit_transform( y_train.values.reshape(-1, 1) ).toarray()"
   ]
  },
  {
   "cell_type": "code",
   "execution_count": 32,
   "id": "601aa59a-4f57-4021-9b0f-795a201981a1",
   "metadata": {},
   "outputs": [
    {
     "data": {
      "text/plain": [
       "array([[0., 0., 0., ..., 0., 1., 0.],\n",
       "       [0., 0., 0., ..., 0., 0., 0.],\n",
       "       [0., 0., 0., ..., 0., 0., 0.],\n",
       "       ...,\n",
       "       [0., 0., 0., ..., 0., 0., 0.],\n",
       "       [0., 0., 0., ..., 0., 0., 0.],\n",
       "       [0., 0., 0., ..., 0., 1., 0.]])"
      ]
     },
     "execution_count": 32,
     "metadata": {},
     "output_type": "execute_result"
    }
   ],
   "source": [
    "y_train_nn"
   ]
  },
  {
   "cell_type": "code",
   "execution_count": 35,
   "id": "eabb1c2f-aeae-4f44-8681-6f3de0de90e7",
   "metadata": {},
   "outputs": [
    {
     "name": "stdout",
     "output_type": "stream",
     "text": [
      "Epoch 1/100\n",
      "5185/5185 [==============================] - 9s 2ms/step - loss: 1.2372 - accuracy: 0.5850\n",
      "Epoch 2/100\n",
      "5185/5185 [==============================] - 10s 2ms/step - loss: 1.1617 - accuracy: 0.6054\n",
      "Epoch 3/100\n",
      "5185/5185 [==============================] - 9s 2ms/step - loss: 1.1181 - accuracy: 0.6167\n",
      "Epoch 4/100\n",
      "5185/5185 [==============================] - 9s 2ms/step - loss: 1.0946 - accuracy: 0.6200\n",
      "Epoch 5/100\n",
      "5185/5185 [==============================] - 10s 2ms/step - loss: 1.0877 - accuracy: 0.6212\n",
      "Epoch 6/100\n",
      "5185/5185 [==============================] - 9s 2ms/step - loss: 1.0868 - accuracy: 0.6217\n",
      "Epoch 7/100\n",
      "5185/5185 [==============================] - 9s 2ms/step - loss: 1.0848 - accuracy: 0.6225\n",
      "Epoch 8/100\n",
      "5185/5185 [==============================] - 9s 2ms/step - loss: 1.0830 - accuracy: 0.6233\n",
      "Epoch 9/100\n",
      "5185/5185 [==============================] - 10s 2ms/step - loss: 1.0827 - accuracy: 0.6233\n",
      "Epoch 10/100\n",
      "5185/5185 [==============================] - 9s 2ms/step - loss: 1.0819 - accuracy: 0.6232\n",
      "Epoch 11/100\n",
      "5185/5185 [==============================] - 10s 2ms/step - loss: 1.0810 - accuracy: 0.6236\n",
      "Epoch 12/100\n",
      "5185/5185 [==============================] - 10s 2ms/step - loss: 1.0805 - accuracy: 0.6239\n",
      "Epoch 13/100\n",
      "5185/5185 [==============================] - 10s 2ms/step - loss: 1.0807 - accuracy: 0.6236\n",
      "Epoch 14/100\n",
      "5185/5185 [==============================] - 9s 2ms/step - loss: 1.0798 - accuracy: 0.6244\n",
      "Epoch 15/100\n",
      "5185/5185 [==============================] - 10s 2ms/step - loss: 1.0787 - accuracy: 0.6243\n",
      "Epoch 16/100\n",
      "5185/5185 [==============================] - 10s 2ms/step - loss: 1.0791 - accuracy: 0.6234\n",
      "Epoch 17/100\n",
      "5185/5185 [==============================] - 10s 2ms/step - loss: 1.0781 - accuracy: 0.6240\n",
      "Epoch 18/100\n",
      "5185/5185 [==============================] - 9s 2ms/step - loss: 1.0779 - accuracy: 0.6244\n",
      "Epoch 19/100\n",
      "5185/5185 [==============================] - 10s 2ms/step - loss: 1.0773 - accuracy: 0.6245\n",
      "Epoch 20/100\n",
      "5185/5185 [==============================] - 10s 2ms/step - loss: 1.0767 - accuracy: 0.6248\n",
      "Epoch 21/100\n",
      "5185/5185 [==============================] - 10s 2ms/step - loss: 1.0764 - accuracy: 0.6240\n",
      "Epoch 22/100\n",
      "5185/5185 [==============================] - 10s 2ms/step - loss: 1.0764 - accuracy: 0.6244\n",
      "Epoch 23/100\n",
      "5185/5185 [==============================] - 10s 2ms/step - loss: 1.0756 - accuracy: 0.6250\n",
      "Epoch 24/100\n",
      "5185/5185 [==============================] - 9s 2ms/step - loss: 1.0753 - accuracy: 0.6249\n",
      "Epoch 25/100\n",
      "5185/5185 [==============================] - 10s 2ms/step - loss: 1.0748 - accuracy: 0.6254\n",
      "Epoch 26/100\n",
      "5185/5185 [==============================] - 10s 2ms/step - loss: 1.0748 - accuracy: 0.6250\n",
      "Epoch 27/100\n",
      "5185/5185 [==============================] - 12s 2ms/step - loss: 1.0743 - accuracy: 0.6253\n",
      "Epoch 28/100\n",
      "5185/5185 [==============================] - 14s 3ms/step - loss: 1.0743 - accuracy: 0.6242\n",
      "Epoch 29/100\n",
      "5185/5185 [==============================] - 10s 2ms/step - loss: 1.0739 - accuracy: 0.6250\n",
      "Epoch 30/100\n",
      "5185/5185 [==============================] - 10s 2ms/step - loss: 1.0740 - accuracy: 0.6250\n",
      "Epoch 31/100\n",
      "5185/5185 [==============================] - 10s 2ms/step - loss: 1.0733 - accuracy: 0.6253\n",
      "Epoch 32/100\n",
      "5185/5185 [==============================] - 8s 2ms/step - loss: 1.0736 - accuracy: 0.6249\n",
      "Epoch 33/100\n",
      "5185/5185 [==============================] - 7s 1ms/step - loss: 1.0725 - accuracy: 0.6257\n",
      "Epoch 34/100\n",
      "5185/5185 [==============================] - 6s 1ms/step - loss: 1.0731 - accuracy: 0.6254\n",
      "Epoch 35/100\n",
      "5185/5185 [==============================] - 7s 1ms/step - loss: 1.0724 - accuracy: 0.6258\n",
      "Epoch 36/100\n",
      "5185/5185 [==============================] - 8s 1ms/step - loss: 1.0721 - accuracy: 0.6261\n",
      "Epoch 37/100\n",
      "5185/5185 [==============================] - 8s 1ms/step - loss: 1.0720 - accuracy: 0.6254\n",
      "Epoch 38/100\n",
      "5185/5185 [==============================] - 6s 1ms/step - loss: 1.0720 - accuracy: 0.6260\n",
      "Epoch 39/100\n",
      "5185/5185 [==============================] - 8s 1ms/step - loss: 1.0718 - accuracy: 0.6260\n",
      "Epoch 40/100\n",
      "5185/5185 [==============================] - 7s 1ms/step - loss: 1.0714 - accuracy: 0.6257\n",
      "Epoch 41/100\n",
      "5185/5185 [==============================] - 9s 2ms/step - loss: 1.0713 - accuracy: 0.6263\n",
      "Epoch 42/100\n",
      "5185/5185 [==============================] - 7s 1ms/step - loss: 1.0712 - accuracy: 0.6262\n",
      "Epoch 43/100\n",
      "5185/5185 [==============================] - 6s 1ms/step - loss: 1.0711 - accuracy: 0.6266\n",
      "Epoch 44/100\n",
      "5185/5185 [==============================] - 7s 1ms/step - loss: 1.0708 - accuracy: 0.6266\n",
      "Epoch 45/100\n",
      "5185/5185 [==============================] - 6s 1ms/step - loss: 1.0707 - accuracy: 0.6264\n",
      "Epoch 46/100\n",
      "5185/5185 [==============================] - 7s 1ms/step - loss: 1.0700 - accuracy: 0.6262\n",
      "Epoch 47/100\n",
      "5185/5185 [==============================] - 7s 1ms/step - loss: 1.0701 - accuracy: 0.6264\n",
      "Epoch 48/100\n",
      "5185/5185 [==============================] - 6s 1ms/step - loss: 1.0704 - accuracy: 0.6264\n",
      "Epoch 49/100\n",
      "5185/5185 [==============================] - 7s 1ms/step - loss: 1.0701 - accuracy: 0.6262: 1s - l -\n",
      "Epoch 50/100\n",
      "5185/5185 [==============================] - 6s 1ms/step - loss: 1.0698 - accuracy: 0.6272\n",
      "Epoch 51/100\n",
      "5185/5185 [==============================] - 7s 1ms/step - loss: 1.0703 - accuracy: 0.6267\n",
      "Epoch 52/100\n",
      "5185/5185 [==============================] - 7s 1ms/step - loss: 1.0698 - accuracy: 0.6269\n",
      "Epoch 53/100\n",
      "5185/5185 [==============================] - 8s 1ms/step - loss: 1.0698 - accuracy: 0.6266\n",
      "Epoch 54/100\n",
      "5185/5185 [==============================] - 6s 1ms/step - loss: 1.0695 - accuracy: 0.6265\n",
      "Epoch 55/100\n",
      "5185/5185 [==============================] - 6s 1ms/step - loss: 1.0695 - accuracy: 0.6269\n",
      "Epoch 56/100\n",
      "5185/5185 [==============================] - 7s 1ms/step - loss: 1.0696 - accuracy: 0.6271\n",
      "Epoch 57/100\n",
      "5185/5185 [==============================] - 7s 1ms/step - loss: 1.0697 - accuracy: 0.6270\n",
      "Epoch 58/100\n",
      "5185/5185 [==============================] - 7s 1ms/step - loss: 1.0697 - accuracy: 0.6267\n",
      "Epoch 59/100\n",
      "5185/5185 [==============================] - 6s 1ms/step - loss: 1.0691 - accuracy: 0.6272\n",
      "Epoch 60/100\n",
      "5185/5185 [==============================] - 7s 1ms/step - loss: 1.0693 - accuracy: 0.6264\n",
      "Epoch 61/100\n",
      "5185/5185 [==============================] - 7s 1ms/step - loss: 1.0691 - accuracy: 0.6266\n",
      "Epoch 62/100\n",
      "5185/5185 [==============================] - 6s 1ms/step - loss: 1.0686 - accuracy: 0.6270\n",
      "Epoch 63/100\n",
      "5185/5185 [==============================] - 8s 2ms/step - loss: 1.0692 - accuracy: 0.6266\n",
      "Epoch 64/100\n",
      "5185/5185 [==============================] - 7s 1ms/step - loss: 1.0686 - accuracy: 0.6275\n",
      "Epoch 65/100\n",
      "5185/5185 [==============================] - 7s 1ms/step - loss: 1.0687 - accuracy: 0.6268\n",
      "Epoch 66/100\n",
      "5185/5185 [==============================] - 7s 1ms/step - loss: 1.0684 - accuracy: 0.6268\n",
      "Epoch 67/100\n",
      "5185/5185 [==============================] - 7s 1ms/step - loss: 1.0688 - accuracy: 0.6266\n",
      "Epoch 68/100\n",
      "5185/5185 [==============================] - 9s 2ms/step - loss: 1.0684 - accuracy: 0.6267\n",
      "Epoch 69/100\n",
      "5185/5185 [==============================] - 8s 2ms/step - loss: 1.0679 - accuracy: 0.6271\n",
      "Epoch 70/100\n",
      "5185/5185 [==============================] - 7s 1ms/step - loss: 1.0684 - accuracy: 0.6275\n",
      "Epoch 71/100\n",
      "5185/5185 [==============================] - 7s 1ms/step - loss: 1.0681 - accuracy: 0.6273\n",
      "Epoch 72/100\n",
      "5185/5185 [==============================] - 7s 1ms/step - loss: 1.0682 - accuracy: 0.6277\n",
      "Epoch 73/100\n",
      "5185/5185 [==============================] - 7s 1ms/step - loss: 1.0685 - accuracy: 0.6272\n",
      "Epoch 74/100\n",
      "5185/5185 [==============================] - 7s 1ms/step - loss: 1.0680 - accuracy: 0.6275\n",
      "Epoch 75/100\n",
      "5185/5185 [==============================] - 6s 1ms/step - loss: 1.0681 - accuracy: 0.6273\n",
      "Epoch 76/100\n",
      "5185/5185 [==============================] - 8s 1ms/step - loss: 1.0677 - accuracy: 0.6274\n",
      "Epoch 77/100\n",
      "5185/5185 [==============================] - 7s 1ms/step - loss: 1.0675 - accuracy: 0.6273\n",
      "Epoch 78/100\n",
      "5185/5185 [==============================] - 7s 1ms/step - loss: 1.0675 - accuracy: 0.6273\n",
      "Epoch 79/100\n",
      "5185/5185 [==============================] - 6s 1ms/step - loss: 1.0678 - accuracy: 0.6274\n",
      "Epoch 80/100\n",
      "5185/5185 [==============================] - 6s 1ms/step - loss: 1.0674 - accuracy: 0.6273\n",
      "Epoch 81/100\n",
      "5185/5185 [==============================] - 8s 2ms/step - loss: 1.0680 - accuracy: 0.6271\n",
      "Epoch 82/100\n",
      "5185/5185 [==============================] - 7s 1ms/step - loss: 1.0675 - accuracy: 0.6278\n",
      "Epoch 83/100\n",
      "5185/5185 [==============================] - 7s 1ms/step - loss: 1.0674 - accuracy: 0.6278\n",
      "Epoch 84/100\n",
      "5185/5185 [==============================] - 6s 1ms/step - loss: 1.0673 - accuracy: 0.6276\n",
      "Epoch 85/100\n",
      "5185/5185 [==============================] - 7s 1ms/step - loss: 1.0675 - accuracy: 0.6278\n",
      "Epoch 86/100\n",
      "5185/5185 [==============================] - 7s 1ms/step - loss: 1.0674 - accuracy: 0.6278\n",
      "Epoch 87/100\n",
      "5185/5185 [==============================] - 8s 1ms/step - loss: 1.0674 - accuracy: 0.6279\n",
      "Epoch 88/100\n",
      "5185/5185 [==============================] - 7s 1ms/step - loss: 1.0676 - accuracy: 0.6277\n",
      "Epoch 89/100\n",
      "5185/5185 [==============================] - 7s 1ms/step - loss: 1.0672 - accuracy: 0.6278\n",
      "Epoch 90/100\n",
      "5185/5185 [==============================] - 7s 1ms/step - loss: 1.0676 - accuracy: 0.6274\n",
      "Epoch 91/100\n",
      "5185/5185 [==============================] - 6s 1ms/step - loss: 1.0675 - accuracy: 0.6280\n",
      "Epoch 92/100\n",
      "5185/5185 [==============================] - ETA: 0s - loss: 1.0673 - accuracy: 0.62 - 7s 1ms/step - loss: 1.0672 - accuracy: 0.6275\n",
      "Epoch 93/100\n",
      "5185/5185 [==============================] - 7s 1ms/step - loss: 1.0672 - accuracy: 0.6281\n",
      "Epoch 94/100\n",
      "5185/5185 [==============================] - 7s 1ms/step - loss: 1.0670 - accuracy: 0.6283\n",
      "Epoch 95/100\n",
      "5185/5185 [==============================] - 7s 1ms/step - loss: 1.0672 - accuracy: 0.6281\n",
      "Epoch 96/100\n",
      "5185/5185 [==============================] - 7s 1ms/step - loss: 1.0666 - accuracy: 0.6279: 0s - l\n",
      "Epoch 97/100\n",
      "5185/5185 [==============================] - 7s 1ms/step - loss: 1.0671 - accuracy: 0.6282\n",
      "Epoch 98/100\n",
      "5185/5185 [==============================] - 6s 1ms/step - loss: 1.0667 - accuracy: 0.6285\n",
      "Epoch 99/100\n",
      "5185/5185 [==============================] - 7s 1ms/step - loss: 1.0668 - accuracy: 0.6283\n",
      "Epoch 100/100\n",
      "5185/5185 [==============================] - 6s 1ms/step - loss: 1.0668 - accuracy: 0.6282\n"
     ]
    },
    {
     "data": {
      "text/plain": [
       "<keras.callbacks.History at 0x16c40f05160>"
      ]
     },
     "execution_count": 35,
     "metadata": {},
     "output_type": "execute_result"
    }
   ],
   "source": [
    "# model definition\n",
    "model = ml.Sequential()\n",
    "model.add(l.Dense( 128,input_dim=x_train.shape[1], activation='relu') )\n",
    "model.add(l.Dense(12, activation=\"softmax\") )\n",
    "\n",
    "# model compile\n",
    "model.compile( loss=\"categorical_crossentropy\", optimizer=\"adam\", metrics=[\"accuracy\"] )\n",
    "\n",
    "model.fit( x_train, y_train_nn, epochs=100, verbose=0)"
   ]
  },
  {
   "cell_type": "code",
   "execution_count": 36,
   "id": "c888a6e1-c0f4-407f-82f8-9be8e604cb5e",
   "metadata": {},
   "outputs": [],
   "source": [
    "# prediction\n",
    "pred_nn = model.predict( x_test )\n",
    "\n",
    "# invert prediction\n",
    "yhat_nn = ohe.inverse_transform( pred_nn)\n",
    "\n",
    "# prediction prepare\n",
    "y_test_nn = y_test.to_numpy()\n",
    "yhat_nn = yhat_nn.reshape(1, -1)[0]"
   ]
  },
  {
   "cell_type": "markdown",
   "id": "c0b1f317-254a-4f7e-9005-d2b6eb89228f",
   "metadata": {
    "tags": []
   },
   "source": [
    "## 5.2.2 NN Performance"
   ]
  },
  {
   "cell_type": "code",
   "execution_count": 37,
   "id": "9c0d33bf-6bac-4841-8905-0a0a60b92331",
   "metadata": {},
   "outputs": [
    {
     "name": "stdout",
     "output_type": "stream",
     "text": [
      "Accuracy: 0.6288152755677708\n",
      "Balanced Accuracy: 0.10822192469811469\n",
      "Kappa Score: 0.24730798380006713\n"
     ]
    },
    {
     "name": "stderr",
     "output_type": "stream",
     "text": [
      "C:\\Users\\jonys.arcanjo\\Anaconda3\\lib\\site-packages\\sklearn\\metrics\\_classification.py:1308: UndefinedMetricWarning: Precision and F-score are ill-defined and being set to 0.0 in labels with no predicted samples. Use `zero_division` parameter to control this behavior.\n",
      "  _warn_prf(average, modifier, msg_start, len(result))\n",
      "C:\\Users\\jonys.arcanjo\\Anaconda3\\lib\\site-packages\\sklearn\\metrics\\_classification.py:1308: UndefinedMetricWarning: Precision and F-score are ill-defined and being set to 0.0 in labels with no predicted samples. Use `zero_division` parameter to control this behavior.\n",
      "  _warn_prf(average, modifier, msg_start, len(result))\n",
      "C:\\Users\\jonys.arcanjo\\Anaconda3\\lib\\site-packages\\sklearn\\metrics\\_classification.py:1308: UndefinedMetricWarning: Precision and F-score are ill-defined and being set to 0.0 in labels with no predicted samples. Use `zero_division` parameter to control this behavior.\n",
      "  _warn_prf(average, modifier, msg_start, len(result))\n"
     ]
    },
    {
     "name": "stdout",
     "output_type": "stream",
     "text": [
      "              precision    recall  f1-score   support\n",
      "\n",
      "          AU       0.00      0.00      0.00       111\n",
      "          CA       0.00      0.00      0.00       281\n",
      "          DE       0.00      0.00      0.00       215\n",
      "          ES       0.14      0.00      0.00       428\n",
      "          FR       0.50      0.00      0.00      1021\n",
      "          GB       0.00      0.00      0.00       426\n",
      "          IT       0.00      0.00      0.00       570\n",
      "         NDF       0.67      0.87      0.76     23996\n",
      "          NL       0.00      0.00      0.00       146\n",
      "          PT       0.00      0.00      0.00        48\n",
      "          US       0.50      0.43      0.46     12280\n",
      "       other       0.00      0.00      0.00      1956\n",
      "\n",
      "    accuracy                           0.63     41478\n",
      "   macro avg       0.15      0.11      0.10     41478\n",
      "weighted avg       0.55      0.63      0.58     41478\n",
      "\n"
     ]
    },
    {
     "data": {
      "text/plain": [
       "<AxesSubplot:title={'center':'Confusion Matrix'}, xlabel='Predicted label', ylabel='True label'>"
      ]
     },
     "execution_count": 37,
     "metadata": {},
     "output_type": "execute_result"
    },
    {
     "data": {
      "image/png": "[encoded data removed]",
      "text/plain": [
       "<Figure size 864x864 with 2 Axes>"
      ]
     },
     "metadata": {
      "needs_background": "light"
     },
     "output_type": "display_data"
    }
   ],
   "source": [
    "# Acurracy\n",
    "acc_nn = m.accuracy_score(y_test_nn, yhat_nn )\n",
    "print(\"Accuracy: {}\".format(acc_nn))\n",
    "\n",
    "# Balanced accuracy\n",
    "balanced_acc_nn = m.balanced_accuracy_score(y_test_nn, yhat_nn)\n",
    "print(\"Balanced Accuracy: {}\".format(balanced_acc_nn))\n",
    "\n",
    "#Kappa Metrics\n",
    "Kappa_nn = m.cohen_kappa_score(y_test_nn, yhat_nn)\n",
    "print(\"Kappa Score: {}\".format(Kappa_nn))\n",
    "\n",
    "#Classification report\n",
    "print(m.classification_report(y_test_nn, yhat_nn))\n",
    "\n",
    "\n",
    "# Confusion Matrix\n",
    "mt.plot_confusion_matrix( y_test_nn, yhat_nn, normalize=False, figsize=(12,12) )\n",
    "#"
   ]
  },
  {
   "cell_type": "markdown",
   "id": "907b7c4b-84d3-416a-861c-c3b91623e5b6",
   "metadata": {
    "tags": []
   },
   "source": [
    "## 5.2.3 NN Performance - Crsso Validation"
   ]
  },
  {
   "cell_type": "code",
   "execution_count": 39,
   "id": "69f794be-8269-4557-b05e-5733d71e578d",
   "metadata": {},
   "outputs": [
    {
     "name": "stdout",
     "output_type": "stream",
     "text": [
      "fold number: 1/5\n",
      "fold number: 2/5\n",
      "fold number: 3/5\n",
      "fold number: 4/5\n",
      "fold number: 5/5\n"
     ]
    }
   ],
   "source": [
    "# generate k-fold\n",
    "num_folds = 5\n",
    "kfold = ms.StratifiedKFold(n_splits=num_folds, shuffle=True, random_state=32)\n",
    "\n",
    "balanced_acc_nn_list =[]\n",
    "Kappa_nn_list = []\n",
    "i = 1\n",
    "for train_ix, val_ix in kfold.split(x_train, y_train):\n",
    "    print(\"fold number: {}/{}\".format(i, num_folds))\n",
    "          \n",
    "    # get fold\n",
    "    x_train_fold = x_train.iloc[train_ix]\n",
    "    y_train_fold = y_train.iloc[train_ix]\n",
    "    \n",
    "    x_val_fold = x_train.iloc[val_ix]\n",
    "    y_val_fold = y_train.iloc[val_ix]\n",
    "    \n",
    "    # target hot-encoding --> categorical to numeral\n",
    "    ohe = pp.OneHotEncoder()\n",
    "    y_train_fold_nn = ohe.fit_transform(y_train_fold.values.reshape(-1, 1)).toarray()\n",
    "\n",
    "    # model defition\n",
    "    model = ml.Sequential()\n",
    "    model.add(l.Dense(256, input_dim=x_train.shape[1], activation=\"relu\"))\n",
    "    model.add(l.Dense(12, activation=\"softmax\"))\n",
    "\n",
    "    # compile model\n",
    "    model.compile(loss=\"categorical_crossentropy\", optimizer=\"adam\", metrics=[\"accuracy\"])\n",
    "\n",
    "    # training model\n",
    "    model.fit(x_train_fold, y_train_fold_nn, epochs=100, batch_size=32, verbose=0)\n",
    "\n",
    "    # prediction\n",
    "    pred_nn = model.predict(x_val_fold)\n",
    "    yhat_nn = ohe.inverse_transform(pred_nn) # numeral to categorical\n",
    "\n",
    "\n",
    "    # prepare data\n",
    "    y_test_nn = y_val_fold.to_numpy()\n",
    "    Yhat_nn = yhat_nn.reshape(-1, 1)[0]\n",
    "\n",
    "    # metrics\n",
    "\n",
    "    # Balanced accuracy\n",
    "    balanced_acc_nn = m.balanced_accuracy_score(y_test_nn, yhat_nn)\n",
    "    balanced_acc_nn_list.append(balanced_acc_nn)\n",
    "    #print(\"Balanced Accuracy: {}\".format(balanced_acc_nn))\n",
    "\n",
    "    #Kappa Metrics\n",
    "    Kappa_nn = m.cohen_kappa_score(y_test_nn, yhat_nn)\n",
    "    Kappa_nn_list.append(Kappa_nn)\n",
    "    #print(\"Kappa Score: {}\".format(Kappa_nn))\n",
    "\n",
    "    i += 1"
   ]
  },
  {
   "cell_type": "code",
   "execution_count": 49,
   "id": "2c1af61f-f3aa-4937-a2a5-b0c229ea807b",
   "metadata": {},
   "outputs": [
    {
     "name": "stdout",
     "output_type": "stream",
     "text": [
      "avg Balanced Accuracy:  0.1059 +/- 0.0023\n"
     ]
    }
   ],
   "source": [
    "print(\"avg Balanced Accuracy:  {} +/- {}\".format(round(np.mean(balanced_acc_nn_list), 4),\n",
    "                                                np.round(np.std(balanced_acc_nn_list), 4)))\n"
   ]
  },
  {
   "cell_type": "code",
   "execution_count": 50,
   "id": "8b1ece8d-cbde-425f-8099-071f368ce267",
   "metadata": {},
   "outputs": [
    {
     "name": "stdout",
     "output_type": "stream",
     "text": [
      "avg Kappa score: 0.2244 +/- 0.0188\n"
     ]
    }
   ],
   "source": [
    "print(\"avg Kappa score: {} +/- {}\".format(np.round(np.mean(Kappa_nn_list), 4),\n",
    "                                          np.round(np.std(Kappa_nn_list), 4)))"
   ]
  },
  {
   "cell_type": "code",
   "execution_count": null,
   "id": "55508bfb-186f-41a1-b298-2a087e1fe678",
   "metadata": {},
   "outputs": [],
   "source": []
  }
 ],
 "metadata": {
  "kernelspec": {
   "display_name": "Python 3 (ipykernel)",
   "language": "python",
   "name": "python3"
  },
  "language_info": {
   "codemirror_mode": {
    "name": "ipython",
    "version": 3
   },
   "file_extension": ".py",
   "mimetype": "text/x-python",
   "name": "python",
   "nbconvert_exporter": "python",
   "pygments_lexer": "ipython3",
   "version": "3.8.8"
  },
  "toc-autonumbering": false,
  "toc-showcode": false,
  "toc-showmarkdowntxt": false,
  "toc-showtags": false
 },
 "nbformat": 4,
 "nbformat_minor": 5
}
